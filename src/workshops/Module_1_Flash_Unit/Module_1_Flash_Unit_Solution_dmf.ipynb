{
 "cells": [
  {
   "cell_type": "markdown",
   "metadata": {},
   "source": [
    "# Module 1: Flash Unit\n",
    "In this module, we will familiarize ourselves with the IDAES framework by creating and working with a flowsheet that contains a single flash tank. The flash tank will be used to perform separation of Benzene and Toluene. The inlet specifications for this flash tank are:\n",
    "\n",
    "Inlet Specifications:\n",
    "* Mole fraction (Benzene) = 0.5\n",
    "* Mole fraction (Toluene) = 0.5\n",
    "* Pressure = 101325 Pa\n",
    "* Temperature = 368 K\n",
    "\n",
    "We will complete the following tasks:\n",
    "* Create the model and the IDAES Flowsheet object\n",
    "* Import the appropriate property packages\n",
    "* Create the flash unit and set the operating conditions\n",
    "* Initialize the model and simulate the system\n",
    "* Demonstrate analyses on this model through some examples and exercises\n",
    "\n",
    "## Key links to documentation\n",
    "* Main IDAES online documentation page: https://idaes-pse.readthedocs.io/en/latest/index.html\n",
    "* Core IDAES Library: https://idaes-pse.readthedocs.io/en/latest/core/index.html\n",
    "    * Flowsheet: https://idaes-pse.readthedocs.io/en/latest/core/flowsheet_model.html\n",
    "    * Property Packages: https://idaes-pse.readthedocs.io/en/latest/core/properties.html\n",
    "    * Unit Model: https://idaes-pse.readthedocs.io/en/latest/core/unit_model.html\n",
    "* Modeling Standards: https://idaes-pse.readthedocs.io/en/latest/standards.html\n",
    "    * Naming Conventions: https://idaes-pse.readthedocs.io/en/latest/standards.html#standard-naming-format\n",
    "* IDAES Unit Model Library: https://idaes-pse.readthedocs.io/en/latest/model_libraries/core_library/unit_models/index.html\n",
    "\n",
    "## Create the Model and the IDAES Flowsheet\n",
    "\n",
    "In the next cell, we will perform the necessary imports to get us started. From `pyomo.environ` (a standard import for the Pyomo package), we are importing `ConcreteModel` (to create the Pyomo model that will contain the IDAES flowsheet) and `SolverFactory` (to create the object we will use to solve the equations). We will also import `Constraint` as we will be adding a constraint to the model later in the module. Lastly, we also import `value` from Pyomo. This is a function that can be used to return the current numerical value for variables and parameters in the model. These are all part of Pyomo.\n",
    "\n",
    "We will also import the main `FlowsheetBlock` from IDAES. The flowsheet block will contain our unit model.\n",
    "\n",
    "<div class=\"alert alert-block alert-info\">\n",
    "<b>Inline Exercise:</b>\n",
    "Execute the cell below to perform the imports. Let a workshop organizer know if you see any errors.\n",
    "</div>"
   ]
  },
  {
   "cell_type": "code",
   "execution_count": 4,
   "metadata": {},
   "outputs": [],
   "source": [
    "from pyomo.environ import ConcreteModel, SolverFactory, Constraint, value\n",
    "from idaes.core import FlowsheetBlock\n",
    "\n",
    "# Import idaes logger to set output levels\n",
    "import idaes.logger as idaeslog"
   ]
  },
  {
   "cell_type": "code",
   "execution_count": 5,
   "metadata": {},
   "outputs": [
    {
     "name": "stderr",
     "output_type": "stream",
     "text": [
      "2020-06-12 18:12:12,161 [WARNING] idaes.dmf.dmfbase: Path to built HTML documentation is not set. The DMF \"help\" command will not work. To set this path, set \"htmldocs\" in the DMF configuration file.\n",
      "2020-06-12 18:12:12,170 [WARNING] idaes.dmf.dmfbase: Path to built HTML documentation is not set. The DMF \"help\" command will not work. To set this path, set \"htmldocs\" in the DMF configuration file.\n"
     ]
    },
    {
     "data": {
      "text/markdown": [
       "*Success!* Using workspace at \"../workspace\""
      ]
     },
     "metadata": {},
     "output_type": "display_data"
    }
   ],
   "source": [
    "# setup DMF\n",
    "from idaes.dmf import DMF, magics\n",
    "import os\n",
    "dmf_ws = os.path.join(\"..\", \"workspace\")\n",
    "_dmf = DMF(dmf_ws)\n",
    "%dmf init ../workspace"
   ]
  },
  {
   "cell_type": "markdown",
   "metadata": {},
   "source": [
    "In the next cell, we will create the `ConcreteModel` and the `FlowsheetBlock`, and attach the flowsheet block to the Pyomo model.\n",
    "\n",
    "<div class=\"alert alert-block alert-info\">\n",
    "<b>Inline Exercise:</b>\n",
    "Execute the cell below to create the objects\n",
    "</div>"
   ]
  },
  {
   "cell_type": "code",
   "execution_count": 6,
   "metadata": {},
   "outputs": [],
   "source": [
    "m = ConcreteModel()\n",
    "m.fs = FlowsheetBlock(default={\"dynamic\": False})"
   ]
  },
  {
   "cell_type": "markdown",
   "metadata": {},
   "source": [
    "At this point, we have a single Pyomo model that contains an (almost) empty flowsheet block.\n",
    "\n",
    "<div class=\"alert alert-block alert-info\">\n",
    "<b>Inline Exercise:</b>\n",
    "Use the pprint method on the model, i.e. m.pprint(), to see what is currently contained in the model.\n",
    "</div>"
   ]
  },
  {
   "cell_type": "code",
   "execution_count": 7,
   "metadata": {},
   "outputs": [
    {
     "name": "stdout",
     "output_type": "stream",
     "text": [
      "1 Block Declarations\n",
      "    fs : Size=1, Index=None, Active=True\n",
      "        1 Set Declarations\n",
      "            time : Size=1, Index=None, Ordered=Insertion\n",
      "                Key  : Dimen : Domain : Size : Members\n",
      "                None :     1 :    Any :    1 :  {0.0,}\n",
      "\n",
      "        1 Declarations: time\n",
      "\n",
      "1 Declarations: fs\n"
     ]
    }
   ],
   "source": [
    "# Todo: call pprint on the model\n",
    "m.pprint()"
   ]
  },
  {
   "cell_type": "markdown",
   "metadata": {},
   "source": [
    "## Define Properties\n",
    "\n",
    "We need to define the property package for our flowsheet. In this example, we will be using the ideal property package that is available as part of the IDAES framework. This property package supports ideal gas - ideal liquid, ideal gas - NRTL, and ideal gas - Wilson models for VLE. More details on this property package can be found at: https://idaes-pse.readthedocs.io/en/latest/model_libraries/core_library/property_models/activity_coefficient.html\n",
    "\n",
    "IDAES also supports creation of your own property packages that allow for specification of the fluid using any set of valid state variables (e.g., component molar flows vs overall flow and mole fractions). This flexibility is designed to support advanced modeling needs that may rely on specific formulations. To learn about creating your own property package, please consult the online documentation at: https://idaes-pse.readthedocs.io/en/latest/core/properties.html and look at examples within IDAES\n",
    "\n",
    "For this workshop, we will import the BTX_activity_coeff_VLE property parameter block to be used in the flowsheet. This properties block will be passed to our unit model to define the appropriate state variables and equations for performing thermodynamic calculations.\n",
    "\n",
    "<div class=\"alert alert-block alert-info\">\n",
    "<b>Inline Exercise:</b>\n",
    "Execute the following two cells to import and create the properties block.\n",
    "</div>"
   ]
  },
  {
   "cell_type": "code",
   "execution_count": 8,
   "metadata": {},
   "outputs": [],
   "source": [
    "from idaes.generic_models.properties.activity_coeff_models.BTX_activity_coeff_VLE \\\n",
    "    import BTXParameterBlock"
   ]
  },
  {
   "cell_type": "code",
   "execution_count": 10,
   "metadata": {},
   "outputs": [],
   "source": [
    "#m.fs.properties = BTXParameterBlock(default={\"valid_phase\": ('Liq', 'Vap'),\n",
    "#                                            \"activity_coeff_model\": \"Ideal\",\n",
    "#                                            \"state_vars\": \"FTPz\"})\n",
    "# Instead use NRTL\n",
    "\n",
    "def NRTL_model(model, data):\n",
    "    props = model.fs.properties = BTXParameterBlock(default={\"valid_phase\":\n",
    "                                                 ('Liq', 'Vap'),\n",
    "                                                 \"activity_coeff_model\":\n",
    "                                                 'NRTL'})\n",
    "    # Fix NRTL specific variables\n",
    "    # alpha values (set at 0.3)\n",
    "    props.alpha[\"benzene\", \"benzene\"].fix(0)\n",
    "    props.alpha[\"benzene\", \"toluene\"].fix(0.3)\n",
    "    props.alpha[\"toluene\", \"toluene\"].fix(0)\n",
    "    props.alpha[\"toluene\", \"benzene\"].fix(0.3)\n",
    "\n",
    "    # initial tau values\n",
    "    tau = data[\"parameters\"][\"tau\"]\n",
    "    props.tau[\"benzene\", \"benzene\"].fix(0)\n",
    "    props.tau[\"benzene\", \"toluene\"].fix(tau[\"benzene,toluene\"])\n",
    "    props.tau[\"toluene\", \"toluene\"].fix(0)\n",
    "    props.tau[\"toluene\", \"benzene\"].fix(tau[\"toluene,benzene\"])\n",
    "\n",
    "    # Set bounds on variables to be estimated\n",
    "    props.tau[\"benzene\", \"toluene\"].setlb(-5)\n",
    "    props.tau[\"benzene\", \"toluene\"].setub(5)\n",
    "\n",
    "    props.tau[\"toluene\", \"benzene\"].setlb(-5)\n",
    "    props.tau[\"toluene\", \"benzene\"].setub(5)\n",
    "\n",
    "data = _dmf.find_one(name=\"BT NRTL est param1\").data\n",
    "NRTL_model(m, data)"
   ]
  },
  {
   "cell_type": "markdown",
   "metadata": {},
   "source": [
    "## Adding Flash Unit\n",
    "\n",
    "Now that we have the flowsheet and the properties defined, we can create the flash unit and add it to the flowsheet. \n",
    "\n",
    "**The Unit Model Library within IDAES includes a large set of common unit operations (see the online documentation for details: https://idaes-pse.readthedocs.io/en/latest/model_libraries/core_library/unit_models/index.html**\n",
    "\n",
    "IDAES also fully supports the development of customized unit models (which we will see in a later module).\n",
    "\n",
    "Some of the IDAES pre-written unit models:\n",
    "* Mixer / Splitter\n",
    "* Heater / Cooler\n",
    "* Heat Exchangers (simple and 1D discretized)\n",
    "* Flash\n",
    "* Reactors (kinetic, equilibrium, gibbs, stoichiometric conversion)\n",
    "* Pressure changing equipment (compressors, expanders, pumps)\n",
    "* Feed and Product (source / sink) components\n",
    "\n",
    "In this module, we will import the `Flash` unit model from `idaes.generic_models.unit_models` and create an instance of the flash unit, attaching it to the flowsheet. Each IDAES unit model has several configurable options to customize the model behavior, but also includes defaults for these options. In this example, we will specify that the property package to be used with the Flash is the one we created earlier.\n",
    "\n",
    "<div class=\"alert alert-block alert-info\">\n",
    "<b>Inline Exercise:</b>\n",
    "Execute the following two cells to import the Flash and create an instance of the unit model, attaching it to the flowsheet object.\n",
    "</div>"
   ]
  },
  {
   "cell_type": "code",
   "execution_count": 11,
   "metadata": {},
   "outputs": [],
   "source": [
    "from idaes.generic_models.unit_models import Flash"
   ]
  },
  {
   "cell_type": "code",
   "execution_count": 12,
   "metadata": {},
   "outputs": [],
   "source": [
    "m.fs.flash = Flash(default={\"property_package\": m.fs.properties})"
   ]
  },
  {
   "cell_type": "markdown",
   "metadata": {},
   "source": [
    "At this point, we have created a flowsheet and a properties block. We have also created a flash unit and added it to the flowsheet. Under the hood, IDAES has created the required state variables and model equations. Everything is open. You can see these variables and equations by calling the Pyomo method `pprint` on the model, flowsheet, or flash tank objects. Note that this output is very exhaustive, and is not intended to provide any summary information about the model, but rather a complete picture of all of the variables and equations in the model."
   ]
  },
  {
   "cell_type": "markdown",
   "metadata": {},
   "source": [
    "## Set Operating Conditions\n",
    "\n",
    "Now that we have created our unit model, we can specify the necessary operating conditions. It is often very useful to determine the degrees of freedom before we specify any conditions.\n",
    "\n",
    "The `idaes.core.util.model_statistics` package has a function `degrees_of_freedom`. To see how to use this function, we can make use of the Python function `help(func)`. This function prints the appropriate documentation string for the function.\n",
    "\n",
    "<div class=\"alert alert-block alert-info\">\n",
    "<b>Inline Exercise:</b>\n",
    "Import the degrees_of_freedom function and print the help for the function by calling the Python help function.\n",
    "</div>"
   ]
  },
  {
   "cell_type": "code",
   "execution_count": 13,
   "metadata": {},
   "outputs": [
    {
     "name": "stdout",
     "output_type": "stream",
     "text": [
      "Help on function degrees_of_freedom in module idaes.core.util.model_statistics:\n",
      "\n",
      "degrees_of_freedom(block)\n",
      "    Method to return the degrees of freedom of a model.\n",
      "    \n",
      "    Args:\n",
      "        block : model to be studied\n",
      "    \n",
      "    Returns:\n",
      "        Number of degrees of freedom in block.\n",
      "\n"
     ]
    }
   ],
   "source": [
    "# Todo: import the degrees_of_freedom function from the idaes.core.util.model_statistics package\n",
    "from idaes.core.util.model_statistics import degrees_of_freedom\n",
    "\n",
    "# Todo: Call the python help on the degrees_of_freedom function\n",
    "help(degrees_of_freedom)"
   ]
  },
  {
   "cell_type": "markdown",
   "metadata": {},
   "source": [
    "<div class=\"alert alert-block alert-info\">\n",
    "<b>Inline Exercise:</b>\n",
    "Now print the degrees of freedom for your model. The result should be 7.\n",
    "</div>"
   ]
  },
  {
   "cell_type": "code",
   "execution_count": 14,
   "metadata": {},
   "outputs": [
    {
     "name": "stdout",
     "output_type": "stream",
     "text": [
      "Degrees of Freedom = 7\n"
     ]
    }
   ],
   "source": [
    "# Todo: print the degrees of freedom for your model\n",
    "print(\"Degrees of Freedom =\", degrees_of_freedom(m))"
   ]
  },
  {
   "cell_type": "markdown",
   "metadata": {},
   "source": [
    "To satisfy our degrees of freedom, we will first specify the inlet conditions. We can specify these values through the `inlet` port of the flash unit.\n",
    "\n",
    "**To see the list of naming conventions for variables within the IDAES framework, consult the online documentation at: https://idaes-pse.readthedocs.io/en/latest/standards.html#standard-naming-format**\n",
    "\n",
    "As an  example, to fix the molar flow of the inlet to be 1.0, you can use the following notation:\n",
    "```python\n",
    "m.fs.flash.inlet.flow_mol.fix(1.0)\n",
    "```\n",
    "\n",
    "To specify variables that are indexed by components, you can use the following notation:\n",
    "```python\n",
    "m.fs.flash.inlet.mole_frac_comp[0, \"benzene\"].fix(0.5)\n",
    "```\n",
    "\n",
    "<div class=\"alert alert-block alert-warning\">\n",
    "<b>Note:</b>\n",
    "The \"0\" in the indexing of the component mole fraction is present because IDAES models support both dynamic and steady state simulation, and the \"0\" refers to a timestep. Dynamic modeling is beyond the scope of this workshop. Since we are performing steady state modeling, there is only a single timestep in the model.\n",
    "</div>\n",
    "\n",
    "In the next cell, we will specify the inlet conditions. To satisfy the remaining degrees of freedom, we will make two additional specifications on the flash tank itself. The names of the key variables within the Flash unit model can also be found in the online documentation: https://idaes-pse.readthedocs.io/en/latest/model_libraries/core_library/unit_models/flash.html#variables.\n",
    "\n",
    "\n",
    "To specify the value of a variable on the unit itself, use the following notation.\n",
    "\n",
    "```python\n",
    "m.fs.flash.heat_duty.fix(0)\n",
    "```\n",
    "\n",
    "For this module, we will use the following specifications:\n",
    "* inlet overall molar flow = 1.0 (`flow_mol`)\n",
    "* inlet temperature = 368 K (`temperature`)\n",
    "* inlet pressure = 101325 Pa (`pressure`)\n",
    "* inlet mole fraction (benzene) = 0.5 (`mole_frac_comp[0, \"benzene\"]`)\n",
    "* inlet mole fraction (toluene) = 0.5 (`mole_frac_comp[0, \"toluene\"]`)\n",
    "* The heat duty on the flash set to 0 (`heat_duty`)\n",
    "* The pressure drop across the flash tank set to 0 (`deltaP`)\n",
    "\n",
    "<div class=\"alert alert-block alert-info\">\n",
    "<b>Inline Exercise:</b>\n",
    "Write the code below to specify the inlet conditions and unit specifications described above\n",
    "</div>"
   ]
  },
  {
   "cell_type": "code",
   "execution_count": 17,
   "metadata": {},
   "outputs": [],
   "source": [
    "# Inlet specifications given above\n",
    "m.fs.flash.inlet.flow_mol.fix(1)\n",
    "m.fs.flash.inlet.temperature.fix(368)\n",
    "m.fs.flash.inlet.pressure.fix(101325)\n",
    "m.fs.flash.inlet.mole_frac_comp[0, \"benzene\"].fix()\n",
    "m.fs.flash.inlet.mole_frac_comp[0, \"toluene\"].fix(0.5)\n",
    "\n",
    "# Todo: add code for the 2 flash unit specifications given above\n",
    "m.fs.flash.heat_duty.fix(0)\n",
    "m.fs.flash.deltaP.fix(0)"
   ]
  },
  {
   "cell_type": "markdown",
   "metadata": {},
   "source": [
    "<div class=\"alert alert-block alert-info\">\n",
    "<b>Inline Exercise:</b>\n",
    "Check the degrees of freedom again to ensure that the system is now square. You should see that the degrees of freedom is now 0.\n",
    "</div>"
   ]
  },
  {
   "cell_type": "code",
   "execution_count": 18,
   "metadata": {},
   "outputs": [
    {
     "name": "stdout",
     "output_type": "stream",
     "text": [
      "Degrees of Freedom = 0\n"
     ]
    }
   ],
   "source": [
    "# Todo: print the degrees of freedom for your model\n",
    "print(\"Degrees of Freedom =\", degrees_of_freedom(m))"
   ]
  },
  {
   "cell_type": "markdown",
   "metadata": {},
   "source": [
    "## Initializing the Model\n",
    "\n",
    "IDAES includes pre-written initialization routines for all unit models. You can call this initialize method on the units. In the next module, we will demonstrate the use of a sequential modular solve cycle to initialize flowsheets.\n",
    "\n",
    "<div class=\"alert alert-block alert-info\">\n",
    "<b>Inline Exercise:</b>\n",
    "Call the initialize method on the flash unit to initialize the model.\n",
    "</div>"
   ]
  },
  {
   "cell_type": "code",
   "execution_count": 19,
   "metadata": {},
   "outputs": [
    {
     "name": "stdout",
     "output_type": "stream",
     "text": [
      "2020-06-12 18:15:33 [INFO] idaes.init.fs.flash.control_volume.properties_in: Initialization Step 1 optimal - Optimal Solution Found.\n",
      "2020-06-12 18:15:33 [INFO] idaes.init.fs.flash.control_volume.properties_in: Initialization Step 2 optimal - Optimal Solution Found.\n",
      "2020-06-12 18:15:33 [INFO] idaes.init.fs.flash.control_volume.properties_in: Initialization Step 3 optimal - Optimal Solution Found.\n",
      "2020-06-12 18:15:33 [INFO] idaes.init.fs.flash.control_volume.properties_in: Initialization Step 4 optimal - Optimal Solution Found.\n",
      "2020-06-12 18:15:33 [INFO] idaes.init.fs.flash.control_volume.properties_in: Initialization Step 5 optimal - Optimal Solution Found.\n",
      "2020-06-12 18:15:33 [INFO] idaes.init.fs.flash.control_volume.properties_out: Initialization Step 1 optimal - Optimal Solution Found.\n",
      "2020-06-12 18:15:33 [INFO] idaes.init.fs.flash.control_volume.properties_out: Initialization Step 2 optimal - Optimal Solution Found.\n",
      "2020-06-12 18:15:33 [INFO] idaes.init.fs.flash.control_volume.properties_out: Initialization Step 3 optimal - Optimal Solution Found.\n",
      "2020-06-12 18:15:33 [INFO] idaes.init.fs.flash.control_volume.properties_out: Initialization Step 4 optimal - Optimal Solution Found.\n",
      "2020-06-12 18:15:34 [INFO] idaes.init.fs.flash.control_volume.properties_out: Initialization Step 5 optimal - Optimal Solution Found.\n",
      "2020-06-12 18:15:34 [INFO] idaes.init.fs.flash.control_volume.properties_out: State Released.\n",
      "2020-06-12 18:15:34 [INFO] idaes.init.fs.flash.control_volume: Initialization Complete\n",
      "2020-06-12 18:15:34 [INFO] idaes.init.fs.flash: Initialization Complete: optimal - Optimal Solution Found\n"
     ]
    }
   ],
   "source": [
    "# Todo: initialize the flash unit\n",
    "m.fs.flash.initialize(outlvl=idaeslog.INFO)"
   ]
  },
  {
   "cell_type": "markdown",
   "metadata": {},
   "source": [
    "Now that the model has been defined and intialized, we can solve the model.\n",
    "\n",
    "<div class=\"alert alert-block alert-info\">\n",
    "<b>Inline Exercise:</b>\n",
    "Using the notation described in the previous model, create an instance of the \"ipopt\" solver and use it to solve the model. Set the tee option to True to see the log output.\n",
    "</div>"
   ]
  },
  {
   "cell_type": "code",
   "execution_count": 20,
   "metadata": {},
   "outputs": [
    {
     "name": "stdout",
     "output_type": "stream",
     "text": [
      "Ipopt 3.13.2: \n",
      "\n",
      "******************************************************************************\n",
      "This program contains Ipopt, a library for large-scale nonlinear optimization.\n",
      " Ipopt is released as open source code under the Eclipse Public License (EPL).\n",
      "         For more information visit http://projects.coin-or.org/Ipopt\n",
      "\n",
      "This version of Ipopt was compiled from source code available at\n",
      "    https://github.com/IDAES/Ipopt as part of the Institute for the Design of\n",
      "    Advanced Energy Systems Process Systems Engineering Framework (IDAES PSE\n",
      "    Framework) Copyright (c) 2018-2019. See https://github.com/IDAES/idaes-pse.\n",
      "\n",
      "This version of Ipopt was compiled using HSL, a collection of Fortran codes\n",
      "    for large-scale scientific computation.  All technical papers, sales and\n",
      "    publicity material resulting from use of the HSL codes within IPOPT must\n",
      "    contain the following acknowledgement:\n",
      "        HSL, a collection of Fortran codes for large-scale scientific\n",
      "        computation. See http://www.hsl.rl.ac.uk.\n",
      "******************************************************************************\n",
      "\n",
      "This is Ipopt version 3.13.2, running with linear solver ma27.\n",
      "\n",
      "Number of nonzeros in equality constraint Jacobian...:      195\n",
      "Number of nonzeros in inequality constraint Jacobian.:        0\n",
      "Number of nonzeros in Lagrangian Hessian.............:       96\n",
      "\n",
      "Total number of variables............................:       57\n",
      "                     variables with only lower bounds:        3\n",
      "                variables with lower and upper bounds:       10\n",
      "                     variables with only upper bounds:        0\n",
      "Total number of equality constraints.................:       57\n",
      "Total number of inequality constraints...............:        0\n",
      "        inequality constraints with only lower bounds:        0\n",
      "   inequality constraints with lower and upper bounds:        0\n",
      "        inequality constraints with only upper bounds:        0\n",
      "\n",
      "iter    objective    inf_pr   inf_du lg(mu)  ||d||  lg(rg) alpha_du alpha_pr  ls\n",
      "   0  0.0000000e+00 1.16e-10 1.00e+00  -1.0 0.00e+00    -  0.00e+00 0.00e+00   0\n",
      "\n",
      "Number of Iterations....: 0\n",
      "\n",
      "                                   (scaled)                 (unscaled)\n",
      "Objective...............:   0.0000000000000000e+00    0.0000000000000000e+00\n",
      "Dual infeasibility......:   0.0000000000000000e+00    0.0000000000000000e+00\n",
      "Constraint violation....:   3.9017260912182560e-12    1.1641532182693481e-10\n",
      "Complementarity.........:   0.0000000000000000e+00    0.0000000000000000e+00\n",
      "Overall NLP error.......:   3.9017260912182560e-12    1.1641532182693481e-10\n",
      "\n",
      "\n",
      "Number of objective function evaluations             = 1\n",
      "Number of objective gradient evaluations             = 1\n",
      "Number of equality constraint evaluations            = 1\n",
      "Number of inequality constraint evaluations          = 0\n",
      "Number of equality constraint Jacobian evaluations   = 1\n",
      "Number of inequality constraint Jacobian evaluations = 0\n",
      "Number of Lagrangian Hessian evaluations             = 0\n",
      "Total CPU secs in IPOPT (w/o function evaluations)   =      0.002\n",
      "Total CPU secs in NLP function evaluations           =      0.000\n",
      "\n",
      "EXIT: Optimal Solution Found.\n"
     ]
    }
   ],
   "source": [
    "# Todo: create the ipopt solver\n",
    "solver = SolverFactory('ipopt')\n",
    "\n",
    "# Todo: solve the model\n",
    "status = solver.solve(m, tee=True)"
   ]
  },
  {
   "cell_type": "code",
   "execution_count": null,
   "metadata": {},
   "outputs": [],
   "source": [
    "# For testing purposes\n",
    "from pyomo.environ import TerminationCondition\n",
    "assert status.solver.termination_condition == TerminationCondition.optimal"
   ]
  },
  {
   "cell_type": "markdown",
   "metadata": {},
   "source": [
    "## Viewing the Results\n",
    "\n",
    "Once a model is solved, the values returned by the solver are loaded into the model object itself. We can access the value of any variable in the model with the `value` function. For example:\n",
    "```python\n",
    "print('Vap. Outlet Temperature = ', value(m.fs.flash.vap_outlet.temperature[0]))\n",
    "```\n",
    "\n",
    "You can also find more information about a variable or an entire port using the `display` method from Pyomo:\n",
    "```python\n",
    "m.fs.flash.vap_outlet.temperature.display()\n",
    "m.fs.flash.vap_outlet.display()\n",
    "```\n",
    "\n",
    "<div class=\"alert alert-block alert-info\">\n",
    "<b>Inline Exercise:</b>\n",
    "Execute the cells below to show the current value of the flash vapor outlet pressure. This cell also shows use of the display function to see the values of the variables in the vap_outlet and the liq_outlet.\n",
    "</div>"
   ]
  },
  {
   "cell_type": "code",
   "execution_count": null,
   "metadata": {},
   "outputs": [],
   "source": [
    "# Print the pressure of the flash vapor outlet\n",
    "print('Pressure =', value(m.fs.flash.vap_outlet.pressure[0]))\n",
    "\n",
    "print()\n",
    "print('Output from display:')\n",
    "# Call display on vap_outlet and liq_outlet of the flash\n",
    "m.fs.flash.vap_outlet.display()\n",
    "m.fs.flash.liq_outlet.display()"
   ]
  },
  {
   "cell_type": "markdown",
   "metadata": {},
   "source": [
    "The output from `display` is quite exhaustive and not really intended to provide quick summary information. Because Pyomo is built on Python, there are opportunities to format the output any way we like. Most IDAES models have a `report` method which provides a summary of the results for the model.\n",
    "\n",
    "<div class=\"alert alert-block alert-info\">\n",
    "<b>Inline Exercise:</b>\n",
    "Execute the cell below which uses the function above to print a summary of the key variables in the flash model, including the inlet, the vapor, and the liquid ports.  \n",
    "</div>"
   ]
  },
  {
   "cell_type": "code",
   "execution_count": null,
   "metadata": {},
   "outputs": [],
   "source": [
    "m.fs.flash.report()"
   ]
  },
  {
   "cell_type": "markdown",
   "metadata": {},
   "source": [
    "## Studying Purity as a Function of Heat Duty\n",
    "\n",
    "Since the entire modeling framework is built upon Python, it includes a complete programming environment for whatever analysis we may want to perform. In this next exercise, we will make use of what we learned in this and the previous module to generate a figure showing some output variables as a function of the heat duty in the flash tank.\n",
    "\n",
    "First, let's import the matplotlib package for plotting as we did in the previous module.\n",
    "<div class=\"alert alert-block alert-info\">\n",
    "<b>Inline Exercise:</b>\n",
    "Execute the cell below to import matplotlib appropriately.\n",
    "</div>"
   ]
  },
  {
   "cell_type": "code",
   "execution_count": null,
   "metadata": {},
   "outputs": [],
   "source": [
    "import matplotlib.pyplot as plt"
   ]
  },
  {
   "cell_type": "markdown",
   "metadata": {},
   "source": [
    "Exercise specifications:\n",
    "* Generate a figure showing the flash tank heat duty (`m.fs.flash.heat_duty[0]`) vs. the vapor flowrate (`m.fs.flash.vap_outlet.flow_mol[0]`)\n",
    "* Specify the heat duty from -17000 to 25000 over 50 steps\n",
    "\n",
    "<div class=\"alert alert-block alert-info\">\n",
    "<b>Inline Exercise:</b>\n",
    "Using what you have learned so far, fill in the missing code below to generate the figure specified above. (Hint: import numpy and use the linspace function from the previous module)\n",
    "</div>"
   ]
  },
  {
   "cell_type": "code",
   "execution_count": null,
   "metadata": {
    "scrolled": true
   },
   "outputs": [],
   "source": [
    "# import the solve_successful checking function from workshop tools\n",
    "from workshoptools import solve_successful\n",
    "\n",
    "# Todo: import numpy\n",
    "import numpy as np\n",
    "\n",
    "# create the empty lists to store the results that will be plotted\n",
    "Q = []\n",
    "V = []\n",
    "\n",
    "# create the solver\n",
    "solver = SolverFactory('ipopt')\n",
    "\n",
    "# Todo: Write the for loop specification using numpy's linspace\n",
    "for duty in np.linspace(-17000, 25000, 50):\n",
    "    # fix the heat duty\n",
    "    m.fs.flash.heat_duty.fix(duty)\n",
    "    \n",
    "    # append the value of the duty to the Q list\n",
    "    Q.append(duty)\n",
    "    \n",
    "    # print the current simulation\n",
    "    print(\"Simulating with Q = \", value(m.fs.flash.heat_duty[0]))\n",
    "\n",
    "    # Solve the model\n",
    "    status = solver.solve(m)\n",
    "    \n",
    "    # append the value for vapor fraction if the solve was successful\n",
    "    if solve_successful(status):\n",
    "        V.append(value(m.fs.flash.vap_outlet.flow_mol[0]))\n",
    "        print('... solve successful.')\n",
    "    else:\n",
    "        V.append(0.0)\n",
    "        print('... solve failed.')\n",
    "    \n",
    "# Create and show the figure\n",
    "plt.figure(\"Vapor Fraction\")\n",
    "plt.plot(Q, V)\n",
    "plt.grid()\n",
    "plt.xlabel(\"Heat Duty [J]\")\n",
    "plt.ylabel(\"Vapor Fraction [-]\")\n",
    "plt.show()"
   ]
  },
  {
   "cell_type": "markdown",
   "metadata": {},
   "source": [
    "<div class=\"alert alert-block alert-info\">\n",
    "<b>Inline Exercise:</b>\n",
    "Repeate the exercise above, but create a figure showing the heat duty vs. the mole fraction of Benzene in the vapor outlet. Remove any unnecessary printing to create cleaner results.\n",
    "</div>"
   ]
  },
  {
   "cell_type": "code",
   "execution_count": null,
   "metadata": {},
   "outputs": [],
   "source": [
    "# Todo: generate a figure of heat duty vs. mole fraction of Benzene in the vapor\n",
    "Q = []\n",
    "V = []\n",
    "\n",
    "m.fs.flash.heat_duty.fix(0)\n",
    "\n",
    "m.fs.flash.initialize()\n",
    "\n",
    "for duty in np.linspace(-17000, 25000, 50):\n",
    "    # fix the heat duty\n",
    "    m.fs.flash.heat_duty.fix(duty)\n",
    "    \n",
    "    # append the value of the duty to the Q list\n",
    "    Q.append(duty)\n",
    "    \n",
    "    # solve the model\n",
    "    status = solver.solve(m)\n",
    "    \n",
    "    # append the value for vapor fraction if the solve was successful\n",
    "    if solve_successful(status):\n",
    "        V.append(value(m.fs.flash.vap_outlet.mole_frac_comp[0, \"benzene\"]))\n",
    "    else:\n",
    "        V.append(0.0)\n",
    "        print('... solve failed.')\n",
    "    \n",
    "plt.figure(\"Purity\")\n",
    "plt.plot(Q, V)\n",
    "plt.grid()\n",
    "plt.xlabel(\"Heat Duty [J]\")\n",
    "plt.ylabel(\"Vapor Benzene Mole Fraction [-]\")\n",
    "plt.show()\n"
   ]
  },
  {
   "cell_type": "markdown",
   "metadata": {},
   "source": [
    "Recall that the IDAES framework is an equation-oriented modeling environment. This means that we can specify \"design\" problems natively. That is, there is no need to have our specifications on the inlet alone. We can put specifications on the outlet as long as we retain a well-posed, square system of equations.\n",
    "\n",
    "For example, we can remove the specification on heat duty and instead specify that we want the mole fraction of Benzene in the vapor outlet to be equal to 0.6. The mole fraction is not a native variable in the property block, so we cannot use \"fix\". We can, however, add a constraint to the model.\n",
    "\n",
    "Note that we have been executing a number of solves on the problem, and may not be sure of the current state. To help convergence, therefore, we will first call initialize, then add the new constraint and solve the problem. Note that the reference for the mole fraction of Benzene in the vapor outlet is `m.fs.flash.vap_outlet.mole_frac_comp[0, \"benzene\"]`.\n",
    "\n",
    "<div class=\"alert alert-block alert-info\">\n",
    "<b>Inline Exercise:</b>\n",
    "Fill in the missing code below and add a constraint on the mole fraction of Benzene (to a value of 0.6) to find the required heat duty.\n",
    "</div>\n"
   ]
  },
  {
   "cell_type": "code",
   "execution_count": null,
   "metadata": {},
   "outputs": [],
   "source": [
    "# re-initialize the model - this may or may not be required depending on current state but safe to initialize\n",
    "m.fs.flash.heat_duty.fix(0)\n",
    "m.fs.flash.initialize()\n",
    "\n",
    "# Unfix the heat_duty variable\n",
    "m.fs.flash.heat_duty.unfix()\n",
    "\n",
    "# Todo: Add a new constraint (benzene mole fraction to 0.6)\n",
    "m.benz_purity_con = Constraint(expr= m.fs.flash.vap_outlet.mole_frac_comp[0, \"benzene\"] == 0.6)\n",
    "\n",
    "# solve the problem\n",
    "status = solver.solve(m, tee=True)\n",
    "\n",
    "# Check stream condition\n",
    "m.fs.flash.report()"
   ]
  },
  {
   "cell_type": "code",
   "execution_count": null,
   "metadata": {},
   "outputs": [],
   "source": [
    "# For testing purposes\n",
    "from pyomo.environ import TerminationCondition\n",
    "assert status.solver.termination_condition == TerminationCondition.optimal"
   ]
  },
  {
   "cell_type": "code",
   "execution_count": null,
   "metadata": {},
   "outputs": [],
   "source": []
  }
 ],
 "metadata": {
  "kernelspec": {
   "display_name": "Python 3",
   "language": "python",
   "name": "python3"
  },
  "language_info": {
   "codemirror_mode": {
    "name": "ipython",
    "version": 3
   },
   "file_extension": ".py",
   "mimetype": "text/x-python",
   "name": "python",
   "nbconvert_exporter": "python",
   "pygments_lexer": "ipython3",
   "version": "3.8.3"
  }
 },
 "nbformat": 4,
 "nbformat_minor": 4
}
