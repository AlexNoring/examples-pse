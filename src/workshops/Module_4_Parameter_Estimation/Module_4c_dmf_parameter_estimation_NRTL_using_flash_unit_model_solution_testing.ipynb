{
 "cells": [
  {
   "cell_type": "markdown",
   "metadata": {},
   "source": [
    "## Module 4a: Parameter Estimation Using Flash Unit Model\n",
    "\n",
    "In this module, we will be using Pyomo's `parmest` tool in conjuction with IDAES models for parameter estimation. We demonstrate these tools by estimating the parameters associated with the NRTL property model for a benzene-toluene mixture. The NRTL model has 2 sets of parameters: the non-randomness parameter (`alpha_ij`) and the binary interaction parameter (`tau_ij`), where `i` and `j` is the pure component species. In this example, we will be only estimate the binary interaction parameter (`tau_ij`) for a given dataset. When estimating parameters associated with the property package, IDAES provides the flexibility of doing the parameter estimation by just using the state block or by using a unit model with a specified property package. This module will demonstrate parameter estimation by using the flash unit model with the NRTL property package. \n",
    "\n",
    "We will complete the following tasks:\n",
    "* Set up a method to return an initialized model\n",
    "* Set up the parameter estimation problem using `parmest`\n",
    "* Analyze the results\n",
    "* Demonstrate advanced features from `parmest`\n",
    "\n",
    "## Key links to documentation:\n",
    "* NRTL Model - https://idaes-pse.readthedocs.io/en/latest/model_libraries/core_library/property_models/activity_coefficient.html\n",
    "* parmest - https://pyomo.readthedocs.io/en/stable/contributed_packages/parmest/index.html\n",
    "\n"
   ]
  },
  {
   "cell_type": "markdown",
   "metadata": {},
   "source": [
    "<div class=\"alert alert-block alert-info\">\n",
    "<b>Inline Exercise:</b>\n",
    "import `ConcreteModel` from Pyomo, `FlowsheetBlock` and `Flash` from IDAES. \n",
    "</div>"
   ]
  },
  {
   "cell_type": "code",
   "execution_count": 1,
   "metadata": {},
   "outputs": [],
   "source": [
    "# Todo: import ConcreteModel from pyomo.environ\n",
    "from pyomo.environ import ConcreteModel, value\n",
    "\n",
    "# Todo: import FlowsheetBlock from idaes.core\n",
    "from idaes.core import FlowsheetBlock\n",
    "\n",
    "# Todo: import Flash unit model from idaes.generic_models.unit_models\n",
    "from idaes.generic_models.unit_models import Flash\n"
   ]
  },
  {
   "cell_type": "markdown",
   "metadata": {},
   "source": [
    "In the next cell, we will be importing the parameter block that we will be using in this module and the idaes logger. "
   ]
  },
  {
   "cell_type": "code",
   "execution_count": 2,
   "metadata": {},
   "outputs": [],
   "source": [
    "from idaes.generic_models.properties.activity_coeff_models.\\\n",
    "    BTX_activity_coeff_VLE import BTXParameterBlock\n",
    "import idaes.logger as idaeslog"
   ]
  },
  {
   "cell_type": "markdown",
   "metadata": {},
   "source": [
    "In the next cell, we import `parmest` from Pyomo and the `pandas` package. We need `pandas` as `parmest` uses `pandas.dataframe` for handling the input data and the results."
   ]
  },
  {
   "cell_type": "code",
   "execution_count": 3,
   "metadata": {},
   "outputs": [],
   "source": [
    "import pyomo.contrib.parmest.parmest as parmest\n",
    "import pandas as pd"
   ]
  },
  {
   "cell_type": "markdown",
   "metadata": {},
   "source": [
    "## Setting up an initialized model\n",
    "\n",
    "We need to provide a method that returns an initialized model to the `parmest` tool in Pyomo."
   ]
  },
  {
   "cell_type": "markdown",
   "metadata": {},
   "source": [
    "<div class=\"alert alert-block alert-info\">\n",
    "<b>Inline Exercise:</b>\n",
    "Using what you have learned from previous modules, fill in the missing code below to return an initialized IDAES model. \n",
    "</div>"
   ]
  },
  {
   "cell_type": "code",
   "execution_count": 4,
   "metadata": {},
   "outputs": [],
   "source": [
    "def NRTL_model(data):\n",
    "    \n",
    "    #Todo: Create a ConcreteModel object\n",
    "    m = ConcreteModel()\n",
    "    \n",
    "    #Todo: Create FlowsheetBlock object\n",
    "    m.fs = FlowsheetBlock(default={\"dynamic\": False})\n",
    "    \n",
    "\n",
    "    #Todo: Create a properties parameter object with the following options:\n",
    "    # \"valid_phase\": ('Liq', 'Vap')\n",
    "    # \"activity_coeff_model\": 'NRTL'\n",
    "    m.fs.properties = BTXParameterBlock(default={\"valid_phase\":\n",
    "                                                 ('Liq', 'Vap'),\n",
    "                                                 \"activity_coeff_model\":\n",
    "                                                 'NRTL'})\n",
    "    m.fs.flash = Flash(default={\"property_package\": m.fs.properties})\n",
    "\n",
    "    # Initialize at a certain inlet condition\n",
    "    m.fs.flash.inlet.flow_mol.fix(1)\n",
    "    m.fs.flash.inlet.temperature.fix(368)\n",
    "    m.fs.flash.inlet.pressure.fix(101325)\n",
    "    m.fs.flash.inlet.mole_frac_comp[0, \"benzene\"].fix(0.5)\n",
    "    m.fs.flash.inlet.mole_frac_comp[0, \"toluene\"].fix(0.5)\n",
    "\n",
    "    # Set Flash unit specifications\n",
    "    m.fs.flash.heat_duty.fix(0)\n",
    "    m.fs.flash.deltaP.fix(0)\n",
    "\n",
    "    # Fix NRTL specific variables\n",
    "    # alpha values (set at 0.3)\n",
    "    m.fs.properties.\\\n",
    "        alpha[\"benzene\", \"benzene\"].fix(0)\n",
    "    m.fs.properties.\\\n",
    "        alpha[\"benzene\", \"toluene\"].fix(0.3)\n",
    "    m.fs.properties.\\\n",
    "        alpha[\"toluene\", \"toluene\"].fix(0)\n",
    "    m.fs.properties.\\\n",
    "        alpha[\"toluene\", \"benzene\"].fix(0.3)\n",
    "\n",
    "    # initial tau values\n",
    "    m.fs.properties.\\\n",
    "        tau[\"benzene\", \"benzene\"].fix(0)\n",
    "    m.fs.properties.\\\n",
    "        tau[\"benzene\", \"toluene\"].fix(0.1690)\n",
    "    m.fs.properties.\\\n",
    "        tau[\"toluene\", \"toluene\"].fix(0)\n",
    "    m.fs.properties.\\\n",
    "        tau[\"toluene\", \"benzene\"].fix(-0.1559)\n",
    "\n",
    "    # Initialize the flash unit\n",
    "    m.fs.flash.initialize(outlvl=idaeslog.INFO_LOW)\n",
    "\n",
    "    # Fix at actual temperature\n",
    "    m.fs.flash.inlet.temperature.fix(float(data[\"temperature\"]))\n",
    "\n",
    "    # Set bounds on variables to be estimated\n",
    "    m.fs.properties.\\\n",
    "        tau[\"benzene\", \"toluene\"].setlb(-5)\n",
    "    m.fs.properties.\\\n",
    "        tau[\"benzene\", \"toluene\"].setub(5)\n",
    "\n",
    "    m.fs.properties.\\\n",
    "        tau[\"toluene\", \"benzene\"].setlb(-5)\n",
    "    m.fs.properties.\\\n",
    "        tau[\"toluene\", \"benzene\"].setub(5)\n",
    "\n",
    "    # Return initialized flash model\n",
    "    return m\n"
   ]
  },
  {
   "cell_type": "code",
   "execution_count": 5,
   "metadata": {
    "tags": [
     "testing",
     "remove_cell"
    ]
   },
   "outputs": [],
   "source": [
    "from idaes.core.util.model_statistics import degrees_of_freedom\n",
    "import pytest\n",
    "\n",
    "# Testing the initialized model\n",
    "test_data = {\"temperature\": 368}\n",
    "\n",
    "m = NRTL_model(test_data)\n",
    "\n",
    "# Check that degrees of freedom is 0\n",
    "assert degrees_of_freedom(m) == 0\n",
    "\n",
    "# Check for output values\n",
    "assert value(m.fs.flash.liq_outlet.mole_frac_comp[0, 'benzene']) == pytest.approx(0.4105, abs=1e-3)\n",
    "assert value(m.fs.flash.vap_outlet.mole_frac_comp[0, 'benzene']) == pytest.approx(0.6326, abs=1e-3)\n",
    "\n",
    "assert value(m.fs.flash.liq_outlet.mole_frac_comp[0, 'toluene']) == pytest.approx(0.5895, abs=1e-3)\n",
    "assert value(m.fs.flash.vap_outlet.mole_frac_comp[0, 'toluene']) == pytest.approx(0.3673, abs=1e-3)"
   ]
  },
  {
   "cell_type": "markdown",
   "metadata": {},
   "source": [
    "## Parameter estimation using parmest"
   ]
  },
  {
   "cell_type": "markdown",
   "metadata": {},
   "source": [
    "In addition to providing a method to return an initialized model, the `parmest` tool needs the following:\n",
    "\n",
    "* List of variable names to be estimated\n",
    "* Dataset with multiple scenarios\n",
    "* Expression to compute the sum of squared errors\n",
    "\n"
   ]
  },
  {
   "cell_type": "markdown",
   "metadata": {},
   "source": [
    "In this example, we only estimate the binary interaction parameter (`tau_ij`). Given that this variable is usually indexed as `tau_ij = Var(component_list, component_list)`, there are 2*2=4 degrees of freedom. However, when i=j, the binary interaction parameter is 0. Therefore, in this problem, we estimate the binary interaction parameter for the following variables only:\n",
    "\n",
    "* fs.properties.tau['benzene', 'toluene']\n",
    "* fs.properties.tau['toluene', 'benzene']\n",
    "\n",
    "<div class=\"alert alert-block alert-info\">\n",
    "<b>Inline Exercise:</b>\n",
    "Create a list called `variable_name` with the above-mentioned variables declared as strings.\n",
    "</div>"
   ]
  },
  {
   "cell_type": "code",
   "execution_count": 6,
   "metadata": {},
   "outputs": [],
   "source": [
    "# Todo: Create a list of vars to estimate\n",
    "variable_name = [\"fs.properties.tau['benzene', 'toluene']\",\n",
    "                 \"fs.properties.tau['toluene', 'benzene']\"]\n"
   ]
  },
  {
   "cell_type": "markdown",
   "metadata": {},
   "source": [
    "Pyomo's `parmest` tool supports the following data formats:\n",
    "- pandas dataframe\n",
    "- list of dictionaries\n",
    "- list of json file names.\n",
    "\n",
    "Please see the documentation for more details. \n",
    "\n",
    "For this example, we load data from the csv file `BT_NRTL_dataset.csv`. The dataset consists of fifty data points which provide the mole fraction of benzene in the vapor and liquid phase as a function of temperature. "
   ]
  },
  {
   "cell_type": "code",
   "execution_count": 7,
   "metadata": {},
   "outputs": [
    {
     "data": {
      "text/plain": [
       "pandas.core.frame.DataFrame"
      ]
     },
     "execution_count": 7,
     "metadata": {},
     "output_type": "execute_result"
    }
   ],
   "source": [
    "# Load all data from csv\n",
    "data = pd.read_csv('BT_NRTL_dataset.csv')\n",
    "\n",
    "# Display the dataset\n",
    "#display(data)\n",
    "\n",
    "# Split the data set into two data sets\n",
    "data_subset_1 = data.loc[0:24]\n",
    "#display(data_subset_1)\n",
    "\n",
    "data_subset_2 = data.loc[25:49].reset_index()\n",
    "#display(data_subset_2)\n",
    "\n",
    "type(data_subset_2)"
   ]
  },
  {
   "cell_type": "code",
   "execution_count": 8,
   "metadata": {},
   "outputs": [
    {
     "name": "stderr",
     "output_type": "stream",
     "text": [
      "2020-06-09 16:15:46,688 [WARNING] idaes.dmf.dmfbase: Path to built HTML documentation is not set. The DMF \"help\" command will not work. To set this path, set \"htmldocs\" in the DMF configuration file.\n"
     ]
    }
   ],
   "source": [
    "from idaes.dmf import DMF\n",
    "from idaes.dmf.resource import Resource\n",
    "from idaes.dmf.resource import Triple, PR_DERIVED, create_relation_args\n",
    "from idaes.dmf import magics\n",
    "#_dmf = DMF(create=True, path=\".\")\n",
    "_dmf = DMF(create=False, path=\"../workspace\")"
   ]
  },
  {
   "cell_type": "code",
   "execution_count": 9,
   "metadata": {},
   "outputs": [
    {
     "name": "stderr",
     "output_type": "stream",
     "text": [
      "2020-06-09 16:15:47,976 [WARNING] idaes.dmf.dmfbase: Path to built HTML documentation is not set. The DMF \"help\" command will not work. To set this path, set \"htmldocs\" in the DMF configuration file.\n"
     ]
    },
    {
     "data": {
      "text/markdown": [
       "*Success!* Using workspace at \"../workspace\""
      ]
     },
     "metadata": {},
     "output_type": "display_data"
    }
   ],
   "source": [
    "%dmf init ../workspace"
   ]
  },
  {
   "cell_type": "code",
   "execution_count": 10,
   "metadata": {},
   "outputs": [
    {
     "name": "stdout",
     "output_type": "stream",
     "text": [
      "done\n"
     ]
    }
   ],
   "source": [
    "ds = _dmf.find_one(name=\"BT NRTL dataset\")\n",
    "\n",
    "if not ds:\n",
    "    ds = _dmf.new(file=\"BT_NRTL_dataset.csv\", name=\"BT NRTL dataset\")\n",
    "else:\n",
    "    _dmf.attach(ds)\n",
    "\n",
    "ds1 = _dmf.find_one(name=\"BT NRTL split1\")\n",
    "if not ds1:\n",
    "    data_subset_1.to_csv('BT_NRTL_dataset_split1.csv')\n",
    "    ds1 = _dmf.new(file=\"BT_NRTL_dataset_split1.csv\", name=\"BT NRTL split1\")\n",
    "    create_relation_args(ds1, PR_DERIVED, ds)\n",
    "else:\n",
    "    _dmf.attach(ds1) # attach to instance, for update()\n",
    "\n",
    "ds2 = _dmf.find_one(name=\"BT NRTL split2\")\n",
    "if not ds2:\n",
    "    data_subset_2.to_csv('BT_NRTL_dataset_split2.csv')\n",
    "    ds2 = _dmf.new(file=\"BT_NRTL_dataset_split2.csv\", name=\"BT NRTL split2\")\n",
    "    create_relation_args(ds2, PR_DERIVED, ds)\n",
    "else:\n",
    "    _dmf.attach(ds2)  # attach to instance, for update()\n",
    "\n",
    "# save relations\n",
    "_dmf.update()\n",
    "print(\"done\")"
   ]
  },
  {
   "cell_type": "code",
   "execution_count": 14,
   "metadata": {},
   "outputs": [
    {
     "data": {
      "text/markdown": [
       "| ID | Name(s) | Type | Modified | Description | \n",
       "| -- | ------- | ---- | -------- | ----------- |\n",
       "| 2a45ce6c4e5245aea1fff8bbcab4a371 | NRTL dataset | data | 1591557051.431507 | BT_NRTL_dataset.csv |\n",
       "| b13aa0e477634252866b722ceb84056a | NRTL dataset split1 | data | 1591557051.445081 | BT_NRTL_dataset_split1.csv |\n",
       "| 105ba24f35c9408096cf43c661da401f | NRTL dataset split2 | data | 1591557051.449112 | BT_NRTL_dataset_split2.csv |\n",
       "| 9fed0506f18844029b51d05a1bb784aa | NRTL results split1 | other | 1591557383.286974 | Solution for data subset 1 |\n",
       "| c9399169e43242d9bf78ceac0fb7ddc4 | NRTL results split2 | other | 1591557383.286974 | Solution for data subset 2 |\n",
       "| 701c9c12ddea4eb8a7f43c42d857e7cd |  | data | 1591743197.994207 | BT_NRTL_dataset.csv |\n",
       "| 0ce84def70fb4753ae6b982b12f23eb4 |  | data | 1591743670.717909 | BT_NRTL_dataset.csv |\n",
       "| 166640351e1f47d18734135b1c86813a |  | data | 1591743670.736895 | BT_NRTL_dataset_split1.csv |\n",
       "| 42e9daac3b1e49d4a7d5768532a2d172 |  | data | 1591744090.691507 | BT_NRTL_dataset.csv |\n",
       "| 0e6ef05f9c34429fb9807c7e642f91b3 |  | data | 1591744090.703474 | BT_NRTL_dataset_split1.csv |\n",
       "| 5548c5dcbded4340bab7982c02180f76 |  | data | 1591744090.713477 | BT_NRTL_dataset_split2.csv |\n",
       "| 548acc344ce747b1b24f9a130623a12e |  | data | 1591744229.814279 | BT_NRTL_dataset.csv |\n",
       "| d02877175c09484aba50b56f614e74dd |  | data | 1591744229.826991 | BT_NRTL_dataset_split1.csv |\n",
       "| 664bb176ec0144a0bc8cf5500a9b2833 |  | data | 1591744229.83601 | BT_NRTL_dataset_split2.csv |\n",
       "| 48b58ad6f6634635a1fef46e67ab59b5 | BT NRTL dataset | data | 1591744549.163546 | BT_NRTL_dataset.csv |\n",
       "| 68e477317ab64c9492ec6382017a6fbb | BT NRTL split1 | data | 1591744549.174517 | BT_NRTL_dataset_split1.csv |\n",
       "| c20cd17af49a43feb1572439698238f9 | BT NRTL split2 | data | 1591744549.185488 | BT_NRTL_dataset_split2.csv |"
      ]
     },
     "metadata": {},
     "output_type": "display_data"
    },
    {
     "data": {
      "text/plain": [
       "True"
      ]
     },
     "execution_count": 14,
     "metadata": {},
     "output_type": "execute_result"
    }
   ],
   "source": [
    "%dmf list"
   ]
  },
  {
   "cell_type": "markdown",
   "metadata": {},
   "source": [
    "We need to provide a method to return an expression to compute the sum of squared errors that will be used as the objective in solving the parameter estimation problem. For this problem, the error will be computed for the mole fraction of benzene in the vapor and liquid phase between the model prediction and data. \n",
    "\n",
    "<div class=\"alert alert-block alert-info\">\n",
    "<b>Inline Exercise:</b>\n",
    "Complete the following cell by adding an expression to compute the sum of square errors. \n",
    "</div>"
   ]
  },
  {
   "cell_type": "code",
   "execution_count": 15,
   "metadata": {},
   "outputs": [],
   "source": [
    "# Create method to return an expression that computes the sum of squared error\n",
    "def SSE(m, data):\n",
    "    # Todo: Add expression for computing the sum of squared errors in mole fraction of benzene in the liquid\n",
    "    # and vapor phase. For example, the squared error for the vapor phase is:\n",
    "    # (float(data[\"vap_benzene\"]) - m.fs.flash.vap_outlet.mole_frac_comp[0, \"benzene\"])**2\n",
    "    expr = ((float(data[\"vap_benzene\"]) -\n",
    "             m.fs.flash.vap_outlet.mole_frac_comp[0, \"benzene\"])**2 +\n",
    "            (float(data[\"liq_benzene\"]) -\n",
    "             m.fs.flash.liq_outlet.mole_frac_comp[0, \"benzene\"])**2)\n",
    "    return expr*1E4"
   ]
  },
  {
   "cell_type": "markdown",
   "metadata": {},
   "source": [
    "<div class=\"alert alert-block alert-warning\">\n",
    "<b>Note:</b>\n",
    "Notice that we have scaled the expression up by a factor of 10000 as the SSE computed here will be an extremely small number given that we are using the difference in mole fraction in our expression. A well-scaled objective will help improve solve robustness when using IPOPT. \n",
    "</div>\n"
   ]
  },
  {
   "cell_type": "markdown",
   "metadata": {},
   "source": [
    "We are now ready to set up the parameter estimation problem. We will create a parameter estimation object called `pest`. As shown below, we pass the method that returns an initialized model, dataset, list of variable names to estimate, and the SSE expression to the Estimator object. `tee=True` will print the solver output after solving the parameter estimation problem."
   ]
  },
  {
   "cell_type": "code",
   "execution_count": 16,
   "metadata": {},
   "outputs": [
    {
     "name": "stdout",
     "output_type": "stream",
     "text": [
      "Ipopt 3.13.2: max_iter=6000\n",
      "\n",
      "\n",
      "******************************************************************************\n",
      "This program contains Ipopt, a library for large-scale nonlinear optimization.\n",
      " Ipopt is released as open source code under the Eclipse Public License (EPL).\n",
      "         For more information visit http://projects.coin-or.org/Ipopt\n",
      "\n",
      "This version of Ipopt was compiled from source code available at\n",
      "    https://github.com/IDAES/Ipopt as part of the Institute for the Design of\n",
      "    Advanced Energy Systems Process Systems Engineering Framework (IDAES PSE\n",
      "    Framework) Copyright (c) 2018-2019. See https://github.com/IDAES/idaes-pse.\n",
      "\n",
      "This version of Ipopt was compiled using HSL, a collection of Fortran codes\n",
      "    for large-scale scientific computation.  All technical papers, sales and\n",
      "    publicity material resulting from use of the HSL codes within IPOPT must\n",
      "    contain the following acknowledgement:\n",
      "        HSL, a collection of Fortran codes for large-scale scientific\n",
      "        computation. See http://www.hsl.rl.ac.uk.\n",
      "******************************************************************************\n",
      "\n",
      "This is Ipopt version 3.13.2, running with linear solver ma27.\n",
      "\n",
      "Number of nonzeros in equality constraint Jacobian...:     5475\n",
      "Number of nonzeros in inequality constraint Jacobian.:        0\n",
      "Number of nonzeros in Lagrangian Hessian.............:     3000\n",
      "\n",
      "Total number of variables............................:     1477\n",
      "                     variables with only lower bounds:       75\n",
      "                variables with lower and upper bounds:      300\n",
      "                     variables with only upper bounds:        0\n",
      "Total number of equality constraints.................:     1475\n",
      "Total number of inequality constraints...............:        0\n",
      "        inequality constraints with only lower bounds:        0\n",
      "   inequality constraints with lower and upper bounds:        0\n",
      "        inequality constraints with only upper bounds:        0\n",
      "\n",
      "iter    objective    inf_pr   inf_du lg(mu)  ||d||  lg(rg) alpha_du alpha_pr  ls\n",
      "   0  3.5426061e+01 4.44e+05 6.42e+01  -1.0 0.00e+00    -  0.00e+00 0.00e+00   0\n",
      "   1  4.2720443e-02 1.12e+03 6.73e-01  -1.0 1.09e+04    -  9.90e-01 1.00e+00h  1\n",
      "   2  2.6570363e-03 3.11e+01 1.62e-02  -1.0 2.91e+02    -  9.90e-01 1.00e+00h  1\n",
      "   3  2.7282936e-03 8.14e+01 7.79e-04  -1.0 1.17e+00    -  1.00e+00 1.00e+00h  1\n",
      "   4  1.8813329e-03 5.86e-03 4.58e-04  -1.7 6.48e+00    -  1.00e+00 1.00e+00h  1\n",
      "   5  1.8343356e-03 1.10e+00 1.33e-04  -3.8 1.61e+00    -  1.00e+00 1.00e+00h  1\n",
      "   6  1.5590450e-03 1.64e+03 1.25e-02  -3.8 4.73e+00    -  1.00e+00 1.00e+00h  1\n",
      "   7  1.6739801e-03 4.24e+02 2.93e-03  -3.8 2.51e+00    -  1.00e+00 1.00e+00h  1\n",
      "   8  1.6483588e-03 3.19e+01 2.05e-02  -3.8 2.37e-01  -4.0 1.00e+00 1.00e+00h  1\n",
      "   9  1.5493448e-03 1.09e+02 3.42e-02  -3.8 2.31e+00    -  1.00e+00 1.00e+00h  1\n",
      "iter    objective    inf_pr   inf_du lg(mu)  ||d||  lg(rg) alpha_du alpha_pr  ls\n",
      "  10  1.5252573e-03 5.77e-01 5.54e-05  -3.8 1.62e+00    -  1.00e+00 1.00e+00h  1\n",
      "  11  1.5256820e-03 9.79e-02 1.40e-06  -3.8 1.32e-01    -  1.00e+00 1.00e+00h  1\n",
      "  12  1.5249505e-03 4.03e-01 7.10e-06  -5.7 3.07e-01    -  1.00e+00 1.00e+00h  1\n",
      "  13  1.5249388e-03 3.37e-04 2.82e-09  -5.7 3.42e-03    -  1.00e+00 1.00e+00h  1\n",
      "  14  1.5249387e-03 5.63e-05 1.02e-09  -8.6 3.75e-03    -  1.00e+00 1.00e+00h  1\n",
      "  15  1.5249387e-03 1.49e-08 4.40e-14  -8.6 5.04e-07    -  1.00e+00 1.00e+00h  1\n",
      "\n",
      "Number of Iterations....: 15\n",
      "\n",
      "                                   (scaled)                 (unscaled)\n",
      "Objective...............:   1.5249387142682634e-03    1.5249387142682634e-03\n",
      "Dual infeasibility......:   4.3989813379080935e-14    4.3989813379080935e-14\n",
      "Constraint violation....:   1.4104644499482428e-11    1.4901161193847656e-08\n",
      "Complementarity.........:   2.5059035596800622e-09    2.5059035596800622e-09\n",
      "Overall NLP error.......:   2.5059035596800622e-09    1.4901161193847656e-08\n",
      "\n",
      "\n",
      "Number of objective function evaluations             = 16\n",
      "Number of objective gradient evaluations             = 16\n",
      "Number of equality constraint evaluations            = 16\n",
      "Number of inequality constraint evaluations          = 0\n",
      "Number of equality constraint Jacobian evaluations   = 16\n",
      "Number of inequality constraint Jacobian evaluations = 0\n",
      "Number of Lagrangian Hessian evaluations             = 15\n",
      "Total CPU secs in IPOPT (w/o function evaluations)   =      0.026\n",
      "Total CPU secs in NLP function evaluations           =      0.025\n",
      "\n",
      "EXIT: Optimal Solution Found.\n",
      "Ipopt 3.13.2: max_iter=6000\n",
      "\n",
      "\n",
      "******************************************************************************\n",
      "This program contains Ipopt, a library for large-scale nonlinear optimization.\n",
      " Ipopt is released as open source code under the Eclipse Public License (EPL).\n",
      "         For more information visit http://projects.coin-or.org/Ipopt\n",
      "\n",
      "This version of Ipopt was compiled from source code available at\n",
      "    https://github.com/IDAES/Ipopt as part of the Institute for the Design of\n",
      "    Advanced Energy Systems Process Systems Engineering Framework (IDAES PSE\n",
      "    Framework) Copyright (c) 2018-2019. See https://github.com/IDAES/idaes-pse.\n",
      "\n",
      "This version of Ipopt was compiled using HSL, a collection of Fortran codes\n",
      "    for large-scale scientific computation.  All technical papers, sales and\n",
      "    publicity material resulting from use of the HSL codes within IPOPT must\n",
      "    contain the following acknowledgement:\n",
      "        HSL, a collection of Fortran codes for large-scale scientific\n",
      "        computation. See http://www.hsl.rl.ac.uk.\n",
      "******************************************************************************\n",
      "\n",
      "This is Ipopt version 3.13.2, running with linear solver ma27.\n",
      "\n",
      "Number of nonzeros in equality constraint Jacobian...:     5475\n",
      "Number of nonzeros in inequality constraint Jacobian.:        0\n",
      "Number of nonzeros in Lagrangian Hessian.............:     3000\n",
      "\n",
      "Total number of variables............................:     1477\n",
      "                     variables with only lower bounds:       75\n",
      "                variables with lower and upper bounds:      300\n",
      "                     variables with only upper bounds:        0\n",
      "Total number of equality constraints.................:     1475\n",
      "Total number of inequality constraints...............:        0\n",
      "        inequality constraints with only lower bounds:        0\n",
      "   inequality constraints with lower and upper bounds:        0\n",
      "        inequality constraints with only upper bounds:        0\n",
      "\n",
      "iter    objective    inf_pr   inf_du lg(mu)  ||d||  lg(rg) alpha_du alpha_pr  ls\n",
      "   0  7.6288921e+01 5.63e+05 8.31e+01  -1.0 0.00e+00    -  0.00e+00 0.00e+00   0\n",
      "   1  1.3734835e-01 1.79e+03 7.85e-01  -1.0 1.37e+04    -  9.82e-01 1.00e+00h  1\n",
      "   2  1.3721263e-01 1.79e+03 9.44e-01  -1.0 4.74e+02  -4.0 4.88e-01 1.18e-03h 10\n",
      "   3  1.3704308e-01 1.78e+03 1.11e+00  -1.0 4.73e+02  -3.6 9.90e-01 1.38e-03h 10\n",
      "   4  2.4267165e-03 3.62e+02 1.61e+00  -1.0 4.73e+02    -  1.00e+00 1.00e+00h  1\n",
      "   5  2.5973494e-03 2.11e+01 1.95e-03  -1.0 1.32e+00    -  1.00e+00 1.00e+00h  1\n",
      "   6  1.7859553e-03 1.68e-02 4.97e-04  -2.5 7.90e+00    -  1.00e+00 1.00e+00h  1\n",
      "   7  1.7850947e-03 2.82e-02 3.19e-06  -3.8 2.68e-01    -  1.00e+00 1.00e+00h  1\n",
      "   8  1.7843920e-03 6.72e+00 4.20e-05  -5.7 2.11e-01    -  1.00e+00 1.00e+00h  1\n",
      "   9  1.7841357e-03 9.01e+00 5.35e-05  -5.7 2.55e-01    -  1.00e+00 1.00e+00h  1\n",
      "iter    objective    inf_pr   inf_du lg(mu)  ||d||  lg(rg) alpha_du alpha_pr  ls\n",
      "  10  1.7840877e-03 5.22e-01 2.79e-06  -5.7 4.41e-02    -  1.00e+00 1.00e+00h  1\n",
      "  11  1.7840844e-03 1.27e-06 6.90e-11  -5.7 7.76e-04    -  1.00e+00 1.00e+00h  1\n",
      "  12  1.7840842e-03 3.35e-03 2.09e-08  -8.6 5.71e-03    -  1.00e+00 1.00e+00h  1\n",
      "  13  1.7840842e-03 3.04e-08 2.24e-13  -8.6 2.82e-05    -  1.00e+00 1.00e+00h  1\n",
      "\n",
      "Number of Iterations....: 13\n",
      "\n",
      "                                   (scaled)                 (unscaled)\n",
      "Objective...............:   1.7840841987734508e-03    1.7840841987734508e-03\n",
      "Dual infeasibility......:   2.2377781051796664e-13    2.2377781051796664e-13\n",
      "Constraint violation....:   1.1236944121857032e-10    3.0413502827286720e-08\n",
      "Complementarity.........:   2.5059036700307325e-09    2.5059036700307325e-09\n",
      "Overall NLP error.......:   2.5059036700307325e-09    3.0413502827286720e-08\n",
      "\n",
      "\n",
      "Number of objective function evaluations             = 34\n",
      "Number of objective gradient evaluations             = 14\n",
      "Number of equality constraint evaluations            = 34\n",
      "Number of inequality constraint evaluations          = 0\n",
      "Number of equality constraint Jacobian evaluations   = 14\n",
      "Number of inequality constraint Jacobian evaluations = 0\n",
      "Number of Lagrangian Hessian evaluations             = 13\n",
      "Total CPU secs in IPOPT (w/o function evaluations)   =      0.024\n",
      "Total CPU secs in NLP function evaluations           =      0.032\n",
      "\n",
      "EXIT: Optimal Solution Found.\n"
     ]
    }
   ],
   "source": [
    "# Initialize a parameter estimation object for data subset 1\n",
    "pest_data_subset_1 = parmest.Estimator(NRTL_model, data_subset_1, variable_name, SSE, tee=True)\n",
    "\n",
    "# Initialize a parameter estimation object for data subset 2\n",
    "pest_data_subset_2 = parmest.Estimator(NRTL_model, data_subset_2, variable_name, SSE, tee=True)\n",
    "\n",
    "# Run parameter estimation using data subset 1\n",
    "obj_value_1, parameters_1 = pest_data_subset_1.theta_est()\n",
    "\n",
    "# Run parameter estimation using data subset 2\n",
    "obj_value_2, parameters_2 = pest_data_subset_2.theta_est()"
   ]
  },
  {
   "cell_type": "markdown",
   "metadata": {},
   "source": [
    "You will notice that the resulting parameter estimation problem, when using the flash unit model, will have 2952 variables and 2950 constraints. This is because the unit models in IDAES use control volume blocks which have two state blocks attached; one at the inlet and one at the outlet. Even though there are two state blocks, they still use the same parameter block i.e. `m.fs.properties` in our example which is where our parameters that need to be estimated exist. \n",
    "\n",
    "Let us display the results by running the next cell. "
   ]
  },
  {
   "cell_type": "code",
   "execution_count": 17,
   "metadata": {},
   "outputs": [
    {
     "name": "stdout",
     "output_type": "stream",
     "text": [
      "----Using Data Subset 1----\n",
      "\n",
      "The SSE at the optimal solution is 0.001525\n",
      "\n",
      "The values for the parameters are as follows:\n",
      "fs.properties.tau[('benzene', 'toluene')] = 0.3217100103610996\n",
      "fs.properties.tau[('toluene', 'benzene')] = -0.28307944072207775\n",
      "\n",
      "----Using Data Subset 2----\n",
      "\n",
      "The SSE at the optimal solution is 0.001784\n",
      "\n",
      "The values for the parameters are as follows:\n",
      "fs.properties.tau[('benzene', 'toluene')] = 0.07397102640934188\n",
      "fs.properties.tau[('toluene', 'benzene')] = -0.0645984121830132\n"
     ]
    }
   ],
   "source": [
    "print(\"----Using Data Subset 1----\")\n",
    "print()\n",
    "print(\"The SSE at the optimal solution is %0.6f\" % obj_value_1)\n",
    "print()\n",
    "print(\"The values for the parameters are as follows:\")\n",
    "for k,v in parameters_1.items():\n",
    "    print(k, \"=\", v)\n",
    "\n",
    "print()\n",
    "print(\"----Using Data Subset 2----\")\n",
    "print()\n",
    "print(\"The SSE at the optimal solution is %0.6f\" % obj_value_2)\n",
    "print()\n",
    "print(\"The values for the parameters are as follows:\")\n",
    "for k,v in parameters_2.items():\n",
    "    print(k, \"=\", v)"
   ]
  },
  {
   "cell_type": "code",
   "execution_count": null,
   "metadata": {},
   "outputs": [],
   "source": [
    "# Save to json\n",
    "\n",
    "import json\n",
    "\n",
    "# Create a dictionary to save the parameters\n",
    "parameter_data_subset_1 = {}\n",
    "parameter_data_subset_2 = {}\n",
    "\n",
    "parameter_data_subset_1[\"tau['benzene', 'toluene']\"] = \\\n",
    "    parameters_1[\"fs.properties.tau[('benzene', 'toluene')]\"] \n",
    "parameter_data_subset_1[\"tau['toluene', 'benzene']\"] = \\\n",
    "    parameters_1[\"fs.properties.tau[('toluene', 'benzene')]\"]\n",
    "parameter_data_subset_2[\"tau['benzene', 'toluene']\"] = \\\n",
    "    parameters_2[\"fs.properties.tau[('benzene', 'toluene')]\"] \n",
    "parameter_data_subset_2[\"tau['toluene', 'benzene']\"] = \\\n",
    "    parameters_2[\"fs.properties.tau[('toluene', 'benzene')]\"]\n",
    "\n",
    "# Create json\n",
    "with open(\"estimated_parameter.json\", \"w\") as outfile:\n",
    "    json.dump([{\"data_subset_1\":parameter_data_subset_1}, {\"data_subset_2\":parameter_data_subset_2}], outfile)"
   ]
  },
  {
   "cell_type": "code",
   "execution_count": 19,
   "metadata": {},
   "outputs": [
    {
     "data": {
      "text/plain": [
       "True"
      ]
     },
     "execution_count": 19,
     "metadata": {},
     "output_type": "execute_result"
    }
   ],
   "source": [
    "# save to DMF\n",
    "# create resources\n",
    "ds_s1 = _dmf.new(desc=\"Solution for data subset 1\", data={'SSE': obj_value_1, 'parameters': parameters_1})\n",
    "ds_s2 = _dmf.new(desc=\"Solution for data subset 2\", data={'SSE': obj_value_2, 'parameters': parameters_2})\n",
    "# relate resources to inputs\n",
    "create_relation_args(ds_s1, PR_DERIVED, ds1)\n",
    "create_relation_args(ds_s2, PR_DERIVED, ds2)\n",
    "# save\n",
    "_dmf.update()"
   ]
  },
  {
   "cell_type": "code",
   "execution_count": 24,
   "metadata": {},
   "outputs": [
    {
     "data": {
      "text/plain": [
       "'48b58ad6f6634635a1fef46e67ab59b5'"
      ]
     },
     "execution_count": 24,
     "metadata": {},
     "output_type": "execute_result"
    }
   ],
   "source": [
    "ds.id"
   ]
  },
  {
   "cell_type": "code",
   "execution_count": 25,
   "metadata": {},
   "outputs": [
    {
     "name": "stdout",
     "output_type": "stream",
     "text": [
      "48b5 data BT NRTL dataset\n",
      "    |\n",
      "    +--<-[derived]- c20c data BT NRTL split2\n",
      "    .  |\n",
      "    .  +--<-[derived]- 5f17 other -\n",
      "    |\n",
      "    +--<-[derived]- 68e4 data BT NRTL split1\n",
      "       |\n",
      "       +--<-[derived]- ed46 other -\n"
     ]
    }
   ],
   "source": [
    "!dmf related -d in --no-unicode 48b58ad6f6634635a1fef46e67ab59b5"
   ]
  },
  {
   "cell_type": "code",
   "execution_count": null,
   "metadata": {},
   "outputs": [],
   "source": []
  }
 ],
 "metadata": {
  "kernelspec": {
   "display_name": "Python 3",
   "language": "python",
   "name": "python3"
  },
  "language_info": {
   "codemirror_mode": {
    "name": "ipython",
    "version": 3
   },
   "file_extension": ".py",
   "mimetype": "text/x-python",
   "name": "python",
   "nbconvert_exporter": "python",
   "pygments_lexer": "ipython3",
   "version": "3.8.3"
  }
 },
 "nbformat": 4,
 "nbformat_minor": 2
}
