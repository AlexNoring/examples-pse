{
 "cells": [
  {
   "cell_type": "code",
   "execution_count": 8,
   "metadata": {},
   "outputs": [],
   "source": [
    "from idaes.dmf import DMF\n",
    "from idaes.dmf.resource import TidyUnitData as TDU\n",
    "wspace = DMF(\".\")"
   ]
  },
  {
   "cell_type": "code",
   "execution_count": 5,
   "metadata": {},
   "outputs": [
    {
     "name": "stdout",
     "output_type": "stream",
     "text": [
      "id                               name\n",
      "623804ff69564eda9f92ae3871ed8687 pressure_crit\n",
      "b0b333fdd4574e4eae1c4cef98c19ee8 temperature_crit\n",
      "d9b59dffe0e4428baab2f80f42c62c3c mw\n",
      "30ad5a72c576471b8b0a6efcab1114c8 cp_liq\n",
      "4ef9d2ce193f4a0487763fbe4b94c347 bp\n",
      "5bc493a1ccb74639b0403d0d66924b51 cp_ig\n",
      "6ff47009063047c58d70779374175d9c pressure_sat_coeff\n",
      "15907525b89643c08bf9bc0a0b8e2fe6 dh_vap\n"
     ]
    }
   ],
   "source": [
    "hdr = (\"id\", \"name\")\n",
    "print(f\"{hdr[0]:32s} {hdr[1]}\")\n",
    "for r in wspace.find():\n",
    "    print(f\"{r.id} {r.name}\")"
   ]
  },
  {
   "cell_type": "code",
   "execution_count": 6,
   "metadata": {
    "jupyter": {
     "source_hidden": true
    }
   },
   "outputs": [],
   "source": [
    "pressure_crit_data = {'benzene': 48.9e5,\n",
    "                              'toluene': 41e5,\n",
    "                              'hydrogen': 12.9e5,\n",
    "                              'methane': 46e5,\n",
    "                              'diphenyl': 38.5e5\n",
    "                              }\n",
    "temperature_crit_data = {'benzene': 562.2,\n",
    "                                 'toluene': 591.8,\n",
    "                                 'hydrogen': 33.0,\n",
    "                                 'methane': 190.4,\n",
    "                                 'diphenyl': 789\n",
    "                                 }\n",
    "mw_comp_data = {'benzene': 78.1136E-3,\n",
    "                        'toluene': 92.1405E-3,\n",
    "                        'hydrogen': 2.016e-3,\n",
    "                        'methane': 16.043e-3,\n",
    "                        'diphenyl': 154.212e-4}\n",
    "dens_liq_data = {('benzene', '1'): 1.0162,\n",
    "                         ('benzene', '2'): 0.2655,\n",
    "                         ('benzene', '3'): 562.16,\n",
    "                         ('benzene', '4'): 0.28212,\n",
    "                         ('toluene', '1'): 0.8488,\n",
    "                         ('toluene', '2'): 0.26655,\n",
    "                         ('toluene', '3'): 591.8,\n",
    "                         ('toluene', '4'): 0.2878,\n",
    "                         ('hydrogen', '1'): 5.414,\n",
    "                         ('hydrogen', '2'): 0.34893,\n",
    "                         ('hydrogen', '3'): 33.19,\n",
    "                         ('hydrogen', '4'): 0.2706,\n",
    "                         ('methane', '1'): 2.9214,\n",
    "                         ('methane', '2'): 0.28976,\n",
    "                         ('methane', '3'): 190.56,\n",
    "                         ('methane', '4'): 0.28881,\n",
    "                         ('diphenyl', '1'): 0.5039,\n",
    "                         ('diphenyl', '2'): 0.25273,\n",
    "                         ('diphenyl', '3'): 789.26,\n",
    "                         ('diphenyl', '4'): 0.281}\n",
    "bp_data = {('benzene'): 353.25,\n",
    "                   ('toluene'): 383.95,\n",
    "                   ('hydrogen'): 20.45,\n",
    "                   ('methane'): 111.75,\n",
    "                   ('diphenyl'): 528.05}\n",
    "cp_ig_data = {('Liq', 'benzene', '1'): 1.29E5,\n",
    "                      ('Liq', 'benzene', '2'): -1.7E2,\n",
    "                      ('Liq', 'benzene', '3'): 6.48E-1,\n",
    "                      ('Liq', 'benzene', '4'): 0,\n",
    "                      ('Liq', 'benzene', '5'): 0,\n",
    "                      ('Vap', 'benzene', '1'): -3.392E1,\n",
    "                      ('Vap', 'benzene', '2'): 4.739E-1,\n",
    "                      ('Vap', 'benzene', '3'): -3.017E-4,\n",
    "                      ('Vap', 'benzene', '4'): 7.130E-8,\n",
    "                      ('Vap', 'benzene', '5'): 0,\n",
    "                      ('Liq', 'toluene', '1'): 1.40E5,\n",
    "                      ('Liq', 'toluene', '2'): -1.52E2,\n",
    "                      ('Liq', 'toluene', '3'): 6.95E-1,\n",
    "                      ('Liq', 'toluene', '4'): 0,\n",
    "                      ('Liq', 'toluene', '5'): 0,\n",
    "                      ('Vap', 'toluene', '1'): -2.435E1,\n",
    "                      ('Vap', 'toluene', '2'): 5.125E-1,\n",
    "                      ('Vap', 'toluene', '3'): -2.765E-4,\n",
    "                      ('Vap', 'toluene', '4'): 4.911E-8,\n",
    "                      ('Vap', 'toluene', '5'): 0,\n",
    "                      ('Liq', 'hydrogen', '1'): 0,  # 6.6653e1,\n",
    "                      ('Liq', 'hydrogen', '2'): 0,  # 6.7659e3,\n",
    "                      ('Liq', 'hydrogen', '3'): 0,  # -1.2363e2,\n",
    "                      ('Liq', 'hydrogen', '4'): 0,  # 4.7827e2, # Eqn 2\n",
    "                      ('Liq', 'hydrogen', '5'): 0,\n",
    "                      ('Vap', 'hydrogen', '1'): 2.714e1,\n",
    "                      ('Vap', 'hydrogen', '2'): 9.274e-3,\n",
    "                      ('Vap', 'hydrogen', '3'): -1.381e-5,\n",
    "                      ('Vap', 'hydrogen', '4'): 7.645e-9,\n",
    "                      ('Vap', 'hydrogen', '5'): 0,\n",
    "                      ('Liq', 'methane', '1'): 0,  # 6.5708e1,\n",
    "                      ('Liq', 'methane', '2'): 0,  # 3.8883e4,\n",
    "                      ('Liq', 'methane', '3'): 0,  # -2.5795e2,\n",
    "                      ('Liq', 'methane', '4'): 0,  # 6.1407e2, # Eqn 2\n",
    "                      ('Liq', 'methane', '5'): 0,\n",
    "                      ('Vap', 'methane', '1'): 1.925e1,\n",
    "                      ('Vap', 'methane', '2'): 5.213e-2,\n",
    "                      ('Vap', 'methane', '3'): 1.197e-5,\n",
    "                      ('Vap', 'methane', '4'): -1.132e-8,\n",
    "                      ('Vap', 'methane', '5'): 0,\n",
    "                      ('Liq', 'diphenyl', '1'): 1.2177e5,\n",
    "                      ('Liq', 'diphenyl', '2'): 4.2930e2,\n",
    "                      ('Liq', 'diphenyl', '3'): 0,\n",
    "                      ('Liq', 'diphenyl', '4'): 0,\n",
    "                      ('Liq', 'diphenyl', '5'): 0,\n",
    "                      ('Vap', 'diphenyl', '1'): -9.707e1,\n",
    "                      ('Vap', 'diphenyl', '2'): 1.106e0,\n",
    "                      ('Vap', 'diphenyl', '3'): -8.855e-4,\n",
    "                      ('Vap', 'diphenyl', '4'): 2.790e-7,\n",
    "                      ('Vap', 'diphenyl', '5'): 0}\n",
    "pressure_sat_coeff_data = {('benzene', 'A'): 4.202,\n",
    "                                   ('benzene', 'B'): 1322,\n",
    "                                   ('benzene', 'C'): -38.56,\n",
    "                                   ('toluene', 'A'): 4.216,\n",
    "                                   ('toluene', 'B'): 1435,\n",
    "                                   ('toluene', 'C'): -43.33,\n",
    "                                   ('hydrogen', 'A'): 3.543,\n",
    "                                   ('hydrogen', 'B'): 99.40,\n",
    "                                   ('hydrogen', 'C'): 7.726,\n",
    "                                   ('methane', 'A'): 3.990,\n",
    "                                   ('methane', 'B'): 443.0,\n",
    "                                   ('methane', 'C'): -0.49,\n",
    "                                   ('diphenyl', 'A'): 4.345,\n",
    "                                   ('diphenyl', 'B'): 1988,\n",
    "                                   ('diphenyl', 'C'): -70.82}\n",
    "dh_vap = {'benzene': 3.387e4, 'toluene': 3.8262e4,\n",
    "                  'hydrogen': 0, 'methane': 0, \"diphenyl\": 6.271e4}"
   ]
  },
  {
   "cell_type": "code",
   "execution_count": 7,
   "metadata": {},
   "outputs": [],
   "source": [
    "dmap = {\"pressure_crit\": pressure_crit_data,\n",
    "       \"temperature_crit\": temperature_crit_data,\n",
    "       \"mw\": mw_comp_data,\n",
    "       \"cp_liq\": dens_liq_data,\n",
    "       \"bp\": bp_data,\n",
    "       \"cp_ig\": cp_ig_data,\n",
    "       \"pressure_sat_coeff\": pressure_sat_coeff_data,\n",
    "       \"dh_vap\": dh_vap}"
   ]
  },
  {
   "cell_type": "code",
   "execution_count": 11,
   "metadata": {},
   "outputs": [
    {
     "name": "stdout",
     "output_type": "stream",
     "text": [
      "-- pressure_crit --\n",
      "* DMF data : {'benzene': 4890000.0, 'toluene': 4100000.0, 'hydrogen': 1290000.0, 'methane': 4600000.0, 'diphenyl': 3850000.0}\n",
      "* Orig data: {'benzene': 4890000.0, 'toluene': 4100000.0, 'hydrogen': 1290000.0, 'methane': 4600000.0, 'diphenyl': 3850000.0}\n",
      "-- temperature_crit --\n",
      "* DMF data : {'benzene': 562.2, 'toluene': 591.8, 'hydrogen': 33.0, 'methane': 190.4, 'diphenyl': 789.0}\n",
      "* Orig data: {'benzene': 562.2, 'toluene': 591.8, 'hydrogen': 33.0, 'methane': 190.4, 'diphenyl': 789}\n",
      "-- mw --\n",
      "* DMF data : {'benzene': 0.0781136, 'toluene': 0.0921405, 'hydrogen': 0.002016, 'methane': 0.016043, 'diphenyl': 0.0154212}\n",
      "* Orig data: {'benzene': 0.0781136, 'toluene': 0.0921405, 'hydrogen': 0.002016, 'methane': 0.016043, 'diphenyl': 0.0154212}\n",
      "-- cp_liq --\n",
      "* DMF data : {('benzene', '1'): 1.0162, ('benzene', '2'): 0.2655, ('benzene', '3'): 562.16, ('benzene', '4'): 0.28212, ('toluene', '1'): 0.8488, ('toluene', '2'): 0.26655, ('toluene', '3'): 591.8, ('toluene', '4'): 0.2878, ('hydrogen', '1'): 5.414, ('hydrogen', '2'): 0.34893, ('hydrogen', '3'): 33.19, ('hydrogen', '4'): 0.2706, ('methane', '1'): 2.9214, ('methane', '2'): 0.28976, ('methane', '3'): 190.56, ('methane', '4'): 0.28881, ('diphenyl', '1'): 0.5039, ('diphenyl', '2'): 0.25273, ('diphenyl', '3'): 789.26, ('diphenyl', '4'): 0.281}\n",
      "* Orig data: {('benzene', '1'): 1.0162, ('benzene', '2'): 0.2655, ('benzene', '3'): 562.16, ('benzene', '4'): 0.28212, ('toluene', '1'): 0.8488, ('toluene', '2'): 0.26655, ('toluene', '3'): 591.8, ('toluene', '4'): 0.2878, ('hydrogen', '1'): 5.414, ('hydrogen', '2'): 0.34893, ('hydrogen', '3'): 33.19, ('hydrogen', '4'): 0.2706, ('methane', '1'): 2.9214, ('methane', '2'): 0.28976, ('methane', '3'): 190.56, ('methane', '4'): 0.28881, ('diphenyl', '1'): 0.5039, ('diphenyl', '2'): 0.25273, ('diphenyl', '3'): 789.26, ('diphenyl', '4'): 0.281}\n",
      "-- bp --\n",
      "* DMF data : {'benzene': 353.25, 'toluene': 383.95, 'hydrogen': 20.45, 'methane': 111.75, 'diphenyl': 528.05}\n",
      "* Orig data: {'benzene': 353.25, 'toluene': 383.95, 'hydrogen': 20.45, 'methane': 111.75, 'diphenyl': 528.05}\n",
      "-- cp_ig --\n",
      "* DMF data : {('Liq', 'benzene', '1'): 129000.0, ('Liq', 'benzene', '2'): -170.0, ('Liq', 'benzene', '3'): 0.648, ('Liq', 'benzene', '4'): 0.0, ('Liq', 'benzene', '5'): 0.0, ('Vap', 'benzene', '1'): -33.92, ('Vap', 'benzene', '2'): 0.4739, ('Vap', 'benzene', '3'): -0.0003017, ('Vap', 'benzene', '4'): 7.13e-08, ('Vap', 'benzene', '5'): 0.0, ('Liq', 'toluene', '1'): 140000.0, ('Liq', 'toluene', '2'): -152.0, ('Liq', 'toluene', '3'): 0.695, ('Liq', 'toluene', '4'): 0.0, ('Liq', 'toluene', '5'): 0.0, ('Vap', 'toluene', '1'): -24.35, ('Vap', 'toluene', '2'): 0.5125, ('Vap', 'toluene', '3'): -0.0002765, ('Vap', 'toluene', '4'): 4.911e-08, ('Vap', 'toluene', '5'): 0.0, ('Liq', 'hydrogen', '1'): 0.0, ('Liq', 'hydrogen', '2'): 0.0, ('Liq', 'hydrogen', '3'): 0.0, ('Liq', 'hydrogen', '4'): 0.0, ('Liq', 'hydrogen', '5'): 0.0, ('Vap', 'hydrogen', '1'): 27.14, ('Vap', 'hydrogen', '2'): 0.009274, ('Vap', 'hydrogen', '3'): -1.381e-05, ('Vap', 'hydrogen', '4'): 7.645e-09, ('Vap', 'hydrogen', '5'): 0.0, ('Liq', 'methane', '1'): 0.0, ('Liq', 'methane', '2'): 0.0, ('Liq', 'methane', '3'): 0.0, ('Liq', 'methane', '4'): 0.0, ('Liq', 'methane', '5'): 0.0, ('Vap', 'methane', '1'): 19.25, ('Vap', 'methane', '2'): 0.05213, ('Vap', 'methane', '3'): 1.197e-05, ('Vap', 'methane', '4'): -1.132e-08, ('Vap', 'methane', '5'): 0.0, ('Liq', 'diphenyl', '1'): 121770.0, ('Liq', 'diphenyl', '2'): 429.3, ('Liq', 'diphenyl', '3'): 0.0, ('Liq', 'diphenyl', '4'): 0.0, ('Liq', 'diphenyl', '5'): 0.0, ('Vap', 'diphenyl', '1'): -97.07, ('Vap', 'diphenyl', '2'): 1.106, ('Vap', 'diphenyl', '3'): -0.0008855, ('Vap', 'diphenyl', '4'): 2.79e-07, ('Vap', 'diphenyl', '5'): 0.0}\n",
      "* Orig data: {('Liq', 'benzene', '1'): 129000.0, ('Liq', 'benzene', '2'): -170.0, ('Liq', 'benzene', '3'): 0.648, ('Liq', 'benzene', '4'): 0, ('Liq', 'benzene', '5'): 0, ('Vap', 'benzene', '1'): -33.92, ('Vap', 'benzene', '2'): 0.4739, ('Vap', 'benzene', '3'): -0.0003017, ('Vap', 'benzene', '4'): 7.13e-08, ('Vap', 'benzene', '5'): 0, ('Liq', 'toluene', '1'): 140000.0, ('Liq', 'toluene', '2'): -152.0, ('Liq', 'toluene', '3'): 0.695, ('Liq', 'toluene', '4'): 0, ('Liq', 'toluene', '5'): 0, ('Vap', 'toluene', '1'): -24.35, ('Vap', 'toluene', '2'): 0.5125, ('Vap', 'toluene', '3'): -0.0002765, ('Vap', 'toluene', '4'): 4.911e-08, ('Vap', 'toluene', '5'): 0, ('Liq', 'hydrogen', '1'): 0, ('Liq', 'hydrogen', '2'): 0, ('Liq', 'hydrogen', '3'): 0, ('Liq', 'hydrogen', '4'): 0, ('Liq', 'hydrogen', '5'): 0, ('Vap', 'hydrogen', '1'): 27.14, ('Vap', 'hydrogen', '2'): 0.009274, ('Vap', 'hydrogen', '3'): -1.381e-05, ('Vap', 'hydrogen', '4'): 7.645e-09, ('Vap', 'hydrogen', '5'): 0, ('Liq', 'methane', '1'): 0, ('Liq', 'methane', '2'): 0, ('Liq', 'methane', '3'): 0, ('Liq', 'methane', '4'): 0, ('Liq', 'methane', '5'): 0, ('Vap', 'methane', '1'): 19.25, ('Vap', 'methane', '2'): 0.05213, ('Vap', 'methane', '3'): 1.197e-05, ('Vap', 'methane', '4'): -1.132e-08, ('Vap', 'methane', '5'): 0, ('Liq', 'diphenyl', '1'): 121770.0, ('Liq', 'diphenyl', '2'): 429.3, ('Liq', 'diphenyl', '3'): 0, ('Liq', 'diphenyl', '4'): 0, ('Liq', 'diphenyl', '5'): 0, ('Vap', 'diphenyl', '1'): -97.07, ('Vap', 'diphenyl', '2'): 1.106, ('Vap', 'diphenyl', '3'): -0.0008855, ('Vap', 'diphenyl', '4'): 2.79e-07, ('Vap', 'diphenyl', '5'): 0}\n",
      "-- pressure_sat_coeff --\n",
      "* DMF data : {('benzene', 'A'): 4.202, ('benzene', 'B'): 1322.0, ('benzene', 'C'): -38.56, ('toluene', 'A'): 4.216, ('toluene', 'B'): 1435.0, ('toluene', 'C'): -43.33, ('hydrogen', 'A'): 3.543, ('hydrogen', 'B'): 99.4, ('hydrogen', 'C'): 7.726, ('methane', 'A'): 3.99, ('methane', 'B'): 443.0, ('methane', 'C'): -0.49, ('diphenyl', 'A'): 4.345, ('diphenyl', 'B'): 1988.0, ('diphenyl', 'C'): -70.82}\n",
      "* Orig data: {('benzene', 'A'): 4.202, ('benzene', 'B'): 1322, ('benzene', 'C'): -38.56, ('toluene', 'A'): 4.216, ('toluene', 'B'): 1435, ('toluene', 'C'): -43.33, ('hydrogen', 'A'): 3.543, ('hydrogen', 'B'): 99.4, ('hydrogen', 'C'): 7.726, ('methane', 'A'): 3.99, ('methane', 'B'): 443.0, ('methane', 'C'): -0.49, ('diphenyl', 'A'): 4.345, ('diphenyl', 'B'): 1988, ('diphenyl', 'C'): -70.82}\n",
      "-- dh_vap --\n",
      "* DMF data : {'benzene': 33870.0, 'toluene': 38262.0, 'hydrogen': 0.0, 'methane': 0.0, 'diphenyl': 62710.0}\n",
      "* Orig data: {'benzene': 33870.0, 'toluene': 38262.0, 'hydrogen': 0, 'methane': 0, 'diphenyl': 62710.0}\n"
     ]
    }
   ],
   "source": [
    "for dmf_name, pydata in dmap.items():\n",
    "    print(f\"-- {dmf_name} --\")\n",
    "    dmf_data = TDU(wspace.find_one(name=dmf_name).data).param_data\n",
    "    print(f\"* DMF data : {dmf_data}\")\n",
    "    print(f\"* Orig data: {pydata}\")\n",
    "    assert dmf_data == pydata"
   ]
  },
  {
   "cell_type": "code",
   "execution_count": null,
   "metadata": {},
   "outputs": [],
   "source": []
  }
 ],
 "metadata": {
  "kernelspec": {
   "display_name": "idaes37",
   "language": "python",
   "name": "idaes37"
  },
  "language_info": {
   "codemirror_mode": {
    "name": "ipython",
    "version": 3
   },
   "file_extension": ".py",
   "mimetype": "text/x-python",
   "name": "python",
   "nbconvert_exporter": "python",
   "pygments_lexer": "ipython3",
   "version": "3.7.3"
  }
 },
 "nbformat": 4,
 "nbformat_minor": 4
}
