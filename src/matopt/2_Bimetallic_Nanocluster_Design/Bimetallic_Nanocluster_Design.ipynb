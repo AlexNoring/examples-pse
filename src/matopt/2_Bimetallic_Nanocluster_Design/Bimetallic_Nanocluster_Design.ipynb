{
 "cells": [
  {
   "cell_type": "markdown",
   "metadata": {},
   "source": [
    "# Bimetallic Nanocluster Cohesive Energy Minimization - via Labeling\n",
    "\n",
    "This notebook serves as an example application of the MatOpt framework. We consider an example optimization problem of identifying the global energy minimum bimetallic nanocluster configuration.\n",
    "\n",
    "This is a continuation of the example given in ***Monometallic_Nanocluster_Design.ipynb***. In this example, we will show how a very similar model can be used to optimize a bimetallic cluster by \"labelling\" the sites of a pre-defined monometallic cluster. \n",
    "\n",
    "The model for cohesive energy is based on:\n",
    "\n",
    "Yan, Z., Taylor, M. G., Mascareno, A., & Mpourmpakis, G. (2018). Size-, Shape-, and Composition-Dependent Model for Metal Nanoparticle Stability Prediction. *Nano Letters*, 18(4), 2696-2704."
   ]
  },
  {
   "cell_type": "markdown",
   "metadata": {},
   "source": [
    "## Importing Packages\n",
    "\n",
    "We start by importing several standard Python modules for convienience."
   ]
  },
  {
   "cell_type": "code",
   "execution_count": 1,
   "metadata": {},
   "outputs": [],
   "source": [
    "import numpy as np\n",
    "from math import sqrt"
   ]
  },
  {
   "cell_type": "markdown",
   "metadata": {},
   "source": [
    "Then, we import the MatOpt package in its entirety. "
   ]
  },
  {
   "cell_type": "code",
   "execution_count": 2,
   "metadata": {},
   "outputs": [],
   "source": [
    "from idaes.apps.matopt import *"
   ]
  },
  {
   "cell_type": "markdown",
   "metadata": {},
   "source": [
    "## Setting Up a Material System\n",
    "\n",
    "We first identify the optimal metal-independent nanocluster shape, using the code that wsas demonstrated in **Monometallic_Nanocluster_Design.ipynb**."
   ]
  },
  {
   "cell_type": "code",
   "execution_count": 3,
   "metadata": {},
   "outputs": [
    {
     "name": "stdout",
     "output_type": "stream",
     "text": [
      "\n",
      "Welcome to IBM(R) ILOG(R) CPLEX(R) Interactive Optimizer Community Edition 12.9.0.0\n",
      "  with Simplex, Mixed Integer & Barrier Optimizers\n",
      "5725-A06 5725-A29 5724-Y48 5724-Y49 5724-Y54 5724-Y55 5655-Y21\n",
      "Copyright IBM Corp. 1988, 2019.  All Rights Reserved.\n",
      "\n",
      "Type 'help' for a list of available commands.\n",
      "Type 'help' followed by a command name for more\n",
      "information on commands.\n",
      "\n",
      "CPLEX> Logfile 'cplex.log' closed.\n",
      "Logfile 'C:\\Users\\xiang\\AppData\\Local\\Temp\\tmpvdb3l2gu.cplex.log' open.\n",
      "CPLEX> New value for absolute mixed integer optimality gap tolerance: 0\n",
      "CPLEX> New value for mixed integer optimality gap tolerance: 0\n",
      "CPLEX> New value for time limit in seconds: 100\n",
      "CPLEX> Problem 'C:\\Users\\xiang\\AppData\\Local\\Temp\\tmpcv9nc2pj.pyomo.lp' read.\n",
      "Read time = 0.00 sec. (0.06 ticks)\n",
      "CPLEX> Problem name         : C:\\Users\\xiang\\AppData\\Local\\Temp\\tmpcv9nc2pj.pyomo.lp\n",
      "Objective sense      : Maximize\n",
      "Variables            :     426  [Nneg: 1,  Fix: 1,  Box: 13,  Free: 157,\n",
      "                                 Binary: 241,  General Integer: 13]\n",
      "Objective nonzeros   :       1\n",
      "Linear constraints   :     583  [Less: 515,  Greater: 13,  Equal: 55]\n",
      "  Nonzeros           :    1866\n",
      "  RHS nonzeros       :      86\n",
      "\n",
      "Variables            : Min LB: 0.0000000        Max UB: 12.00000       \n",
      "Objective nonzeros   : Min   : 1.000000         Max   : 1.000000       \n",
      "Linear constraints   :\n",
      "  Nonzeros           : Min   : 0.04811252       Max   : 12.00000       \n",
      "  RHS nonzeros       : Min   : 1.000000         Max   : 1.000000       \n",
      "CPLEX> CPXPARAM_TimeLimit                               100\n",
      "CPXPARAM_MIP_Tolerances_AbsMIPGap                0\n",
      "CPXPARAM_MIP_Tolerances_MIPGap                   0\n",
      "Tried aggregator 2 times.\n",
      "MIP Presolve eliminated 171 rows and 147 columns.\n",
      "MIP Presolve modified 12 coefficients.\n",
      "Aggregator did 38 substitutions.\n",
      "Reduced MIP has 374 rows, 241 columns, and 1149 nonzeros.\n",
      "Reduced MIP has 156 binaries, 0 generals, 0 SOSs, and 0 indicators.\n",
      "Presolve time = 0.00 sec. (1.49 ticks)\n",
      "Found incumbent of value 0.521849 after 0.02 sec. (2.09 ticks)\n",
      "Probing time = 0.00 sec. (1.36 ticks)\n",
      "Cover probing fixed 0 vars, tightened 1 bounds.\n",
      "Tried aggregator 1 time.\n",
      "MIP Presolve eliminated 2 rows and 1 columns.\n",
      "Reduced MIP has 372 rows, 240 columns, and 1144 nonzeros.\n",
      "Reduced MIP has 156 binaries, 0 generals, 0 SOSs, and 0 indicators.\n",
      "Presolve time = 0.00 sec. (1.50 ticks)\n",
      "Probing time = 0.00 sec. (1.31 ticks)\n",
      "Clique table members: 880.\n",
      "MIP emphasis: balance optimality and feasibility.\n",
      "MIP search method: dynamic search.\n",
      "Parallel mode: deterministic, using up to 8 threads.\n",
      "Root relaxation solution time = 0.00 sec. (3.34 ticks)\n",
      "\n",
      "        Nodes                                         Cuts/\n",
      "   Node  Left     Objective  IInf  Best Integer    Best Bound    ItCnt     Gap\n",
      "\n",
      "*     0+    0                            0.5218        2.1667           315.19%\n",
      "      0     0        0.9861   103        0.5218        0.9861      291   88.96%\n",
      "      0     0        0.6455    96        0.5218      Cuts: 67      417   23.69%\n",
      "*     0+    0                            0.5485        0.6455            17.68%\n",
      "      0     0        0.6393    99        0.5485     Cuts: 159      460   16.55%\n",
      "      0     0        0.6390    98        0.5485  ZeroHalf: 19      465   16.50%\n",
      "      0     0        0.6356    99        0.5485      Cuts: 10      470   15.87%\n",
      "      0     0        0.6336    97        0.5485       Cuts: 9      485   15.51%\n",
      "      0     0        0.6108    97        0.5485      Cuts: 31      533   11.37%\n",
      "      0     0        0.6088    98        0.5485  ZeroHalf: 20      548   10.99%\n",
      "      0     0        0.6072    98        0.5485   ZeroHalf: 5      559   10.71%\n",
      "      0     0        0.6032    97        0.5485  ZeroHalf: 22      579    9.97%\n",
      "      0     0        0.6029    98        0.5485      Cuts: 20      588    9.92%\n",
      "      0     0        0.5970    93        0.5485  ZeroHalf: 26      610    8.83%\n",
      "      0     0        0.5970    96        0.5485      Cuts: 10      617    8.83%\n",
      "      0     0        0.5969    95        0.5485   ZeroHalf: 7      627    8.82%\n",
      "*     0+    0                            0.5500        0.5969             8.52%\n",
      "      0     0        cutoff              0.5500        0.5500      627    0.00%\n",
      "Elapsed time = 0.14 sec. (69.13 ticks, tree = 0.01 MB, solutions = 3)\n",
      "\n",
      "Clique cuts applied:  24\n",
      "Implied bound cuts applied:  20\n",
      "Zero-half cuts applied:  8\n",
      "Lift and project cuts applied:  1\n",
      "\n",
      "Root node processing (before b&c):\n",
      "  Real time             =    0.14 sec. (69.15 ticks)\n",
      "Parallel b&c, 8 threads:\n",
      "  Real time             =    0.00 sec. (0.00 ticks)\n",
      "  Sync time (average)   =    0.00 sec.\n",
      "  Wait time (average)   =    0.00 sec.\n",
      "                          ------------\n",
      "Total (root+branch&cut) =    0.14 sec. (69.15 ticks)\n",
      "\n",
      "Solution pool: 3 solutions saved.\n",
      "\n",
      "MIP - Integer optimal solution:  Objective =  5.5003296046e-01\n",
      "Solution time =    0.16 sec.  Iterations = 627  Nodes = 0\n",
      "Deterministic time = 69.15 ticks  (443.30 ticks/sec)\n",
      "\n",
      "CPLEX> Incumbent solution written to file 'C:\\Users\\xiang\\AppData\\Local\\Temp\\tmpx0dt93jg.cplex.sol'.\n",
      "CPLEX> The solver exited normally.\n",
      "A feasible and provably optimal solution is available.\n",
      "The Design has objective: 0.5500329604578591\n"
     ]
    }
   ],
   "source": [
    "Lat = FCCLattice(IAD=1.0)\n",
    "Canv = Canvas()\n",
    "Canv.addLocation(np.array([0,0,0],dtype=float))\n",
    "Canv.addShells(1,Lat.getNeighbors)\n",
    "Atoms = [Atom('Cu')]\n",
    "N = 6\n",
    "m = MatOptModel(Canv,Atoms)\n",
    "Vals = [sqrt(CN) for CN in range(0,13)]\n",
    "BPs = [CN for CN in range(0,13)]\n",
    "m.addSitesDescriptor('CNRi',bounds=(0,sqrt(12)),integer=False,\n",
    "                     rules=PiecewiseLinear(values=Vals,\n",
    "                                           breakpoints=BPs,\n",
    "                                           input_desc=m.Ci))\n",
    "m.addGlobalDescriptor('Ecoh',rules=EqualTo(SumSites(desc=m.CNRi,\n",
    "                                                    coefs=(1/(N*sqrt(12))))))\n",
    "m.addGlobalDescriptor('Size',bounds=(N,N),\n",
    "                      rules=EqualTo(SumSites(desc=m.Yi)))\n",
    "D = m.maximize(m.Ecoh,tilim=100)"
   ]
  },
  {
   "cell_type": "markdown",
   "metadata": {},
   "source": [
    "We take the locations from the optimal monometallic problem to initialize a ***Canvas*** object for the bimetallic case. "
   ]
  },
  {
   "cell_type": "code",
   "execution_count": 4,
   "metadata": {},
   "outputs": [],
   "source": [
    "Canv = Canvas()\n",
    "for i in range(len(D)):\n",
    "    if(D.Contents[i] is not None):\n",
    "        Canv.addLocation(D.Canvas.Points[i])\n",
    "Canv.setNeighborsFromFunc(Lat.getNeighbors)"
   ]
  },
  {
   "cell_type": "markdown",
   "metadata": {},
   "source": [
    "Additionally, we create a few data structures for holding bimetallic material information. First, we make a list of multiple ***Atom*** objects that will be the building blocks of the model. Next, we specify a dictionary with the bounds to impose on composition."
   ]
  },
  {
   "cell_type": "code",
   "execution_count": 5,
   "metadata": {},
   "outputs": [],
   "source": [
    "Atoms = [Atom('Cu'),Atom('Ag')]\n",
    "CompBounds = {Atom('Cu'):(3,3),\n",
    "              Atom('Ag'):(3,3)}"
   ]
  },
  {
   "cell_type": "markdown",
   "metadata": {},
   "source": [
    "## Specifying an Optimization Model\n",
    "\n",
    "We start by creating a ***MatOptModel*** object that will hold the information about the problem variables and constraints. At a minimum, ever model requires a Canvas object to be defined. Additionally, the list of building blocks and conformations that are present in the model should be defined. "
   ]
  },
  {
   "cell_type": "code",
   "execution_count": 6,
   "metadata": {},
   "outputs": [],
   "source": [
    "m = MatOptModel(Canv,Atoms)"
   ]
  },
  {
   "cell_type": "markdown",
   "metadata": {},
   "source": [
    "By default, several basic variables are pre-defined. See the first example, ***Monometallic_Nanocluster_Design.ipynb*** for a description of basic variables, expressions, and constraint rules."
   ]
  },
  {
   "cell_type": "markdown",
   "metadata": {},
   "source": [
    "To start, we inidcate that the choice to place an atom is fixed so that each canvas site is required to have an atom. This simplifies the problem significantly and results in a model that will seek to find the optimal labeling of metals on the nanocluster. "
   ]
  },
  {
   "cell_type": "code",
   "execution_count": 7,
   "metadata": {},
   "outputs": [],
   "source": [
    "m.Yi.rules.append(FixedTo(1.0))"
   ]
  },
  {
   "cell_type": "markdown",
   "metadata": {},
   "source": [
    "Next, we define a descriptor for the energy of bonds as a function of properties at each site.\n",
    "Since the locations of the atoms are fixed, the only decision is how to label each site as either Atom A or Atom B. \n",
    "This allows us to simplify the model and compute coefficients that rely on coordination number.\n",
    "In the block below, we implement the bimetallic model for bond energy defined in Yan et al., 2018."
   ]
  },
  {
   "cell_type": "code",
   "execution_count": 8,
   "metadata": {},
   "outputs": [],
   "source": [
    "GklCoefs = {(Atom('Cu'),Atom('Cu')):3.520,\n",
    "            (Atom('Cu'),Atom('Ag')):2.112,\n",
    "            (Atom('Ag'),Atom('Ag')):2.580,\n",
    "            (Atom('Ag'),Atom('Cu')):3.612}\n",
    "BEijCoefs = {}\n",
    "for i in range(len(Canv)):\n",
    "    CNi = sum(1 for _ in Canv.NeighborhoodIndexes[i] if _ is not None)\n",
    "    for j in Canv.NeighborhoodIndexes[i]:\n",
    "        if(j is not None):\n",
    "            CNj = sum(1 for _ in Canv.NeighborhoodIndexes[j] if _ is not None)\n",
    "            for k in Atoms:\n",
    "                for l in Atoms:\n",
    "                    BEijCoefs[i,j,k,l] = GklCoefs[k,l]*1/sqrt(CNi) + GklCoefs[l,k]*1/sqrt(CNj)\n",
    "m.addBondsDescriptor('BEij',\n",
    "                     rules=EqualTo(SumBondTypes(m.Xijkl,coefs=BEijCoefs)),\n",
    "                     symmetric_bonds=True)"
   ]
  },
  {
   "cell_type": "markdown",
   "metadata": {},
   "source": [
    "Next, we define the cohesive energy as a sum of contributions from all BEij bond descriptors."
   ]
  },
  {
   "cell_type": "code",
   "execution_count": 9,
   "metadata": {},
   "outputs": [],
   "source": [
    "m.addGlobalDescriptor('Ecoh',rules=EqualTo(SumBonds(desc=m.BEij,\n",
    "                                                    coefs=1/(N*sqrt(12)))))"
   ]
  },
  {
   "cell_type": "markdown",
   "metadata": {},
   "source": [
    "Finally, we add constraints on the size and composition of the resulting designs."
   ]
  },
  {
   "cell_type": "code",
   "execution_count": 10,
   "metadata": {},
   "outputs": [],
   "source": [
    "m.addGlobalTypesDescriptor('Composition',bounds=CompBounds,\n",
    "                           rules=EqualTo(SumSites(desc=m.Yik)))"
   ]
  },
  {
   "cell_type": "markdown",
   "metadata": {},
   "source": [
    "## Solving the Model\n",
    "\n",
    "Once the model is fully specified, we can optimize in light of a global descriptor. In this example, we choose to maximize the cohesive energy defined previously. Additionally, we can specify basic optimization parameters such as the time limit and memory limit\\* for the optimizer. \n"
   ]
  },
  {
   "cell_type": "code",
   "execution_count": 11,
   "metadata": {},
   "outputs": [
    {
     "name": "stdout",
     "output_type": "stream",
     "text": [
      "\n",
      "Welcome to IBM(R) ILOG(R) CPLEX(R) Interactive Optimizer Community Edition 12.9.0.0\n",
      "  with Simplex, Mixed Integer & Barrier Optimizers\n",
      "5725-A06 5725-A29 5724-Y48 5724-Y49 5724-Y54 5724-Y55 5655-Y21\n",
      "Copyright IBM Corp. 1988, 2019.  All Rights Reserved.\n",
      "\n",
      "Type 'help' for a list of available commands.\n",
      "Type 'help' followed by a command name for more\n",
      "information on commands.\n",
      "\n",
      "CPLEX> Logfile 'cplex.log' closed.\n",
      "Logfile 'C:\\Users\\xiang\\AppData\\Local\\Temp\\tmpxz1yfdyc.cplex.log' open.\n",
      "CPLEX> New value for absolute mixed integer optimality gap tolerance: 0\n",
      "CPLEX> New value for mixed integer optimality gap tolerance: 0\n",
      "CPLEX> New value for time limit in seconds: 360\n",
      "CPLEX> New value for upper limit on size of tree in megabytes: 4096\n",
      "CPLEX> Problem 'C:\\Users\\xiang\\AppData\\Local\\Temp\\tmpvd65jb3p.pyomo.lp' read.\n",
      "Read time = 0.01 sec. (0.01 ticks)\n",
      "CPLEX> Problem name         : C:\\Users\\xiang\\AppData\\Local\\Temp\\tmpvd65jb3p.pyomo.lp\n",
      "Objective sense      : Maximize\n",
      "Variables            :      71  [Nneg: 1,  Fix: 2,  Free: 12,  Binary: 56]\n",
      "Objective nonzeros   :       1\n",
      "Linear constraints   :     159  [Less: 138,  Equal: 21]\n",
      "  Nonzeros           :     414\n",
      "  RHS nonzeros       :      57\n",
      "\n",
      "Variables            : Min LB: 0.0000000        Max UB: 3.000000       \n",
      "Objective nonzeros   : Min   : 1.000000         Max   : 1.000000       \n",
      "Linear constraints   :\n",
      "  Nonzeros           : Min   : 0.04811252       Max   : 4.064546       \n",
      "  RHS nonzeros       : Min   : 1.000000         Max   : 1.000000       \n",
      "CPLEX> CPXPARAM_TimeLimit                               360\n",
      "CPXPARAM_MIP_Tolerances_AbsMIPGap                0\n",
      "CPXPARAM_MIP_Tolerances_MIPGap                   0\n",
      "CPXPARAM_MIP_Limits_TreeMemory                   4096\n",
      "Tried aggregator 2 times.\n",
      "MIP Presolve eliminated 20 rows and 15 columns.\n",
      "Aggregator did 6 substitutions.\n",
      "Reduced MIP has 133 rows, 50 columns, and 314 nonzeros.\n",
      "Reduced MIP has 50 binaries, 0 generals, 0 SOSs, and 0 indicators.\n",
      "Presolve time = 0.00 sec. (0.44 ticks)\n",
      "Found incumbent of value 1.546227 after 0.00 sec. (0.80 ticks)\n",
      "Probing time = 0.00 sec. (0.23 ticks)\n",
      "Tried aggregator 1 time.\n",
      "Reduced MIP has 133 rows, 50 columns, and 314 nonzeros.\n",
      "Reduced MIP has 50 binaries, 0 generals, 0 SOSs, and 0 indicators.\n",
      "Presolve time = 0.00 sec. (0.30 ticks)\n",
      "Probing time = 0.00 sec. (0.23 ticks)\n",
      "Clique table members: 265.\n",
      "MIP emphasis: balance optimality and feasibility.\n",
      "MIP search method: dynamic search.\n",
      "Parallel mode: deterministic, using up to 8 threads.\n",
      "Root relaxation solution time = 0.00 sec. (0.34 ticks)\n",
      "\n",
      "        Nodes                                         Cuts/\n",
      "   Node  Left     Objective  IInf  Best Integer    Best Bound    ItCnt     Gap\n",
      "\n",
      "*     0+    0                            1.5462        6.5036           320.61%\n",
      "*     0+    0                            1.6357        6.5036           297.59%\n",
      "*     0+    0                            1.6556        6.5036           292.83%\n",
      "      0     0        3.2518    50        1.6556        3.2518       52   96.41%\n",
      "      0     0        2.1125    38        1.6556     Cuts: 108       91   27.60%\n",
      "      0     0        1.8234    26        1.6556      Cuts: 21      112   10.14%\n",
      "      0     0        1.8186    29        1.6556   ZeroHalf: 3      113    9.85%\n",
      "*     0+    0                            1.6754        1.8186             8.55%\n",
      "      0     0        1.7507    34        1.6754   ZeroHalf: 5      116    4.49%\n",
      "      0     0        cutoff              1.6754                    116     --- \n",
      "Elapsed time = 0.05 sec. (8.16 ticks, tree = 0.01 MB, solutions = 4)\n",
      "\n",
      "Clique cuts applied:  35\n",
      "Implied bound cuts applied:  6\n",
      "Zero-half cuts applied:  19\n",
      "Lift and project cuts applied:  1\n",
      "Gomory fractional cuts applied:  2\n",
      "\n",
      "Root node processing (before b&c):\n",
      "  Real time             =    0.05 sec. (8.16 ticks)\n",
      "Parallel b&c, 8 threads:\n",
      "  Real time             =    0.00 sec. (0.00 ticks)\n",
      "  Sync time (average)   =    0.00 sec.\n",
      "  Wait time (average)   =    0.00 sec.\n",
      "                          ------------\n",
      "Total (root+branch&cut) =    0.05 sec. (8.16 ticks)\n",
      "\n",
      "Solution pool: 4 solutions saved.\n",
      "\n",
      "MIP - Integer optimal solution:  Objective =  1.6754118151e+00\n",
      "Solution time =    0.05 sec.  Iterations = 116  Nodes = 0\n",
      "Deterministic time = 8.16 ticks  (173.64 ticks/sec)\n",
      "\n",
      "CPLEX> Incumbent solution written to file 'C:\\Users\\xiang\\AppData\\Local\\Temp\\tmp7043i5zr.cplex.sol'.\n",
      "CPLEX> The solver exited normally.\n",
      "A feasible and provably optimal solution is available.\n",
      "The Design has objective: 1.6754118151174977\n"
     ]
    }
   ],
   "source": [
    "D = None\n",
    "try:\n",
    "    D = m.maximize(m.Ecoh,tilim=360,trelim=4096)\n",
    "except:\n",
    "    print('MaOpt can not find usable solver (CPLEX or NEOS-CPLEX)')"
   ]
  },
  {
   "cell_type": "markdown",
   "metadata": {},
   "source": [
    "## Processing Solutions\n",
    "\n",
    "If a design was identified (optimal or otherwise), then a ***Design*** object is returned from the optimization method. The optimal design can be plotted via any of the supported parsers. "
   ]
  },
  {
   "cell_type": "code",
   "execution_count": 12,
   "metadata": {},
   "outputs": [],
   "source": [
    "if(D is not None):\n",
    "    D.toPDB('result.pdb')"
   ]
  }
 ],
 "metadata": {
  "kernelspec": {
   "display_name": "Python 3",
   "language": "python",
   "name": "python3"
  },
  "language_info": {
   "codemirror_mode": {
    "name": "ipython",
    "version": 3
   },
   "file_extension": ".py",
   "mimetype": "text/x-python",
   "name": "python",
   "nbconvert_exporter": "python",
   "pygments_lexer": "ipython3",
   "version": "3.7.3"
  }
 },
 "nbformat": 4,
 "nbformat_minor": 2
}