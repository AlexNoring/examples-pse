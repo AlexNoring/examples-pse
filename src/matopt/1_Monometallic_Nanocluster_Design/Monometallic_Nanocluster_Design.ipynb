{
  "cells": [
    {
      "cell_type": "markdown",
      "metadata": {},
      "source": [
        "# Monometallic Nanocluster Design\n",
        "\n",
        "In this module, we introduce the **MatOpt** interface for representing material properties and specifying optimization problems. \n",
        "\n",
        "We have designed the interface with severl goals in mind:\n",
        "\n",
        "1. To **simplify the representation of nanostructured materials,** streamlining the creation of materials optimization problems. \n",
        "2. To provide a simple interface so that users **do not need to understand the details of building mathematical optmization models** or the syntax of the Pyomo package. \n",
        "3. To **automate many of the common steps of materials optimization,** speeding up the development of new models. \n",
        "\n",
        "As an example system, we will consider the minimization of cohesive energy in nanoclusters, recently demonstrated in:\n",
        "\n",
        "Isenberg, N. M., et al., \"Identification of Optimally Stable Nanocluster Geometries via Mathematical Optimization and Density Functional Theory,\" *Molecular Systems Design & Engineering*, 2019. DOI: [10.1039/C9ME00108E](https://doi.org/10.1039/C9ME00108E). \n",
        "\n",
        "We seek to identify the geometry that minimizes the cohesive energy of a nanocluster on the face-centered cubic (FCC) lattice. \n",
        "As a model for cohesive energy, we use model based on the square-root of coordination number, refered to as the Tomanek model [[1]](https://doi.org/10.1103/PhysRevB.28.665).\n",
        "In the equation below, we define the normalized cohesive energy, as the normalized contribution of the square root of the coordination number. \n",
        "\n",
        "$$\\hat{E}^{\\text{surf}} = \\frac{1}{N \\sqrt{12}} \\displaystyle \\sum_i \\sqrt{CN_i} $$\n",
        "\n",
        "In the following sections, we demonstrate the basic approach for importing the MatOpt package, specifying the design space, formulating an optimization model, solving the optimization problem, and then outputting results. "
      ]
    },
    {
      "cell_type": "markdown",
      "metadata": {},
      "source": [
        "## Importing Packages\n",
        "\n",
        "We start by importing several standard Python modules for convenience. "
      ]
    },
    {
      "cell_type": "code",
      "execution_count": 4,
      "metadata": {},
      "outputs": [],
      "source": [
        "import numpy as np\n",
        "from math import sqrt"
      ]
    },
    {
      "cell_type": "markdown",
      "metadata": {},
      "source": [
        "Next, we import MatOpt."
      ]
    },
    {
      "cell_type": "code",
      "execution_count": 5,
      "metadata": {},
      "outputs": [],
      "source": [
        "from idaes.apps.matopt import *"
      ]
    },
    {
      "cell_type": "markdown",
      "metadata": {},
      "source": [
        "## Representing Materials\n",
        "To begin formulating a material optimization problem, we need several pieces of information about the design space.\n",
        "Our goal is to generate a data structure for representing the choices in the design space, namely the choice of where to place atoms on FCC lattice sites. \n",
        "\n",
        "First, we define an ***FCCLattice*** object that holds the information about what sites should be included and which sites should be considered neighbors. \n",
        "As argument to the lattice object, we are required to provide the interatomic distance. "
      ]
    },
    {
      "cell_type": "code",
      "execution_count": 6,
      "metadata": {},
      "outputs": [],
      "source": [
        "Lat = FCCLattice(IAD=2.770)"
      ]
    },
    {
      "cell_type": "markdown",
      "metadata": {},
      "source": [
        "Next, we define a ***Canvas*** object that links Cartesian coordinates to more abstract graph consisting of sites and neighbors.\n",
        "We incrimentally construct a Canvas by first introducing a site at the origin of the coordinate system. \n",
        "Then, we add \"two shells\" of neighbors, meaning that we introduce a shell of sites neighboring to the origin (12 for the FCC lattice) and then introduce another shell of neighbors to that group (42 additional sites, for a total of 55 sites). \n",
        "The lattice object provides a *getNeighbors* method to identify these neighbors."
      ]
    },
    {
      "cell_type": "code",
      "execution_count": 7,
      "metadata": {},
      "outputs": [],
      "source": [
        "Canv = Canvas()\n",
        "Canv.addLocation(np.array([0,0,0],dtype=float))\n",
        "Canv.addShells(2,Lat.getNeighbors)"
      ]
    },
    {
      "cell_type": "markdown",
      "metadata": {},
      "source": [
        "Finally, we define a list of ***Atom*** objects to represent the building blocks of our materials. \n",
        "We then use a ***Design*** object to represent the conjunction of a Canvas with a specific arrangement of building blocks.\n",
        "The Design object will be used to represent the material decisions made during the solution of material optimization models. \n",
        "\n",
        "Before applying optimization, we can use the Design object to plot the sites of the Canvas and ensure that we constructed the intended design space. \n",
        "We include several parsers to basic crystal structure file formats such as [XYZ](https://openbabel.org/docs/dev/FileFormats/XYZ_cartesian_coordinates_format.html), [PDB](https://www.rcsb.org/pdb/static.do?p=file_formats/pdb/index.html), [POSCAR](https://cms.mpi.univie.ac.at/vasp/guide/node59.html), and [CFG](http://li.mit.edu/Archive/Graphics/A/index.html#standard_CFG). "
      ]
    },
    {
      "cell_type": "code",
      "execution_count": 8,
      "metadata": {},
      "outputs": [],
      "source": [
        "Atoms = [Atom('Pt')]\n",
        "D = Design(Canv,Atom('Pt'))\n",
        "D.toPDB('canvas_sites.pdb')"
      ]
    },
    {
      "cell_type": "markdown",
      "metadata": {},
      "source": [
        "## Building a Model\n",
        "\n",
        "To hold the materials information, we create a ***MatOptModel*** object. \n",
        "This will hold information about the relevant Canvas, Atoms, and material conformations that may be present in a system. \n",
        "Additionally, we define a parameter for the desired size of the cluster which will be utilized later by several methods. "
      ]
    },
    {
      "cell_type": "code",
      "execution_count": 9,
      "metadata": {},
      "outputs": [],
      "source": [
        "N = 22\n",
        "m = MatOptModel(Canv,Atoms)"
      ]
    },
    {
      "cell_type": "markdown",
      "metadata": {},
      "source": [
        "The MatOptModel additionally hold lists of  ***MaterialDescriptor*** objects that define the relevant material desriptors. \n",
        "By default, several universal site descriptors are pre-defined in the model. \n",
        "From these, all other material descriptors can be defined.\n",
        "\n",
        "| Descriptor    | Explanation |\n",
        "|:--------------|:------------|\n",
        "| ***m.Yik***   | Presence of a building block of type k at site i |\n",
        "| ***m.Yi***    | Presence of any type of building block at site i |\n",
        "| ***m.Xijkl*** | Presence of a building block of type k at site i and a building block of type l at site j |\n",
        "| ***m.Xij***   | Presence of any building block at site i and any building block at site j |\n",
        "| ***m.Cikl***  | Count of neighbors of type l next to a building block of type k at site i |\n",
        "| ***m.Ci***    | Count of any type of neighbors next to a building block at site i |\n",
        "\n",
        "User-specified descriptors are defined by ***DescriptorRule*** objects in conjunction with ***Expr*** expression objects. \n",
        "Available expressions include:\n",
        "\n",
        "| Expression               | Explanation |\n",
        "|:-------------------------|:------------|\n",
        "| ***LinearExpr***         | Multiplication and addition of coefficients to distinct MaterialDescriptors |\n",
        "| ***SiteCombination***    | Summation of site contributions from two sites |\n",
        "| ***SumNeighborSites***   | Summation of site contributions from all neighboring sites |\n",
        "| ***SumNeighborBonds***   | Summation of bond contributions to all neighboring sites |\n",
        "| ***SumSites***           | Summation across sites |\n",
        "| ***SumBonds***           | Summation across bonds |\n",
        "| ***SumSiteTypes***       | Summation across site types |\n",
        "| ***SumBondTypes***       | Summation across bond types |\n",
        "| ***SumSitesAndTypes***   | Summation across sites and site types |\n",
        "| ***SumBondsAndTypes***   | Summation across bonds and bond types |\n",
        "| ***SumConfs***           | Summation across conformation types |\n",
        "| ***SumSitesAndConfs***   | Summation across sites and conformation types |\n",
        "\n",
        "Several types of DescriptorRules are available. \n",
        "\n",
        "| Rule                          | Explanation |\n",
        "|:------------------------------|:------------|\n",
        "| ***LessThan***                | Descriptor less than or equal to an expression |\n",
        "| ***EqualTo***                 | Descriptor equal to an expression |\n",
        "| ***GreaterThan***             | Descriptor greater than or equal to an expression |\n",
        "| ***FixedTo***                 | Descriptor fixed to a scalar value |\n",
        "| ***PiecewiseLinear***         | Descriptor equal to the evaluation of a piecewise linear function |\n",
        "| ***Implies***                 | Indicator descriptor that imposes other constraints if equal to 1 |\n",
        "| ***NegImplies***              | Indicator descriptor that imposes other constraints if equal to 0 |\n",
        "| ***ImpliesSiteCombination***  | Indicator bond-indexed descriptor that imposes constraints on the two sites |\n",
        "| ***ImpliesNeighbors***        | Indicator site-indexed descriptor that imposes constraints on neighboring sites |\n",
        "\n",
        "From the combination of pre-defined descriptors, expressions, and rules we can specify a wide variety of other descriptors. "
      ]
    },
    {
      "cell_type": "markdown",
      "metadata": {},
      "source": [
        "In the context of nanocluster cohesive energy minimization, we would first like to define the square root of the coordination number. \n",
        "We achieve this by calling the ***addSitesDescriptor*** method on MatOptModel, passing the information necessary to create a ***PiecewiseLinear*** rule to correctly define the square root of coordination at the integer coordination number values. \n",
        "Note that we use ***m.Ci***, the pre-defined basic variable for the count of neighboring building blocks and equivalent to the coordination number in this system, as the argument for the piecewise linear function. \n",
        "We use basic Python lists to express the data for the piecewise linear function values at integer numbers of coordination. "
      ]
    },
    {
      "cell_type": "code",
      "execution_count": 10,
      "metadata": {},
      "outputs": [],
      "source": [
        "Vals = [sqrt(CN) for CN in range(0,13)]\n",
        "BPs = [CN for CN in range(0,13)]\n",
        "m.addSitesDescriptor('CNRi',bounds=(0,sqrt(12)),integer=False,\n",
        "                     rules=PiecewiseLinear(values=Vals,\n",
        "                                           breakpoints=BPs,\n",
        "                                           input_desc=m.Ci))"
      ]
    },
    {
      "cell_type": "markdown",
      "metadata": {},
      "source": [
        "Next, we define a global (i.e., not indexed by sites or bonds) descriptor for the cohesive energy of the nanocluster. \n",
        "We us a simple ***EqualTo*** rule to set this descriptor equal to a normalized sum of contributions from the square root coordination number descriptor. "
      ]
    },
    {
      "cell_type": "code",
      "execution_count": 11,
      "metadata": {},
      "outputs": [],
      "source": [
        "m.addGlobalDescriptor('Ecoh',rules=EqualTo(SumSites(desc=m.CNRi,\n",
        "                                                    coefs=(1/(N*sqrt(12))))))"
      ]
    },
    {
      "cell_type": "markdown",
      "metadata": {},
      "source": [
        "Finally, we create a descriptor for the size of the nanocluster. \n",
        "We set bounds on this descriptor to effectively constrain the design space to only include clusters of the desired size, *N*. "
      ]
    },
    {
      "cell_type": "code",
      "execution_count": 12,
      "metadata": {},
      "outputs": [],
      "source": [
        "m.addGlobalDescriptor('Size',bounds=(N,N),\n",
        "                      rules=EqualTo(SumSites(desc=m.Yi)))"
      ]
    },
    {
      "cell_type": "markdown",
      "metadata": {},
      "source": [
        "## Solving the Model\n",
        "Once all the relevant information in the model is provided, we search for optimal designs that maximize one of the descriptors. \n",
        "In this example, we provide the descriptor for coehisver energy as the target functionality. \n",
        "Additionally, we specify a time limit in seconds as a keyword argument to the maximize method. \n",
        "For more information, see the documentation of the maximize function, available in the source code or by using the Python *help* function."
      ]
    },
    {
      "cell_type": "code",
      "execution_count": 13,
      "metadata": {},
      "outputs": [],
      "source": [
        "help(MatOptModel.maximize)\n",
        "help(MatOptModel.optimize)"
      ]
    },
    {
      "cell_type": "code",
      "execution_count": 14,
      "metadata": {},
      "outputs": [],
      "source": [
        "D = None\n",
        "try:\n",
        "    D = m.maximize(m.Ecoh,tilim=100)\n",
        "except:\n",
        "    print('MaOpt can not find usable solver (CPLEX or NEOS-CPLEX)')"
      ]
    },
    {
      "cell_type": "markdown",
      "metadata": {},
      "source": [
        "## Processing Results\n",
        "\n",
        "If a result is found, we can write it to file and plot with visualization software. \n",
        "We provide interfaces to several standard crystal structure file formats, including [XYZ](https://openbabel.org/docs/dev/FileFormats/XYZ_cartesian_coordinates_format.html), [PDB](https://www.rcsb.org/pdb/static.do?p=file_formats/pdb/index.html), [POSCAR](https://cms.mpi.univie.ac.at/vasp/guide/node59.html), and [CFG](http://li.mit.edu/Archive/Graphics/A/index.html#standard_CFG). "
      ]
    },
    {
      "cell_type": "code",
      "execution_count": 15,
      "metadata": {},
      "outputs": [],
      "source": [
        "if(D is not None):\n",
        "    D.toPDB('result.pdb')"
      ]
    }
  ],
  "metadata": {
    "kernelspec": {
      "display_name": "Python 3",
      "language": "python",
      "name": "python3"
    },
    "language_info": {
      "codemirror_mode": {
        "name": "ipython",
        "version": 3
      },
      "file_extension": ".py",
      "mimetype": "text/x-python",
      "name": "python",
      "nbconvert_exporter": "python",
      "pygments_lexer": "ipython3",
      "version": "3.7.3"
    }
  },
  "nbformat": 4,
  "nbformat_minor": 2
}