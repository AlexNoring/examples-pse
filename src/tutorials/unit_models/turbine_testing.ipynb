{
 "cells": [
  {
   "cell_type": "markdown",
   "metadata": {},
   "source": [
    "# Tutorial: Turbine Unit Model with IAPWS Property Package\n",
    "\n",
    "\n",
    "\n",
    "![](expander_2.svg)\n",
    "\n",
    "In this tutorial, we will simulate steam flow through a turbine unit model, using the IAPWS property package.\n",
    "The inlet specifications are as follows:\n",
    "\n",
    "* Flow Rate = 1 kmol/hr\n",
    "* Mole fraction (H2O) = 1\n",
    "* Pressure = 101325 Pa\n",
    "* Temperature = 390 K \n",
    "\n",
    "The inlet specifications are as follows:\n",
    "* Pressure Decrease = 50000 Pa\n",
    "* Isentropic Efficiency = 0.9"
   ]
  },
  {
   "cell_type": "markdown",
   "metadata": {},
   "source": [
    "## Setting up the problem in IDAES"
   ]
  },
  {
   "cell_type": "code",
   "execution_count": 1,
   "metadata": {},
   "outputs": [],
   "source": [
    "# Import objects from pyomo package \n",
    "from pyomo.environ import ConcreteModel, SolverFactory, value\n",
    "\n",
    "# Import the main FlowsheetBlock from IDAES. The flowsheet block will contain the unit model\n",
    "from idaes.core import FlowsheetBlock\n",
    "\n",
    "# Import idaes logger to set output levels\n",
    "import idaes.logger as idaeslog\n",
    "\n",
    "# Create the ConcreteModel and the FlowsheetBlock, and attach the flowsheet block to it.\n",
    "m = ConcreteModel()\n",
    "\n",
    "m.fs = FlowsheetBlock(default={\"dynamic\": False}) # dynamic or ss flowsheet needs to be specified here\n",
    "\n",
    "\n",
    "# Import the IAPWS property package to create a properties block for the flowsheet\n",
    "from idaes.generic_models.properties import iapws95\n",
    "from idaes.generic_models.properties.helmholtz.helmholtz import (\n",
    "    PhaseType\n",
    ")\n",
    "\n",
    "# Add properties parameter block to the flowsheet with specifications\n",
    "m.fs.properties = iapws95.Iapws95ParameterBlock(default={\"phase_presentation\":PhaseType.G})"
   ]
  },
  {
   "cell_type": "code",
   "execution_count": 2,
   "metadata": {},
   "outputs": [
    {
     "name": "stdout",
     "output_type": "stream",
     "text": [
      "The initial DOF is 5\n"
     ]
    }
   ],
   "source": [
    "# Import turbine unit model from the model library\n",
    "from idaes.generic_models.unit_models.pressure_changer import Turbine\n",
    "\n",
    "# Create an instance of the turbine unit, attaching it to the flowsheet\n",
    "# Specify that the property package to be used with the pump is the one we created earlier.\n",
    "m.fs.turbine = Turbine(default={\"property_package\": m.fs.properties})\n",
    "\n",
    "# Import the degrees_of_freedom function from the idaes.core.util.model_statistics package\n",
    "# DOF = Number of Model Variables - Number of Model Constraints\n",
    "from idaes.core.util.model_statistics import degrees_of_freedom\n",
    "\n",
    "# Call the degrees_of_freedom function, get intitial DOF\n",
    "DOF_initial = degrees_of_freedom(m)\n",
    "print(\"The initial DOF is {0}\".format(DOF_initial))"
   ]
  },
  {
   "cell_type": "code",
   "execution_count": 3,
   "metadata": {},
   "outputs": [],
   "source": [
    "assert DOF_initial == 5"
   ]
  },
  {
   "cell_type": "code",
   "execution_count": 4,
   "metadata": {},
   "outputs": [
    {
     "name": "stdout",
     "output_type": "stream",
     "text": [
      "The final DOF is 0\n"
     ]
    }
   ],
   "source": [
    "# Fix the stream inlet conditions\n",
    "m.fs.turbine.inlet.flow_mol[0].fix(1*1000/3600) # converting to mol/s as unit basis is mol/s\n",
    "m.fs.turbine.inlet.enth_mol[0].fix(iapws95.htpx(T=390, P=101325))\n",
    "m.fs.turbine.inlet.pressure[0].fix(101325)\n",
    "# Fix stream outlet and pump conditions\n",
    "m.fs.turbine.deltaP.fix(-50000)\n",
    "m.fs.turbine.efficiency_isentropic.fix(0.9)\n",
    "\n",
    "# Call the degrees_of_freedom function, get final DOF\n",
    "DOF_final = degrees_of_freedom(m)\n",
    "print(\"The final DOF is {0}\".format(DOF_final))"
   ]
  },
  {
   "cell_type": "code",
   "execution_count": 5,
   "metadata": {},
   "outputs": [],
   "source": [
    "assert DOF_final == 0"
   ]
  },
  {
   "cell_type": "markdown",
   "metadata": {},
   "source": [
    "### Flowsheet Initialization"
   ]
  },
  {
   "cell_type": "code",
   "execution_count": 6,
   "metadata": {},
   "outputs": [],
   "source": [
    "# Initialize the flowsheet, and set the output at WARNING\n",
    "m.fs.turbine.initialize(outlvl=idaeslog.WARNING)\n",
    "# From the output it can be inferred that since there are no errors or warnings encountered during initialization, nothing is displayed  "
   ]
  },
  {
   "cell_type": "markdown",
   "metadata": {},
   "source": [
    "### Obtaining Simulation Results"
   ]
  },
  {
   "cell_type": "code",
   "execution_count": 7,
   "metadata": {},
   "outputs": [
    {
     "name": "stdout",
     "output_type": "stream",
     "text": [
      "Ipopt 3.13.2: \n",
      "\n",
      "******************************************************************************\n",
      "This program contains Ipopt, a library for large-scale nonlinear optimization.\n",
      " Ipopt is released as open source code under the Eclipse Public License (EPL).\n",
      "         For more information visit http://projects.coin-or.org/Ipopt\n",
      "\n",
      "This version of Ipopt was compiled from source code available at\n",
      "    https://github.com/IDAES/Ipopt as part of the Institute for the Design of\n",
      "    Advanced Energy Systems Process Systems Engineering Framework (IDAES PSE\n",
      "    Framework) Copyright (c) 2018-2019. See https://github.com/IDAES/idaes-pse.\n",
      "\n",
      "This version of Ipopt was compiled using HSL, a collection of Fortran codes\n",
      "    for large-scale scientific computation.  All technical papers, sales and\n",
      "    publicity material resulting from use of the HSL codes within IPOPT must\n",
      "    contain the following acknowledgement:\n",
      "        HSL, a collection of Fortran codes for large-scale scientific\n",
      "        computation. See http://www.hsl.rl.ac.uk.\n",
      "******************************************************************************\n",
      "\n",
      "This is Ipopt version 3.13.2, running with linear solver ma27.\n",
      "\n",
      "Number of nonzeros in equality constraint Jacobian...:       20\n",
      "Number of nonzeros in inequality constraint Jacobian.:        0\n",
      "Number of nonzeros in Lagrangian Hessian.............:       12\n",
      "\n",
      "Total number of variables............................:        9\n",
      "                     variables with only lower bounds:        0\n",
      "                variables with lower and upper bounds:        4\n",
      "                     variables with only upper bounds:        0\n",
      "Total number of equality constraints.................:        9\n",
      "Total number of inequality constraints...............:        0\n",
      "        inequality constraints with only lower bounds:        0\n",
      "   inequality constraints with lower and upper bounds:        0\n",
      "        inequality constraints with only upper bounds:        0\n",
      "\n",
      "iter    objective    inf_pr   inf_du lg(mu)  ||d||  lg(rg) alpha_du alpha_pr  ls\n",
      "   0  0.0000000e+00 1.20e-10 0.00e+00  -1.0 0.00e+00    -  0.00e+00 0.00e+00   0\n",
      "\n",
      "Number of Iterations....: 0\n",
      "\n",
      "                                   (scaled)                 (unscaled)\n",
      "Objective...............:   0.0000000000000000e+00    0.0000000000000000e+00\n",
      "Dual infeasibility......:   0.0000000000000000e+00    0.0000000000000000e+00\n",
      "Constraint violation....:   1.1975164599092175e-10    1.1975164599092175e-10\n",
      "Complementarity.........:   0.0000000000000000e+00    0.0000000000000000e+00\n",
      "Overall NLP error.......:   1.1975164599092175e-10    1.1975164599092175e-10\n",
      "\n",
      "\n",
      "Number of objective function evaluations             = 1\n",
      "Number of objective gradient evaluations             = 1\n",
      "Number of equality constraint evaluations            = 1\n",
      "Number of inequality constraint evaluations          = 0\n",
      "Number of equality constraint Jacobian evaluations   = 1\n",
      "Number of inequality constraint Jacobian evaluations = 0\n",
      "Number of Lagrangian Hessian evaluations             = 0\n",
      "Total CPU secs in IPOPT (w/o function evaluations)   =      0.009\n",
      "Total CPU secs in NLP function evaluations           =      0.000\n",
      "\n",
      "EXIT: Optimal Solution Found.\n"
     ]
    }
   ],
   "source": [
    "# Solve the simulation using ipopt\n",
    "# Note: If the degrees of freedom = 0, we have a square problem\n",
    "opt = SolverFactory('ipopt')\n",
    "solve_status = opt.solve(m, tee=True)"
   ]
  },
  {
   "cell_type": "code",
   "execution_count": 8,
   "metadata": {},
   "outputs": [],
   "source": [
    "from pyomo.opt import TerminationCondition, SolverStatus\n",
    "\n",
    "# Check if termination condition is optimal\n",
    "assert solve_status.solver.termination_condition == TerminationCondition.optimal\n",
    "assert solve_status.solver.status == SolverStatus.ok"
   ]
  },
  {
   "cell_type": "markdown",
   "metadata": {},
   "source": [
    "### View Results"
   ]
  },
  {
   "cell_type": "code",
   "execution_count": 9,
   "metadata": {},
   "outputs": [
    {
     "name": "stdout",
     "output_type": "stream",
     "text": [
      "_outlet_pressure_ref : Size=1, Index=fs.time\n",
      "    Key : Lower : Value   : Upper        : Fixed : Stale : Domain\n",
      "    0.0 :   0.1 : 51325.0 : 1000000000.0 : False : False : PositiveReals\n"
     ]
    }
   ],
   "source": [
    "# Display Outlet \n",
    "m.fs.turbine.outlet.pressure.display()"
   ]
  },
  {
   "cell_type": "code",
   "execution_count": 10,
   "metadata": {},
   "outputs": [
    {
     "name": "stdout",
     "output_type": "stream",
     "text": [
      "\n",
      "====================================================================================\n",
      "Unit : fs.turbine                                                          Time: 0.0\n",
      "------------------------------------------------------------------------------------\n",
      "    Unit Performance\n",
      "\n",
      "    Variables: \n",
      "\n",
      "    Key                   : Value   : Fixed : Bounds\n",
      "    Isentropic Efficiency : 0.90000 :  True : (None, None)\n",
      "          Mechanical Work : -287.43 : False : (None, None)\n",
      "          Pressure Change : -50000. :  True : (None, None)\n",
      "           Pressure Ratio : 0.50654 : False : (None, None)\n",
      "\n",
      "------------------------------------------------------------------------------------\n",
      "    Stream Table\n",
      "                                  Inlet     Outlet \n",
      "    Molar Flow (mol/s)            0.27778   0.27778\n",
      "    Mass Flow (kg/s)            0.0050042 0.0050042\n",
      "    T (K)                          390.00    358.29\n",
      "    P (Pa)                     1.0132e+05    51325.\n",
      "    Vapor Fraction                 1.0000    1.0000\n",
      "    Molar Enthalpy (J/mol) Vap     48824.    47789.\n",
      "    Molar Enthalpy (J/mol) Liq     8834.4    6424.4\n",
      "====================================================================================\n"
     ]
    }
   ],
   "source": [
    "# Display a readable report\n",
    "m.fs.turbine.report()"
   ]
  },
  {
   "cell_type": "code",
   "execution_count": 11,
   "metadata": {},
   "outputs": [],
   "source": [
    "import pytest\n",
    "\n",
    "# Check results\n",
    "assert m.fs.turbine.outlet.pressure[0].value == pytest.approx(51325, abs=1e-2)"
   ]
  }
 ],
 "metadata": {
  "kernelspec": {
   "display_name": "Python 3",
   "language": "python",
   "name": "python3"
  },
  "language_info": {
   "codemirror_mode": {
    "name": "ipython",
    "version": 3
   },
   "file_extension": ".py",
   "mimetype": "text/x-python",
   "name": "python",
   "nbconvert_exporter": "python",
   "pygments_lexer": "ipython3",
   "version": "3.7.4"
  }
 },
 "nbformat": 4,
 "nbformat_minor": 2
}
