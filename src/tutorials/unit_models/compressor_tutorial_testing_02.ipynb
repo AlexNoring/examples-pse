{
 "cells": [
  {
   "cell_type": "markdown",
   "metadata": {},
   "source": [
    "# Tutorial: Compressor Unit Model with IAPWS Property Package\n",
    "\n",
    "\n",
    "\n",
    "![](compressor_2.svg)\n",
    "\n",
    "## Learning Outcomes\n",
    "\n",
    "- Demonstrate use of the compressor unit model in IDAES\n",
    "- Demonstrate different simulation options available\n",
    "\n",
    "In this tutorial, we will simulate sCO2 flow through a compressor unit model, using the Span-Wager CO2 property package.\n",
    "It is assumed that the compressor operates at steady state.\n",
    "The inlet specifications are as follows:\n",
    "\n",
    "* Flow Rate = 1 kmol/hr\n",
    "* Mole fraction (H2O) = 1\n",
    "* Pressure = 101325 Pa\n",
    "* Temperature = 390 K \n",
    "\n",
    "We will simulate 2 different cases, depending on the operating specifications by the user:\n",
    "\n",
    "**Case 1**: The compressor specifications are as follows:\n",
    "   * Pressure Increase = 50000 Pa\n",
    "   * Isentropic Efficiency = 0.9\n",
    "   \n",
    "**Case 2**: The compressor specifications are as follows:\n",
    "   * Pressure Ratio = 1.49346\n",
    "   \n",
    "Compressor specification:\n",
    "   * Isentropic Efficiency = 0.9\n",
    "\n",
    "IDAES documentation reference for compressor model:https://idaes-pse.readthedocs.io/en/stable/"
   ]
  },
  {
   "cell_type": "code",
   "execution_count": null,
   "metadata": {},
   "outputs": [],
   "source": []
  }
 ],
 "metadata": {
  "kernelspec": {
   "display_name": "Python 3",
   "language": "python",
   "name": "python3"
  },
  "language_info": {
   "codemirror_mode": {
    "name": "ipython",
    "version": 3
   },
   "file_extension": ".py",
   "mimetype": "text/x-python",
   "name": "python",
   "nbconvert_exporter": "python",
   "pygments_lexer": "ipython3",
   "version": "3.7.4"
  }
 },
 "nbformat": 4,
 "nbformat_minor": 2
}
