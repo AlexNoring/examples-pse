{
 "cells": [
  {
   "cell_type": "markdown",
   "metadata": {},
   "source": [
    "# Tutorial: Compressor Unit Model with SWCO2 Property Package\n",
    "\n",
    "\n",
    "\n",
    "![](compressor_2.svg)\n",
    "\n",
    "## Learning Outcomes\n",
    "\n",
    "- Demonstrate use of the compressor unit model in IDAES\n",
    "- Demonstrate different simulation options available\n",
    "\n",
    "In this tutorial, we will simulate sCO2 flow through a compressor unit model, using the Span-Wager CO2 property package.\n",
    "It is assumed that the compressor operates at steady state.\n",
    "The inlet specifications are as follows:\n",
    "\n",
    "* Flow Rate = 91067 mol/s\n",
    "* Pressure = 9.1107e+06 Pa\n",
    "* Temperature = 308.15 K \n",
    "\n",
    "We will simulate 2 different cases, depending on the operating specifications by the user:\n",
    "\n",
    "**Case 1**: The compressor specifications are as follows:\n",
    "   * Pressure Increase = 2.5510e+07 Pa\n",
    "   * Isentropic Efficiency = 0.85\n",
    "   \n",
    "**Case 2**: The compressor specifications are as follows:\n",
    "   * Pressure Ratio = 3.8\n",
    "   * Isentropic Efficiency = 0.85\n",
    "\n",
    "IDAES documentation reference for compressor model:https://idaes-pse.readthedocs.io/en/stable/"
   ]
  },
  {
   "cell_type": "markdown",
   "metadata": {},
   "source": [
    "## Setting up the problem in IDAES"
   ]
  },
  {
   "cell_type": "markdown",
   "metadata": {},
   "source": [
    "In the following cell, we will be importing the necessary components from Pyomo and IDAES."
   ]
  },
  {
   "cell_type": "code",
   "execution_count": 1,
   "metadata": {},
   "outputs": [
    {
     "name": "stdout",
     "output_type": "stream",
     "text": [
      "2020-10-16 17:20:05 [WARNING] idaes.core.property_meta: DEPRECATED: IDAES is moving to using Pyomo Units when defining default units, which are used to automatically determine units of measurement for quantities and convert where necessary. Users are strongly encouraged to convert their property packages to use Pyomo Units objects.\n"
     ]
    }
   ],
   "source": [
    "# Import objects from pyomo package \n",
    "from pyomo.environ import ConcreteModel, SolverFactory, value\n",
    "\n",
    "# Import the main FlowsheetBlock from IDAES. The flowsheet block will contain the unit model\n",
    "from idaes.core import FlowsheetBlock\n",
    "\n",
    "# Import idaes logger to set output levels\n",
    "import idaes.logger as idaeslog\n",
    "\n",
    "# Create the ConcreteModel and the FlowsheetBlock, and attach the flowsheet block to it.\n",
    "m = ConcreteModel()\n",
    "\n",
    "m.fs = FlowsheetBlock(default={\"dynamic\": False}) # dynamic or ss flowsheet needs to be specified here\n",
    "\n",
    "\n",
    "# Import the SWCO2 property package to create a properties block for the flowsheet\n",
    "from idaes.generic_models.properties.swco2 import SWCO2ParameterBlock, StateVars, htpx\n",
    "\n",
    "# Add properties parameter block to the flowsheet with specifications\n",
    "m.fs.properties = SWCO2ParameterBlock()"
   ]
  },
  {
   "cell_type": "markdown",
   "metadata": {},
   "source": [
    "## Case 1:\n",
    "Provide the compressor specifications (pressure change and efficiency) for the simulation."
   ]
  },
  {
   "cell_type": "markdown",
   "metadata": {},
   "source": [
    "### Add Compressor Unit"
   ]
  },
  {
   "cell_type": "code",
   "execution_count": 2,
   "metadata": {},
   "outputs": [
    {
     "name": "stdout",
     "output_type": "stream",
     "text": [
      "The initial DOF is 5\n"
     ]
    }
   ],
   "source": [
    "# Import compressor unit model from the model library\n",
    "from idaes.generic_models.unit_models.pressure_changer import PressureChanger,ThermodynamicAssumption\n",
    "\n",
    "# Create an instance of the compressor unit, attaching it to the flowsheet\n",
    "# Specify that the property package to be used with the compressor is the one we created earlier.\n",
    "m.fs.compr_case_1 = PressureChanger(\n",
    "    default={'dynamic': False,\n",
    "             'property_package': m.fs.properties,\n",
    "             'compressor': True,\n",
    "             'thermodynamic_assumption': ThermodynamicAssumption.isentropic})\n",
    "\n",
    "# Import the degrees_of_freedom function from the idaes.core.util.model_statistics package\n",
    "# DOF = Number of Model Variables - Number of Model Constraints\n",
    "from idaes.core.util.model_statistics import degrees_of_freedom\n",
    "\n",
    "# Call the degrees_of_freedom function, get intitial DOF\n",
    "DOF_initial = degrees_of_freedom(m)\n",
    "print(\"The initial DOF is {0}\".format(DOF_initial))"
   ]
  },
  {
   "cell_type": "code",
   "execution_count": 3,
   "metadata": {},
   "outputs": [],
   "source": [
    "assert DOF_initial == 5"
   ]
  },
  {
   "cell_type": "markdown",
   "metadata": {},
   "source": [
    "### Fix stream inlet conditions "
   ]
  },
  {
   "cell_type": "code",
   "execution_count": 4,
   "metadata": {},
   "outputs": [
    {
     "name": "stdout",
     "output_type": "stream",
     "text": [
      "2020-10-16 17:20:05 [WARNING] idaes.core.property_meta: DEPRECATED: IDAES is moving to using Pyomo Units when defining default units, which are used to automatically determine units of measurement for quantities and convert where necessary. Users are strongly encouraged to convert their property packages to use Pyomo Units objects.\n"
     ]
    }
   ],
   "source": [
    "# Fix the stream inlet conditions\n",
    "m.fs.compr_case_1.inlet.flow_mol[0].fix(91067)\n",
    "\n",
    "# Use htpx method to obtain the molar enthalpy of inlet stream at the given temperature and pressure conditions \n",
    "m.fs.compr_case_1.inlet.enth_mol[0].fix(htpx(T=308.15, P=9.1107e+06))\n",
    "m.fs.compr_case_1.inlet.pressure[0].fix(9.1107e+06)"
   ]
  },
  {
   "cell_type": "markdown",
   "metadata": {},
   "source": [
    "### Fix compressor conditions"
   ]
  },
  {
   "cell_type": "code",
   "execution_count": 5,
   "metadata": {},
   "outputs": [
    {
     "name": "stdout",
     "output_type": "stream",
     "text": [
      "The final DOF is 0\n"
     ]
    }
   ],
   "source": [
    "# Fix compressor conditions\n",
    "m.fs.compr_case_1.deltaP.fix(2.5510e+07)\n",
    "m.fs.compr_case_1.efficiency_isentropic.fix(0.85)\n",
    "\n",
    "# Call the degrees_of_freedom function, get final DOF\n",
    "DOF_final = degrees_of_freedom(m)\n",
    "print(\"The final DOF is {0}\".format(DOF_final))"
   ]
  },
  {
   "cell_type": "markdown",
   "metadata": {},
   "source": [
    "### Flowsheet Initialization"
   ]
  },
  {
   "cell_type": "code",
   "execution_count": 6,
   "metadata": {},
   "outputs": [],
   "source": [
    "# Initialize the flowsheet, and set the output at WARNING\n",
    "m.fs.compr_case_1.initialize(outlvl=idaeslog.WARNING)\n",
    "# From the output it can be inferred that since there are no errors or warnings encountered during initialization, nothing is displayed "
   ]
  },
  {
   "cell_type": "markdown",
   "metadata": {},
   "source": [
    "### Obtaining Simulation Results"
   ]
  },
  {
   "cell_type": "code",
   "execution_count": 7,
   "metadata": {},
   "outputs": [
    {
     "name": "stdout",
     "output_type": "stream",
     "text": [
      "Ipopt 3.13.2: \n",
      "\n",
      "******************************************************************************\n",
      "This program contains Ipopt, a library for large-scale nonlinear optimization.\n",
      " Ipopt is released as open source code under the Eclipse Public License (EPL).\n",
      "         For more information visit http://projects.coin-or.org/Ipopt\n",
      "\n",
      "This version of Ipopt was compiled from source code available at\n",
      "    https://github.com/IDAES/Ipopt as part of the Institute for the Design of\n",
      "    Advanced Energy Systems Process Systems Engineering Framework (IDAES PSE\n",
      "    Framework) Copyright (c) 2018-2019. See https://github.com/IDAES/idaes-pse.\n",
      "\n",
      "This version of Ipopt was compiled using HSL, a collection of Fortran codes\n",
      "    for large-scale scientific computation.  All technical papers, sales and\n",
      "    publicity material resulting from use of the HSL codes within IPOPT must\n",
      "    contain the following acknowledgement:\n",
      "        HSL, a collection of Fortran codes for large-scale scientific\n",
      "        computation. See http://www.hsl.rl.ac.uk.\n",
      "******************************************************************************\n",
      "\n",
      "This is Ipopt version 3.13.2, running with linear solver ma27.\n",
      "\n",
      "Number of nonzeros in equality constraint Jacobian...:       18\n",
      "Number of nonzeros in inequality constraint Jacobian.:        0\n",
      "Number of nonzeros in Lagrangian Hessian.............:        5\n",
      "\n",
      "Total number of variables............................:        9\n",
      "                     variables with only lower bounds:        0\n",
      "                variables with lower and upper bounds:        4\n",
      "                     variables with only upper bounds:        0\n",
      "Total number of equality constraints.................:        9\n",
      "Total number of inequality constraints...............:        0\n",
      "        inequality constraints with only lower bounds:        0\n",
      "   inequality constraints with lower and upper bounds:        0\n",
      "        inequality constraints with only upper bounds:        0\n",
      "\n",
      "iter    objective    inf_pr   inf_du lg(mu)  ||d||  lg(rg) alpha_du alpha_pr  ls\n",
      "   0  0.0000000e+00 3.12e-11 0.00e+00  -1.0 0.00e+00    -  0.00e+00 0.00e+00   0\n",
      "\n",
      "Number of Iterations....: 0\n",
      "\n",
      "                                   (scaled)                 (unscaled)\n",
      "Objective...............:   0.0000000000000000e+00    0.0000000000000000e+00\n",
      "Dual infeasibility......:   0.0000000000000000e+00    0.0000000000000000e+00\n",
      "Constraint violation....:   3.1242564091371605e-11    3.1242564091371605e-11\n",
      "Complementarity.........:   0.0000000000000000e+00    0.0000000000000000e+00\n",
      "Overall NLP error.......:   3.1242564091371605e-11    3.1242564091371605e-11\n",
      "\n",
      "\n",
      "Number of objective function evaluations             = 1\n",
      "Number of objective gradient evaluations             = 1\n",
      "Number of equality constraint evaluations            = 1\n",
      "Number of inequality constraint evaluations          = 0\n",
      "Number of equality constraint Jacobian evaluations   = 1\n",
      "Number of inequality constraint Jacobian evaluations = 0\n",
      "Number of Lagrangian Hessian evaluations             = 0\n",
      "Total CPU secs in IPOPT (w/o function evaluations)   =      0.005\n",
      "Total CPU secs in NLP function evaluations           =      0.000\n",
      "\n",
      "EXIT: Optimal Solution Found.\n"
     ]
    }
   ],
   "source": [
    "# Solve the simulation using ipopt\n",
    "# Note: If the degrees of freedom = 0, we have a square problem\n",
    "opt = SolverFactory('ipopt')\n",
    "solve_status = opt.solve(m, tee=True)"
   ]
  },
  {
   "cell_type": "code",
   "execution_count": 8,
   "metadata": {},
   "outputs": [],
   "source": [
    "from pyomo.opt import TerminationCondition, SolverStatus\n",
    "\n",
    "# Check if termination condition is optimal\n",
    "assert solve_status.solver.termination_condition == TerminationCondition.optimal\n",
    "assert solve_status.solver.status == SolverStatus.ok"
   ]
  },
  {
   "cell_type": "markdown",
   "metadata": {},
   "source": [
    "### View Results"
   ]
  },
  {
   "cell_type": "code",
   "execution_count": 9,
   "metadata": {},
   "outputs": [
    {
     "name": "stdout",
     "output_type": "stream",
     "text": [
      "IndexedVar : Size=1, Index=fs.time\n",
      "    Key : Lower : Value      : Upper        : Fixed : Stale : Domain\n",
      "    0.0 :   0.1 : 34620700.0 : 1000000000.0 : False : False : PositiveReals\n"
     ]
    }
   ],
   "source": [
    "# Display Outlet Pressure\n",
    "m.fs.compr_case_1.outlet.pressure.display()"
   ]
  },
  {
   "cell_type": "code",
   "execution_count": 10,
   "metadata": {},
   "outputs": [
    {
     "name": "stdout",
     "output_type": "stream",
     "text": [
      "\n",
      "====================================================================================\n",
      "Unit : fs.compr_case_1                                                     Time: 0.0\n",
      "------------------------------------------------------------------------------------\n",
      "    Unit Performance\n",
      "\n",
      "    Variables: \n",
      "\n",
      "    Key                   : Value      : Fixed : Bounds\n",
      "    Isentropic Efficiency :    0.85000 :  True : (None, None)\n",
      "          Mechanical Work : 1.5934e+08 : False : (None, None)\n",
      "          Pressure Change : 2.5510e+07 :  True : (None, None)\n",
      "           Pressure Ratio :     3.8000 : False : (None, None)\n",
      "\n",
      "------------------------------------------------------------------------------------\n",
      "    Stream Table\n",
      "                                  Inlet     Outlet  \n",
      "    Molar Flow (mol/s)             91067.     91067.\n",
      "    Mass Flow (kg/s)               4007.8     4007.8\n",
      "    T (K)                          308.15     348.81\n",
      "    P (Pa)                     9.1107e+06 3.4621e+07\n",
      "    Vapor Fraction                 0.0000     0.0000\n",
      "    Molar Enthalpy (J/mol) Vap    -9215.6    -7465.9\n",
      "    Molar Enthalpy (J/mol) Liq    -9215.6    -7465.9\n",
      "====================================================================================\n"
     ]
    }
   ],
   "source": [
    "# Display a readable report\n",
    "m.fs.compr_case_1.report()"
   ]
  },
  {
   "cell_type": "code",
   "execution_count": 11,
   "metadata": {},
   "outputs": [],
   "source": [
    "import pytest\n",
    "\n",
    "# Check results\n",
    "assert m.fs.compr_case_1.outlet.pressure[0].value == pytest.approx(34620700.0, abs=1e-2)"
   ]
  },
  {
   "cell_type": "markdown",
   "metadata": {},
   "source": [
    "## Case 2:\n",
    "Provide the desired compressor pressure ratio and efficiency for the simulation."
   ]
  },
  {
   "cell_type": "markdown",
   "metadata": {},
   "source": [
    "### Add Compressor Unit"
   ]
  },
  {
   "cell_type": "code",
   "execution_count": 12,
   "metadata": {},
   "outputs": [
    {
     "name": "stdout",
     "output_type": "stream",
     "text": [
      "The initial DOF is 5\n"
     ]
    }
   ],
   "source": [
    "# Create an instance of another compressor unit, attaching it to the flowsheet\n",
    "# Specify that the property package to be used with the turbine is the one we created earlier.\n",
    "m.fs.compr_case_2 = PressureChanger(\n",
    "    default={'dynamic': False,\n",
    "             'property_package': m.fs.properties,\n",
    "             'compressor': True,\n",
    "             'thermodynamic_assumption': ThermodynamicAssumption.isentropic})\n",
    "\n",
    "# Call the degrees_of_freedom function, get intitial DOF\n",
    "DOF_initial = degrees_of_freedom(m.fs.compr_case_2)\n",
    "print(\"The initial DOF is {0}\".format(DOF_initial))"
   ]
  },
  {
   "cell_type": "code",
   "execution_count": 13,
   "metadata": {},
   "outputs": [],
   "source": [
    "assert DOF_initial == 5"
   ]
  },
  {
   "cell_type": "markdown",
   "metadata": {},
   "source": [
    "### Fix stream inlet conditions "
   ]
  },
  {
   "cell_type": "code",
   "execution_count": 14,
   "metadata": {},
   "outputs": [
    {
     "name": "stdout",
     "output_type": "stream",
     "text": [
      "2020-10-16 17:20:06 [WARNING] idaes.core.property_meta: DEPRECATED: IDAES is moving to using Pyomo Units when defining default units, which are used to automatically determine units of measurement for quantities and convert where necessary. Users are strongly encouraged to convert their property packages to use Pyomo Units objects.\n"
     ]
    }
   ],
   "source": [
    "# Fix the stream inlet conditions\n",
    "m.fs.compr_case_2.inlet.flow_mol[0].fix(91067) # converting to mol/s as unit basis is mol/s\n",
    "\n",
    "# Use htpx method to obtain the molar enthalpy of inlet stream at the given temperature and pressure conditions \n",
    "m.fs.compr_case_2.inlet.enth_mol[0].fix(htpx(T=308.15, P=9.1107e+06))\n",
    "m.fs.compr_case_2.inlet.pressure[0].fix(9.1107e+06)"
   ]
  },
  {
   "cell_type": "markdown",
   "metadata": {},
   "source": [
    "### Fix compressor pressure ratio & efficiency"
   ]
  },
  {
   "cell_type": "code",
   "execution_count": 15,
   "metadata": {},
   "outputs": [
    {
     "name": "stdout",
     "output_type": "stream",
     "text": [
      "The final DOF is 0\n"
     ]
    }
   ],
   "source": [
    "# Fix compressor pressure ratio\n",
    "m.fs.compr_case_2.ratioP.fix(3.8)\n",
    "\n",
    "# Fix compressor efficiency\n",
    "m.fs.compr_case_2.efficiency_isentropic.fix(0.85)\n",
    "\n",
    "# Call the degrees_of_freedom function, get final DOF\n",
    "DOF_final = degrees_of_freedom(m.fs.compr_case_2)\n",
    "print(\"The final DOF is {0}\".format(DOF_final))"
   ]
  },
  {
   "cell_type": "code",
   "execution_count": 16,
   "metadata": {},
   "outputs": [],
   "source": [
    "assert DOF_final == 0"
   ]
  },
  {
   "cell_type": "markdown",
   "metadata": {},
   "source": [
    "### Obtaining Simulation Results"
   ]
  },
  {
   "cell_type": "code",
   "execution_count": 17,
   "metadata": {},
   "outputs": [
    {
     "name": "stdout",
     "output_type": "stream",
     "text": [
      "Ipopt 3.13.2: \n",
      "\n",
      "******************************************************************************\n",
      "This program contains Ipopt, a library for large-scale nonlinear optimization.\n",
      " Ipopt is released as open source code under the Eclipse Public License (EPL).\n",
      "         For more information visit http://projects.coin-or.org/Ipopt\n",
      "\n",
      "This version of Ipopt was compiled from source code available at\n",
      "    https://github.com/IDAES/Ipopt as part of the Institute for the Design of\n",
      "    Advanced Energy Systems Process Systems Engineering Framework (IDAES PSE\n",
      "    Framework) Copyright (c) 2018-2019. See https://github.com/IDAES/idaes-pse.\n",
      "\n",
      "This version of Ipopt was compiled using HSL, a collection of Fortran codes\n",
      "    for large-scale scientific computation.  All technical papers, sales and\n",
      "    publicity material resulting from use of the HSL codes within IPOPT must\n",
      "    contain the following acknowledgement:\n",
      "        HSL, a collection of Fortran codes for large-scale scientific\n",
      "        computation. See http://www.hsl.rl.ac.uk.\n",
      "******************************************************************************\n",
      "\n",
      "This is Ipopt version 3.13.2, running with linear solver ma27.\n",
      "\n",
      "Number of nonzeros in equality constraint Jacobian...:       18\n",
      "Number of nonzeros in inequality constraint Jacobian.:        0\n",
      "Number of nonzeros in Lagrangian Hessian.............:        5\n",
      "\n",
      "Total number of variables............................:        9\n",
      "                     variables with only lower bounds:        0\n",
      "                variables with lower and upper bounds:        4\n",
      "                     variables with only upper bounds:        0\n",
      "Total number of equality constraints.................:        9\n",
      "Total number of inequality constraints...............:        0\n",
      "        inequality constraints with only lower bounds:        0\n",
      "   inequality constraints with lower and upper bounds:        0\n",
      "        inequality constraints with only upper bounds:        0\n",
      "\n",
      "iter    objective    inf_pr   inf_du lg(mu)  ||d||  lg(rg) alpha_du alpha_pr  ls\n",
      "   0  0.0000000e+00 8.39e+08 0.00e+00  -1.0 0.00e+00    -  0.00e+00 0.00e+00   0\n",
      "   1  0.0000000e+00 8.39e+08 8.66e+03  -1.0 1.10e+09    -  1.26e-04 7.41e-05h  4\n",
      "   2  0.0000000e+00 8.39e+08 8.52e+04  -1.0 1.11e+09    -  7.11e-04 2.73e-04h  1\n",
      "   3  0.0000000e+00 8.39e+08 1.01e+05  -1.0 1.16e+09    -  5.08e-06 2.28e-04h  4\n",
      "   4  0.0000000e+00 8.39e+08 1.11e+05  -1.0 1.20e+09    -  9.98e-04 8.65e-04h  4\n",
      "   5  0.0000000e+00 8.38e+08 1.80e+05  -1.0 1.32e+09    -  4.28e-03 1.44e-02h  1\n",
      "   6  0.0000000e+00 8.34e+08 1.92e+05  -1.0 2.56e+09    -  1.14e-04 6.03e-03h  4\n",
      "   7  0.0000000e+00 8.26e+08 1.99e+05  -1.0 2.68e+09    -  2.43e-02 1.10e-02h  4\n",
      "WARNING: External Helmholtz EOS high temperature clip, h= 2186.84 P= 34620.7 T= 2067.33 Tsat= 304.128\n",
      "WARNING: External Helmholtz EOS high temperature clip, h= 2186.84 P= 34620.7 T= 2067.33 Tsat= 304.128\n",
      "WARNING: External Helmholtz EOS high temperature clip, h= 2186.84 P= 34620.7 T= 2067.33 Tsat= 304.128\n",
      "WARNING: External Helmholtz EOS high temperature clip, h= 2186.84 P= 34620.7 T= 2067.33 Tsat= 304.128\n",
      "Warning: SOC step rejected due to evaluation error\n",
      "   8  0.0000000e+00 8.11e+08 2.00e+05  -1.0 2.82e+09    -  3.50e-02 2.58e-02h  4\n",
      "   9  0.0000000e+00 5.35e+08 1.79e+05  -1.0 2.91e+09    -  5.99e-02 7.05e-02H  1\n",
      "iter    objective    inf_pr   inf_du lg(mu)  ||d||  lg(rg) alpha_du alpha_pr  ls\n",
      "  10  0.0000000e+00 5.23e+08 1.75e+05  -1.0 2.03e+09    -  2.86e-01 2.33e-02H  1\n",
      "  11  0.0000000e+00 4.91e+08 1.65e+05  -1.0 1.87e+09    -  1.49e-05 5.64e-02h  4\n",
      "  12  0.0000000e+00 4.11e+08 1.44e+05  -1.0 1.50e+09    -  8.23e-01 1.23e-01h  4\n",
      "  13  0.0000000e+00 1.55e+08 7.22e+04  -1.0 7.88e+08    -  3.83e-01 5.00e-01h  2\n",
      "  14  0.0000000e+00 2.12e+08 2.42e+02  -1.0 8.20e+08    -  8.43e-01 1.00e+00H  1\n",
      "  15  0.0000000e+00 3.82e-03 4.92e+00  -1.0 1.35e+07    -  9.90e-01 1.00e+00h  1\n",
      "  16  0.0000000e+00 8.57e-08 4.04e-05  -1.0 1.42e+05    -  9.90e-01 1.00e+00h  1\n",
      "  17  0.0000000e+00 5.68e-14 3.97e-07  -1.0 3.17e+00    -  9.90e-01 1.00e+00h  1\n",
      "\n",
      "Number of Iterations....: 17\n",
      "\n",
      "                                   (scaled)                 (unscaled)\n",
      "Objective...............:   0.0000000000000000e+00    0.0000000000000000e+00\n",
      "Dual infeasibility......:   0.0000000000000000e+00    0.0000000000000000e+00\n",
      "Constraint violation....:   5.6843418860808015e-14    5.6843418860808015e-14\n",
      "Complementarity.........:   0.0000000000000000e+00    0.0000000000000000e+00\n",
      "Overall NLP error.......:   5.6843418860808015e-14    5.6843418860808015e-14\n",
      "\n",
      "\n",
      "Number of objective function evaluations             = 57\n",
      "Number of objective gradient evaluations             = 18\n",
      "Number of equality constraint evaluations            = 58\n",
      "Number of inequality constraint evaluations          = 0\n",
      "Number of equality constraint Jacobian evaluations   = 18\n",
      "Number of inequality constraint Jacobian evaluations = 0\n",
      "Number of Lagrangian Hessian evaluations             = 17\n",
      "Total CPU secs in IPOPT (w/o function evaluations)   =      0.009\n",
      "Total CPU secs in NLP function evaluations           =      0.164\n",
      "\n",
      "EXIT: Optimal Solution Found.\n"
     ]
    }
   ],
   "source": [
    "# Solve the simulation using ipopt\n",
    "# Note: If the degrees of freedom = 0, we have a square problem\n",
    "opt = SolverFactory('ipopt')\n",
    "solve_status = opt.solve(m.fs.compr_case_2, tee=True)"
   ]
  },
  {
   "cell_type": "code",
   "execution_count": 18,
   "metadata": {},
   "outputs": [],
   "source": [
    "# Check if termination condition is optimal\n",
    "assert solve_status.solver.termination_condition == TerminationCondition.optimal\n",
    "assert solve_status.solver.status == SolverStatus.ok"
   ]
  },
  {
   "cell_type": "markdown",
   "metadata": {},
   "source": [
    "### View Results"
   ]
  },
  {
   "cell_type": "code",
   "execution_count": 19,
   "metadata": {},
   "outputs": [
    {
     "name": "stdout",
     "output_type": "stream",
     "text": [
      "pressure : Pressure [Pa]\n",
      "    Size=1, Index=None\n",
      "    Key  : Lower : Value      : Upper        : Fixed : Stale : Domain\n",
      "    None :   0.1 : 34620660.0 : 1000000000.0 : False : False : PositiveReals\n"
     ]
    }
   ],
   "source": [
    "# Display compressor pressure increase\n",
    "m.fs.compr_case_2.outlet.pressure[0].display()"
   ]
  },
  {
   "cell_type": "code",
   "execution_count": 20,
   "metadata": {},
   "outputs": [
    {
     "name": "stdout",
     "output_type": "stream",
     "text": [
      "\n",
      "====================================================================================\n",
      "Unit : fs.compr_case_2                                                     Time: 0.0\n",
      "------------------------------------------------------------------------------------\n",
      "    Unit Performance\n",
      "\n",
      "    Variables: \n",
      "\n",
      "    Key                   : Value      : Fixed : Bounds\n",
      "    Isentropic Efficiency :    0.85000 :  True : (None, None)\n",
      "          Mechanical Work : 1.5934e+08 : False : (None, None)\n",
      "          Pressure Change : 2.5510e+07 : False : (None, None)\n",
      "           Pressure Ratio :     3.8000 :  True : (None, None)\n",
      "\n",
      "------------------------------------------------------------------------------------\n",
      "    Stream Table\n",
      "                                  Inlet     Outlet  \n",
      "    Molar Flow (mol/s)             91067.     91067.\n",
      "    Mass Flow (kg/s)               4007.8     4007.8\n",
      "    T (K)                          308.15     348.81\n",
      "    P (Pa)                     9.1107e+06 3.4621e+07\n",
      "    Vapor Fraction                 0.0000     0.0000\n",
      "    Molar Enthalpy (J/mol) Vap    -9215.6    -7465.9\n",
      "    Molar Enthalpy (J/mol) Liq    -9215.6    -7465.9\n",
      "====================================================================================\n"
     ]
    }
   ],
   "source": [
    "# Display a readable report\n",
    "m.fs.compr_case_2.report()"
   ]
  },
  {
   "cell_type": "code",
   "execution_count": 21,
   "metadata": {},
   "outputs": [],
   "source": [
    "import pytest\n",
    "\n",
    "# Check results\n",
    "assert m.fs.compr_case_2.outlet.pressure[0].value == pytest.approx(34620660, abs=1e-2)\n",
    "assert m.fs.compr_case_2.work_isentropic[0].value == pytest.approx(135439779.20953986, abs=1e-2)\n",
    "assert m.fs.compr_case_2.work_mechanical[0].value == pytest.approx(159340916.71710572, abs=1e-2)"
   ]
  }
 ],
 "metadata": {
  "kernelspec": {
   "display_name": "Python 3",
   "language": "python",
   "name": "python3"
  },
  "language_info": {
   "codemirror_mode": {
    "name": "ipython",
    "version": 3
   },
   "file_extension": ".py",
   "mimetype": "text/x-python",
   "name": "python",
   "nbconvert_exporter": "python",
   "pygments_lexer": "ipython3",
   "version": "3.7.4"
  }
 },
 "nbformat": 4,
 "nbformat_minor": 2
}
