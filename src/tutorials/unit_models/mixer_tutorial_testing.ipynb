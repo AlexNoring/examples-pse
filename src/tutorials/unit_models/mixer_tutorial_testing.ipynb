{
 "cells": [
  {
   "cell_type": "markdown",
   "metadata": {},
   "source": [
    "# Tutorial: Mixer Unit Model with Ideal Property Package\n",
    "\n",
    "\n",
    "![](mixer.svg)\n",
    "\n",
    "**Problem Statement**: Consider the process of mixing benzene and toluene streams to form a mixture with the following inlet specificatons:\n",
    "\n",
    "**Stream 1:**\n",
    "\n",
    "Benzene Flow Rate = 0.6 kmol/hr\n",
    "\n",
    "Pressure = 101325 Pa \n",
    "\n",
    "Temperature = 353 K\n",
    "\n",
    "**Stream 2**\n",
    "\n",
    "Toluene Flow Rate = 0.4 kmol/hr\n",
    "\n",
    "Pressure = 202650 Pa \n",
    "\n",
    "Temperature = 356 K\n",
    "\n",
    "We will study the simulation of the mixer with the given specifications using 2 approaches:\n",
    "\n",
    "* Case 1: Specifying the number of mixer inlets, and momentum mixing type set to 'minimize'\n",
    "\n",
    "* Case 2: Specifying the mixer inlet names, and momentum mixing type set to 'equality' (only one inlet stream pressure    specified)\n",
    "\n",
    "**Note: \n",
    "When the momentum mixing type is set to 'minimize', the mixed stream pressure takes the minimum value among all inlet stream pressures.\n",
    "When the momentum mixing type is set to 'equality', the mixed stream, along with all inlet streams have the same value of pressure.**\n",
    "\n",
    "\n",
    "For more details, IDAES documentation reference for mixer model: https://idaes-pse.readthedocs.io/en/stable/models/mixer.html"
   ]
  },
  {
   "cell_type": "markdown",
   "metadata": {},
   "source": [
    "## Setting up the problem in IDAES"
   ]
  },
  {
   "cell_type": "code",
   "execution_count": 1,
   "metadata": {},
   "outputs": [],
   "source": [
    "# Import objects from pyomo package \n",
    "from pyomo.environ import ConcreteModel, SolverFactory, value\n",
    "\n",
    "# Import the main FlowsheetBlock from IDAES. The flowsheet block will contain the unit model\n",
    "from idaes.core import FlowsheetBlock\n",
    "\n",
    "# Import idaes logger to set output levels\n",
    "import idaes.logger as idaeslog\n",
    "\n",
    "#Create the ConcreteModel and the FlowsheetBlock, and attach the flowsheet block to it.\n",
    "m = ConcreteModel()\n",
    "\n",
    "m.fs = FlowsheetBlock(default={\"dynamic\": False}) # dynamic or ss flowsheet needs to be specified here\n",
    "\n",
    "#import the BTX_ideal property package to create a properties block for the flowsheet\n",
    "from idaes.generic_models.properties.activity_coeff_models import BTX_activity_coeff_VLE\n",
    "\n",
    "# Add properties parameter block to the flowsheet with specifications\n",
    "m.fs.properties = BTX_activity_coeff_VLE.BTXParameterBlock(default={\"valid_phase\":\n",
    "                                                     'Liq',\n",
    "                                                     \"activity_coeff_model\":\n",
    "                                                     \"Ideal\"})\n",
    "#Import the mixer unit model from the model library\n",
    "from idaes.generic_models.unit_models.mixer import Mixer\n",
    "\n",
    "#Import momentum mixing type\n",
    "from idaes.generic_models.unit_models.mixer import MomentumMixingType"
   ]
  },
  {
   "cell_type": "markdown",
   "metadata": {},
   "source": [
    "## Case 1"
   ]
  },
  {
   "cell_type": "code",
   "execution_count": 2,
   "metadata": {},
   "outputs": [
    {
     "name": "stdout",
     "output_type": "stream",
     "text": [
      "The initial degrees of freedom is: 10\n"
     ]
    }
   ],
   "source": [
    "#Create an instance of the mixer unit, attaching it to the flowsheet\n",
    "#Specify that the property package to be used with the mixer is the one we created earlier, the number of mixer inlets is 2, and momentum mixing type is minimize\n",
    "m.fs.mixer1 = Mixer(default={\"property_package\": m.fs.properties,\"num_inlets\":2,\"momentum_mixing_type\":MomentumMixingType.minimize})\n",
    "\n",
    "#Import the degrees_of_freedom function from the idaes.core.util.model_statistics package\n",
    "# DOF = Number of Model Variables - Number of Model Constraints\n",
    "from idaes.core.util.model_statistics import degrees_of_freedom\n",
    "\n",
    "# Call the degrees_of_freedom function, get initial DOF\n",
    "DOF_initial = degrees_of_freedom(m)\n",
    "print('The initial degrees of freedom is: {0}'.format(DOF_initial))"
   ]
  },
  {
   "cell_type": "code",
   "execution_count": 3,
   "metadata": {},
   "outputs": [],
   "source": [
    "assert DOF_initial == 10"
   ]
  },
  {
   "cell_type": "code",
   "execution_count": 4,
   "metadata": {},
   "outputs": [
    {
     "name": "stdout",
     "output_type": "stream",
     "text": [
      "The final degrees of freedom is: 0\n"
     ]
    }
   ],
   "source": [
    "#Fix the stream inlet conditions\n",
    "m.fs.mixer1.inlet_1.flow_mol.fix(0.6*1000/3600) # converting to mol/s as unit basis is mol/s\n",
    "m.fs.mixer1.inlet_1.mole_frac_comp[0, \"benzene\"].fix(1)\n",
    "m.fs.mixer1.inlet_1.mole_frac_comp[0, \"toluene\"].fix(0)\n",
    "m.fs.mixer1.inlet_1.pressure.fix(101325) # Pa\n",
    "m.fs.mixer1.inlet_1.temperature.fix(353) # K\n",
    "m.fs.mixer1.inlet_2.flow_mol.fix(0.4*1000/3600) # converting to mol/s as unit basis is mol/s\n",
    "m.fs.mixer1.inlet_2.mole_frac_comp[0, \"benzene\"].fix(0)\n",
    "m.fs.mixer1.inlet_2.mole_frac_comp[0, \"toluene\"].fix(1)\n",
    "m.fs.mixer1.inlet_2.pressure.fix(202650) # Pa\n",
    "m.fs.mixer1.inlet_2.temperature.fix(356) # K\n",
    "\n",
    "# Call the degrees_of_freedom function, get final DOF\n",
    "DOF_final = degrees_of_freedom(m)\n",
    "print('The final degrees of freedom is: {0}'.format(DOF_final))"
   ]
  },
  {
   "cell_type": "code",
   "execution_count": 5,
   "metadata": {},
   "outputs": [],
   "source": [
    "assert DOF_final == 0"
   ]
  },
  {
   "cell_type": "markdown",
   "metadata": {},
   "source": [
    "### Flowsheet Initialization"
   ]
  },
  {
   "cell_type": "code",
   "execution_count": 6,
   "metadata": {},
   "outputs": [],
   "source": [
    "#Initialize the flowsheet, and set the output at WARNING\n",
    "m.fs.mixer1.initialize(outlvl=idaeslog.WARNING)"
   ]
  },
  {
   "cell_type": "markdown",
   "metadata": {},
   "source": [
    "### Obtaining Simulation Results"
   ]
  },
  {
   "cell_type": "code",
   "execution_count": 7,
   "metadata": {},
   "outputs": [
    {
     "name": "stdout",
     "output_type": "stream",
     "text": [
      "Ipopt 3.13.2: \n",
      "\n",
      "******************************************************************************\n",
      "This program contains Ipopt, a library for large-scale nonlinear optimization.\n",
      " Ipopt is released as open source code under the Eclipse Public License (EPL).\n",
      "         For more information visit http://projects.coin-or.org/Ipopt\n",
      "\n",
      "This version of Ipopt was compiled from source code available at\n",
      "    https://github.com/IDAES/Ipopt as part of the Institute for the Design of\n",
      "    Advanced Energy Systems Process Systems Engineering Framework (IDAES PSE\n",
      "    Framework) Copyright (c) 2018-2019. See https://github.com/IDAES/idaes-pse.\n",
      "\n",
      "This version of Ipopt was compiled using HSL, a collection of Fortran codes\n",
      "    for large-scale scientific computation.  All technical papers, sales and\n",
      "    publicity material resulting from use of the HSL codes within IPOPT must\n",
      "    contain the following acknowledgement:\n",
      "        HSL, a collection of Fortran codes for large-scale scientific\n",
      "        computation. See http://www.hsl.rl.ac.uk.\n",
      "******************************************************************************\n",
      "\n",
      "This is Ipopt version 3.13.2, running with linear solver ma27.\n",
      "\n",
      "Number of nonzeros in equality constraint Jacobian...:       68\n",
      "Number of nonzeros in inequality constraint Jacobian.:        0\n",
      "Number of nonzeros in Lagrangian Hessian.............:       19\n",
      "\n",
      "Total number of variables............................:       25\n",
      "                     variables with only lower bounds:        3\n",
      "                variables with lower and upper bounds:        8\n",
      "                     variables with only upper bounds:        0\n",
      "Total number of equality constraints.................:       25\n",
      "Total number of inequality constraints...............:        0\n",
      "        inequality constraints with only lower bounds:        0\n",
      "   inequality constraints with lower and upper bounds:        0\n",
      "        inequality constraints with only upper bounds:        0\n",
      "\n",
      "iter    objective    inf_pr   inf_du lg(mu)  ||d||  lg(rg) alpha_du alpha_pr  ls\n",
      "   0  0.0000000e+00 3.58e+02 1.00e+00  -1.0 0.00e+00    -  0.00e+00 0.00e+00   0\n",
      "   1  0.0000000e+00 3.58e+00 1.93e+00  -1.0 1.00e-02    -  9.90e-01 9.90e-01h  1\n",
      "   2  0.0000000e+00 3.54e-02 1.78e+00  -1.0 1.00e-04    -  9.90e-01 9.90e-01h  1\n",
      "   3  0.0000000e+00 7.28e-12 1.32e+01  -1.0 9.90e-07    -  1.00e+00 1.00e+00h  1\n",
      "\n",
      "Number of Iterations....: 3\n",
      "\n",
      "                                   (scaled)                 (unscaled)\n",
      "Objective...............:   0.0000000000000000e+00    0.0000000000000000e+00\n",
      "Dual infeasibility......:   0.0000000000000000e+00    0.0000000000000000e+00\n",
      "Constraint violation....:   1.2806122842558339e-14    7.2759576141834259e-12\n",
      "Complementarity.........:   0.0000000000000000e+00    0.0000000000000000e+00\n",
      "Overall NLP error.......:   1.2806122842558339e-14    7.2759576141834259e-12\n",
      "\n",
      "\n",
      "Number of objective function evaluations             = 4\n",
      "Number of objective gradient evaluations             = 4\n",
      "Number of equality constraint evaluations            = 4\n",
      "Number of inequality constraint evaluations          = 0\n",
      "Number of equality constraint Jacobian evaluations   = 4\n",
      "Number of inequality constraint Jacobian evaluations = 0\n",
      "Number of Lagrangian Hessian evaluations             = 3\n",
      "Total CPU secs in IPOPT (w/o function evaluations)   =      0.002\n",
      "Total CPU secs in NLP function evaluations           =      0.000\n",
      "\n",
      "EXIT: Optimal Solution Found.\n"
     ]
    }
   ],
   "source": [
    "#Solve the simulation using ipopt\n",
    "#Note: If the degrees of freedom = 0, we have a square problem\n",
    "opt = SolverFactory('ipopt')\n",
    "result = opt.solve(m, tee=True)"
   ]
  },
  {
   "cell_type": "code",
   "execution_count": 8,
   "metadata": {},
   "outputs": [],
   "source": [
    "from pyomo.opt import TerminationCondition, SolverStatus\n",
    "\n",
    "# Check if termination condition is optimal\n",
    "assert result.solver.termination_condition == TerminationCondition.optimal\n",
    "assert result.solver.status == SolverStatus.ok"
   ]
  },
  {
   "cell_type": "markdown",
   "metadata": {},
   "source": [
    "### View Results"
   ]
  },
  {
   "cell_type": "code",
   "execution_count": 9,
   "metadata": {},
   "outputs": [
    {
     "name": "stdout",
     "output_type": "stream",
     "text": [
      "flow_mol : Total molar flowrate [mol/s]\n",
      "    Size=1, Index=None\n",
      "    Key  : Lower : Value              : Upper : Fixed : Stale : Domain\n",
      "    None :     0 : 0.2777777777777778 :  None : False : False : NonNegativeReals\n",
      "enth_mol_phase : Phase molar specific enthalpies [J/mol]\n",
      "    Size=1, Index=fs.properties.phase_list\n",
      "    Key : Lower : Value              : Upper : Fixed : Stale : Domain\n",
      "    Liq :  None : 42703.868530442516 :  None : False : False :  Reals\n"
     ]
    }
   ],
   "source": [
    "#Display the outlet stream mole flowrate (mol/s)\n",
    "m.fs.mixer1.outlet.flow_mol[0].display()\n",
    "\n",
    "#Display the outlet stream molar enthalpy (J/mol)\n",
    "m.fs.mixer1.mixed_state[0].enth_mol_phase.display()"
   ]
  },
  {
   "cell_type": "code",
   "execution_count": 10,
   "metadata": {},
   "outputs": [
    {
     "name": "stdout",
     "output_type": "stream",
     "text": [
      "\n",
      "====================================================================================\n",
      "Unit : fs.mixer1                                                           Time: 0.0\n",
      "------------------------------------------------------------------------------------\n",
      "    Stream Table\n",
      "                             inlet_1    inlet_2    Outlet  \n",
      "    flow_mol                  0.16667    0.11111    0.27778\n",
      "    mole_frac_comp benzene     1.0000     0.0000    0.60000\n",
      "    mole_frac_comp toluene     0.0000     1.0000    0.40000\n",
      "    temperature                353.00     356.00     354.31\n",
      "    pressure               1.0132e+05 2.0265e+05 1.0132e+05\n",
      "====================================================================================\n"
     ]
    }
   ],
   "source": [
    "#Display a readable result report\n",
    "m.fs.mixer1.report()"
   ]
  },
  {
   "cell_type": "code",
   "execution_count": 11,
   "metadata": {},
   "outputs": [
    {
     "name": "stdout",
     "output_type": "stream",
     "text": [
      "The total enthalpy of inlet streams is 11862.1857029007 J/s\n",
      "The total enthalpy of the outlet stream is 11862.185702900699 J/s\n"
     ]
    }
   ],
   "source": [
    "#Energy Balance Validation \n",
    "\n",
    "molflow_1 = m.fs.mixer1.inlet_1.flow_mol[0].value\n",
    "molflow_2 = m.fs.mixer1.inlet_2.flow_mol[0].value\n",
    "benzene_1 = m.fs.mixer1.inlet_1.mole_frac_comp[0, \"benzene\"].value\n",
    "toluene_2 = m.fs.mixer1.inlet_2.mole_frac_comp[0, \"toluene\"].value\n",
    "\n",
    "#total_enthalpy_in = molflow_1*benzene_1*molar_enthalpy_1 + molflow_2*toluene_2*molar_enthalpy_2\n",
    "total_enthalpy_in1 = molflow_1*m.fs.mixer1.inlet_1_state[0].enth_mol_phase['Liq'].value\n",
    "total_enthalpy_in2 = molflow_2*m.fs.mixer1.inlet_2_state[0].enth_mol_phase['Liq'].value\n",
    "print('The total enthalpy of inlet streams is {0} J/s'.format(total_enthalpy_in1 + total_enthalpy_in2))\n",
    "\n",
    "molar_enthalpy_out = m.fs.mixer1.mixed_state[0].enth_mol_phase['Liq'].value\n",
    "mole_flow_out = m.fs.mixer1.outlet.flow_mol[0].value\n",
    "total_enthalpy_out = mole_flow_out*molar_enthalpy_out\n",
    "print('The total enthalpy of the outlet stream is {0} J/s'.format(total_enthalpy_out))"
   ]
  },
  {
   "cell_type": "code",
   "execution_count": 12,
   "metadata": {},
   "outputs": [],
   "source": [
    "import pytest\n",
    "\n",
    "# Check results\n",
    "assert mole_flow_out == pytest.approx(0.27778, abs=1e-2)\n",
    "assert m.fs.mixer1.outlet.mole_frac_comp[0, \"benzene\"].value == pytest.approx(0.6, abs=1e-3)\n",
    "assert m.fs.mixer1.outlet.mole_frac_comp[0, \"toluene\"].value == pytest.approx(0.4, abs=1e-3)\n",
    "assert m.fs.mixer1.outlet.temperature[0].value == pytest.approx(354.31, abs=1e-2)\n",
    "assert m.fs.mixer1.outlet.pressure[0].value == pytest.approx(101325, abs=1)\n",
    "assert total_enthalpy_out - total_enthalpy_in1 - total_enthalpy_in2 == pytest.approx(0, abs=1e-2)"
   ]
  },
  {
   "cell_type": "markdown",
   "metadata": {},
   "source": [
    "## Case 2"
   ]
  },
  {
   "cell_type": "code",
   "execution_count": 13,
   "metadata": {},
   "outputs": [],
   "source": [
    "#Create the ConcreteModel and the FlowsheetBlock, and attach the flowsheet block to it.\n",
    "m1 = ConcreteModel()\n",
    "m1.fs = FlowsheetBlock(default={\"dynamic\": False})\n",
    "\n",
    "# Add properties parameter block to the flowsheet with specifications\n",
    "m1.fs.properties = BTX_activity_coeff_VLE.BTXParameterBlock(default={\"valid_phase\":\n",
    "                                                     'Liq',\n",
    "                                                     \"activity_coeff_model\":\n",
    "                                                     \"Ideal\"})"
   ]
  },
  {
   "cell_type": "code",
   "execution_count": 14,
   "metadata": {},
   "outputs": [],
   "source": [
    "#Create an instance of another mixer unit, attaching it to the flowsheet\n",
    "#Specify that the property package to be used with the mixer is the one we created earlier, inlet list is specified, and momentum mixing type is equality\n",
    "m1.fs.mixer2 = Mixer(default={\"property_package\": m1.fs.properties,\"inlet_list\":[\"inlet1\",\"inlet2\"],\"momentum_mixing_type\":MomentumMixingType.equality})"
   ]
  },
  {
   "cell_type": "code",
   "execution_count": 15,
   "metadata": {},
   "outputs": [
    {
     "name": "stdout",
     "output_type": "stream",
     "text": [
      "The initial degrees of freedom is: 9\n",
      "The final degrees of freedom is: 0\n"
     ]
    }
   ],
   "source": [
    "DOF_init = degrees_of_freedom(m1)\n",
    "print('The initial degrees of freedom is: {0}'.format(DOF_init))\n",
    "#Fix the stream inlet conditions\n",
    "m1.fs.mixer2.inlet1.flow_mol.fix(0.6*1000/3600) # converting to mol/s as unit basis is mol/s\n",
    "m1.fs.mixer2.inlet1.mole_frac_comp[0, \"benzene\"].fix(1)\n",
    "m1.fs.mixer2.inlet1.mole_frac_comp[0, \"toluene\"].fix(0)\n",
    "m1.fs.mixer2.inlet1.pressure.fix(101325) # Pa , Another option is m1.fs.mixer2.inlet2.pressure.fix(202650)\n",
    "m1.fs.mixer2.inlet1.temperature.fix(353) # K\n",
    "m1.fs.mixer2.inlet2.flow_mol.fix(0.4*1000/3600) # converting to mol/s as unit basis is mol/s\n",
    "m1.fs.mixer2.inlet2.mole_frac_comp[0, \"benzene\"].fix(0)\n",
    "m1.fs.mixer2.inlet2.mole_frac_comp[0, \"toluene\"].fix(1)\n",
    "m1.fs.mixer2.inlet2.temperature.fix(356) # K\n",
    "DOF_final = degrees_of_freedom(m1)\n",
    "print('The final degrees of freedom is: {0}'.format(DOF_final))"
   ]
  },
  {
   "cell_type": "markdown",
   "metadata": {},
   "source": [
    "### Flowsheet Initialization"
   ]
  },
  {
   "cell_type": "code",
   "execution_count": 16,
   "metadata": {},
   "outputs": [],
   "source": [
    "#Initialize the flowsheet, and set the output at WARNING\n",
    "m1.fs.mixer2.initialize(outlvl=idaeslog.WARNING)"
   ]
  },
  {
   "cell_type": "markdown",
   "metadata": {},
   "source": [
    "### Obtaining Simulation Results"
   ]
  },
  {
   "cell_type": "code",
   "execution_count": 17,
   "metadata": {},
   "outputs": [],
   "source": [
    "#Solve the simulation using ipopt\n",
    "#Note: If the degrees of freedom = 0, we have a square problem\n",
    "opt = SolverFactory('ipopt')\n",
    "result = opt.solve(m1)"
   ]
  },
  {
   "cell_type": "code",
   "execution_count": 18,
   "metadata": {},
   "outputs": [],
   "source": [
    "from pyomo.opt import TerminationCondition, SolverStatus\n",
    "\n",
    "# Check if termination condition is optimal\n",
    "assert result.solver.termination_condition == TerminationCondition.optimal\n",
    "assert result.solver.status == SolverStatus.ok"
   ]
  },
  {
   "cell_type": "markdown",
   "metadata": {},
   "source": [
    "### View Results"
   ]
  },
  {
   "cell_type": "code",
   "execution_count": 19,
   "metadata": {},
   "outputs": [
    {
     "name": "stdout",
     "output_type": "stream",
     "text": [
      "flow_mol : Total molar flowrate [mol/s]\n",
      "    Size=1, Index=None\n",
      "    Key  : Lower : Value              : Upper : Fixed : Stale : Domain\n",
      "    None :     0 : 0.2777777777777778 :  None : False : False : NonNegativeReals\n",
      "enth_mol_phase : Phase molar specific enthalpies [J/mol]\n",
      "    Size=1, Index=fs.properties.phase_list\n",
      "    Key : Lower : Value              : Upper : Fixed : Stale : Domain\n",
      "    Liq :  None : 42703.868530442516 :  None : False : False :  Reals\n"
     ]
    }
   ],
   "source": [
    "#Display the outlet stream mole flowrate (mol/s)\n",
    "m1.fs.mixer2.outlet.flow_mol[0].display()\n",
    "\n",
    "#Display the outlet stream molar enthalpy (J/mol)\n",
    "m1.fs.mixer2.mixed_state[0].enth_mol_phase.display()"
   ]
  },
  {
   "cell_type": "code",
   "execution_count": 20,
   "metadata": {},
   "outputs": [
    {
     "name": "stdout",
     "output_type": "stream",
     "text": [
      "\n",
      "====================================================================================\n",
      "Unit : fs.mixer2                                                           Time: 0.0\n",
      "------------------------------------------------------------------------------------\n",
      "    Stream Table\n",
      "                             inlet1     inlet2     Outlet  \n",
      "    flow_mol                  0.16667    0.11111    0.27778\n",
      "    mole_frac_comp benzene     1.0000     0.0000    0.60000\n",
      "    mole_frac_comp toluene     0.0000     1.0000    0.40000\n",
      "    temperature                353.00     356.00     354.31\n",
      "    pressure               1.0132e+05 1.0132e+05 1.0132e+05\n",
      "====================================================================================\n"
     ]
    }
   ],
   "source": [
    "#Display a readable report\n",
    "m1.fs.mixer2.report()"
   ]
  },
  {
   "cell_type": "code",
   "execution_count": 21,
   "metadata": {},
   "outputs": [],
   "source": [
    "# Check results\n",
    "assert m1.fs.mixer2.outlet.flow_mol[0].value == pytest.approx(0.27778, abs=1e-2)\n",
    "assert m1.fs.mixer2.outlet.mole_frac_comp[0, \"benzene\"].value == pytest.approx(0.6, abs=1e-3)\n",
    "assert m1.fs.mixer2.outlet.mole_frac_comp[0, \"toluene\"].value == pytest.approx(0.4, abs=1e-3)\n",
    "assert m1.fs.mixer2.outlet.temperature[0].value == pytest.approx(354.31, abs=1e-2)\n",
    "assert m1.fs.mixer2.outlet.pressure[0].value == pytest.approx(101325, abs=1)"
   ]
  }
 ],
 "metadata": {
  "kernelspec": {
   "display_name": "Python 3",
   "language": "python",
   "name": "python3"
  },
  "language_info": {
   "codemirror_mode": {
    "name": "ipython",
    "version": 3
   },
   "file_extension": ".py",
   "mimetype": "text/x-python",
   "name": "python",
   "nbconvert_exporter": "python",
   "pygments_lexer": "ipython3",
   "version": "3.7.4"
  }
 },
 "nbformat": 4,
 "nbformat_minor": 2
}
