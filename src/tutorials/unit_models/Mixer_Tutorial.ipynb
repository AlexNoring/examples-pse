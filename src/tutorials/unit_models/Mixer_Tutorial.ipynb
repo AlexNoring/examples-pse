{
 "cells": [
  {
   "cell_type": "markdown",
   "metadata": {},
   "source": [
    "**Flowsheet Containing a Single Mixer**\n",
    "\n",
    "**Problem Statement**: Consider the process of mixing benzene and toluene streams to form a mixture with the following inlet specificatons:\n",
    "\n",
    "**Stream 1:**\n",
    "Component: \n",
    "\n",
    "Benzene Flow Rate = 0.6 kmol/hr\n",
    "\n",
    "Pressure = 101325 Pa \n",
    "\n",
    "Temperature = 353 K\n",
    "\n",
    "**Stream 2**\n",
    "Component: \n",
    "\n",
    "Toluene Flow Rate = 0.4 kmol/hr\n",
    "\n",
    "Pressure = 202650 Pa \n",
    "\n",
    "Temperature = 356 K\n",
    "\n",
    "We will study the simulation of the mixer with the given specifications using 2 approaches:\n",
    "\n",
    "Case 1: Specifying the number of mixer inlets, and momentum mixing type set to default ('minimize')\n",
    "\n",
    "Case 2: Specifying the mixer inlet names, and momentum mixing type set to 'equality'\n",
    "\n",
    "For more details, IDAES documentation reference for mixer model: https://idaes-pse.readthedocs.io/en/stable/models/mixer.html"
   ]
  },
  {
   "cell_type": "markdown",
   "metadata": {},
   "source": [
    "**Case 1**\n",
    "**Setting up the problem in IDAES**"
   ]
  },
  {
   "cell_type": "code",
   "execution_count": 1,
   "metadata": {},
   "outputs": [
    {
     "name": "stdout",
     "output_type": "stream",
     "text": [
      "The initial degrees of freedom are: 10\n",
      "The final degrees of freedom are: 0\n"
     ]
    }
   ],
   "source": [
    "# Import pyomo package \n",
    "from pyomo.environ import ConcreteModel, SolverFactory, Constraint, value\n",
    "\n",
    "# Import idaes logger to set output levels\n",
    "import idaes.logger as idaeslog\n",
    "\n",
    "# Import the main FlowsheetBlock from IDAES. The flowsheet block will contain the unit model\n",
    "from idaes.core import FlowsheetBlock\n",
    "\n",
    "#Create the ConcreteModel and the FlowsheetBlock, and attach the flowsheet block to it.\n",
    "m = ConcreteModel()\n",
    "m.fs = FlowsheetBlock(default={\"dynamic\": False})\n",
    "# Steady State Model\n",
    "\n",
    "#import the BTX property package to create a properties block for the flowsheet\n",
    "from idaes.generic_models.properties.activity_coeff_models import BTX_activity_coeff_VLE\n",
    "\n",
    "# Add properties as parameters to flowsheet directly, and attach the properties block to the flowsheet\n",
    "m.fs.properties = BTX_activity_coeff_VLE.BTXParameterBlock(default={\"valid_phase\":\n",
    "                                                     'Liq',\n",
    "                                                     \"activity_coeff_model\":\n",
    "                                                     \"Ideal\"})\n",
    "#Import a mixer unit\n",
    "from idaes.generic_models.unit_models.mixer import Mixer\n",
    "\n",
    "#Create an instance of the mixer unit, attaching it to the flowsheet\n",
    "#specify that the property package to be used with the mixer is the one we created earlier.\n",
    "m.fs.mixer1 = Mixer(default={\"property_package\": m.fs.properties,\"num_inlets\":2})\n",
    "\n",
    "#import the degrees_of_freedom function from the idaes.core.util.model_statistics package\n",
    "from idaes.core.util.model_statistics import degrees_of_freedom\n",
    "# DOF = Number of Model Variables - Number of Model Constraints\n",
    "\n",
    "# Call the degrees_of_freedom function, get initial DOF\n",
    "DOF_initial = degrees_of_freedom(m)\n",
    "print('The initial degrees of freedom are: {0}'.format(DOF_initial))\n",
    "\n",
    "#Fix the stream inlet conditions\n",
    "m.fs.mixer1.inlet_1.flow_mol.fix(0.6*1000/3600)\n",
    "m.fs.mixer1.inlet_1.mole_frac_comp[0, \"benzene\"].fix(1)\n",
    "m.fs.mixer1.inlet_1.mole_frac_comp[0, \"toluene\"].fix(0)\n",
    "m.fs.mixer1.inlet_1.pressure.fix(101325)\n",
    "m.fs.mixer1.inlet_1.temperature.fix(353)\n",
    "m.fs.mixer1.inlet_2.flow_mol.fix(0.4*1000/3600)\n",
    "m.fs.mixer1.inlet_2.mole_frac_comp[0, \"benzene\"].fix(0)\n",
    "m.fs.mixer1.inlet_2.mole_frac_comp[0, \"toluene\"].fix(1)\n",
    "m.fs.mixer1.inlet_2.pressure.fix(202650)\n",
    "m.fs.mixer1.inlet_2.temperature.fix(356)\n",
    "\n",
    "# Call the degrees_of_freedom function, get final DOF\n",
    "DOF_final = degrees_of_freedom(m)\n",
    "print('The final degrees of freedom are: {0}'.format(DOF_final))"
   ]
  },
  {
   "cell_type": "markdown",
   "metadata": {},
   "source": [
    "**Obtain Simulation Results**"
   ]
  },
  {
   "cell_type": "code",
   "execution_count": 2,
   "metadata": {},
   "outputs": [],
   "source": [
    "#Initialize the flowsheet, and set the output at WARNING\n",
    "m.fs.mixer1.initialize(outlvl=idaeslog.WARNING)\n",
    "\n",
    "#Solve the simulation using ipopt\n",
    "#Note: If the degrees of freedom = 0, we have a square problem\n",
    "opt = SolverFactory('ipopt')\n",
    "result = opt.solve(m)"
   ]
  },
  {
   "cell_type": "code",
   "execution_count": 3,
   "metadata": {},
   "outputs": [
    {
     "name": "stdout",
     "output_type": "stream",
     "text": [
      "\n",
      "====================================================================================\n",
      "Unit : fs.mixer1                                                           Time: 0.0\n",
      "------------------------------------------------------------------------------------\n",
      "    Stream Table\n",
      "                             inlet_1    inlet_2    Outlet  \n",
      "    flow_mol                  0.16667    0.11111    0.27778\n",
      "    mole_frac_comp benzene     1.0000     0.0000    0.60000\n",
      "    mole_frac_comp toluene     0.0000     1.0000    0.40000\n",
      "    temperature                353.00     356.00     354.31\n",
      "    pressure               1.0132e+05 2.0265e+05 1.0132e+05\n",
      "====================================================================================\n"
     ]
    }
   ],
   "source": [
    "#Display a readable report\n",
    "m.fs.mixer1.report()"
   ]
  },
  {
   "cell_type": "code",
   "execution_count": 4,
   "metadata": {},
   "outputs": [
    {
     "name": "stdout",
     "output_type": "stream",
     "text": [
      "enth_mol_phase : Phase molar specific enthalpies [J/mol]\n",
      "    Size=1, Index=fs.properties.phase_list\n",
      "    Key : Lower : Value              : Upper : Fixed : Stale : Domain\n",
      "    Liq :  None : 42703.868530442516 :  None : False : False :  Reals\n"
     ]
    }
   ],
   "source": [
    "#Display the outlet stream molar enthalpy (J/mol)\n",
    "m.fs.mixer1.mixed_state[0].enth_mol_phase.display()"
   ]
  },
  {
   "cell_type": "code",
   "execution_count": 13,
   "metadata": {},
   "outputs": [
    {
     "name": "stdout",
     "output_type": "stream",
     "text": [
      "11862.1857029007\n",
      "11862.185702900699\n"
     ]
    }
   ],
   "source": [
    "#Energy Balance Validation \n",
    "molflow_1 = m.fs.mixer1.inlet_1.flow_mol[0].value\n",
    "molflow_2 = m.fs.mixer1.inlet_2.flow_mol[0].value\n",
    "benzene_1 = m.fs.mixer1.inlet_1.mole_frac_comp[0, \"benzene\"].value\n",
    "toluene_2 = m.fs.mixer1.inlet_2.mole_frac_comp[0, \"toluene\"].value\n",
    "temp_1 = m.fs.mixer1.inlet_1.temperature[0].value\n",
    "temp_2 = m.fs.mixer1.inlet_2.temperature[0].value\n",
    "\n",
    "# sum(m*cp*(t-tref))_i = outlet enthalpy\n",
    "cp_benzene = 133 #J/mol.K\n",
    "cp_toluene = 157 #J/mol.K\n",
    "\n",
    "#total_enthalpy_in = molflow_1*benzene_1*cp_benzene*(temp_1) + molflow_2*toluene_2*cp_toluene*(temp_2)\n",
    "#m.fs.mixer1.inlet_1_state.display()\n",
    "total_enthalpy_in1 = molflow_1*m.fs.mixer1.inlet_1_state[0].enth_mol_phase['Liq'].value\n",
    "total_enthalpy_in2 = molflow_2*m.fs.mixer1.inlet_2_state[0].enth_mol_phase['Liq'].value\n",
    "print(total_enthalpy_in1 + total_enthalpy_in2)\n",
    "\n",
    "#molar_enthalpy_out = m.fs.mixer1.mixed_state[0].enth_mol_phase.value\n",
    "molar_enthalpy_out = 42703.868530442516\n",
    "total_entalpy_out = (molflow_1 + molflow_2)*molar_enthalpy_out\n",
    "print(total_entalpy_out)"
   ]
  },
  {
   "cell_type": "markdown",
   "metadata": {},
   "source": [
    "**Case 2**"
   ]
  },
  {
   "cell_type": "code",
   "execution_count": 14,
   "metadata": {},
   "outputs": [],
   "source": [
    "#Create the ConcreteModel and the FlowsheetBlock, and attach the flowsheet block to it.\n",
    "m1 = ConcreteModel()\n",
    "m1.fs = FlowsheetBlock(default={\"dynamic\": False})\n",
    "# Steady State Model\n",
    "\n",
    "# Add properties as parameters to flowsheet directly, and attach the properties block to the flowsheet\n",
    "m1.fs.properties = BTX_activity_coeff_VLE.BTXParameterBlock(default={\"valid_phase\":\n",
    "                                                     'Liq',\n",
    "                                                     \"activity_coeff_model\":\n",
    "                                                     \"Ideal\"})"
   ]
  },
  {
   "cell_type": "code",
   "execution_count": 15,
   "metadata": {},
   "outputs": [],
   "source": [
    "#Create an instance of another mixer unit, attaching it to the flowsheet\n",
    "#specify that the property package to be used with the mixer is the one we created earlier.\n",
    "m1.fs.mixer2 = Mixer(default={\"property_package\": m.fs.properties,\"inlet_list\":[\"inlet1\",\"inlet2\"],\"momentum_mixing_type\":2})"
   ]
  },
  {
   "cell_type": "code",
   "execution_count": 16,
   "metadata": {},
   "outputs": [],
   "source": [
    "#Fix the stream inlet conditions\n",
    "m1.fs.mixer2.inlet1.flow_mol.fix(0.6*1000/3600)\n",
    "m1.fs.mixer2.inlet1.mole_frac_comp[0, \"benzene\"].fix(1)\n",
    "m1.fs.mixer2.inlet1.mole_frac_comp[0, \"toluene\"].fix(0)\n",
    "m1.fs.mixer2.inlet1.pressure.fix(101325)\n",
    "m1.fs.mixer2.inlet1.temperature.fix(353)\n",
    "m1.fs.mixer2.inlet2.flow_mol.fix(0.4*1000/3600)\n",
    "m1.fs.mixer2.inlet2.mole_frac_comp[0, \"benzene\"].fix(0)\n",
    "m1.fs.mixer2.inlet2.mole_frac_comp[0, \"toluene\"].fix(1)\n",
    "m1.fs.mixer2.inlet2.pressure.fix(202650)\n",
    "m1.fs.mixer2.inlet2.temperature.fix(356)"
   ]
  },
  {
   "cell_type": "code",
   "execution_count": 17,
   "metadata": {},
   "outputs": [
    {
     "name": "stdout",
     "output_type": "stream",
     "text": [
      "2020-04-09 13:53:58 [INFO] idaes.init.fs.mixer2.inlet1_state: Initialization Step 1 skipped.\n",
      "2020-04-09 13:53:58 [INFO] idaes.init.fs.mixer2.inlet1_state: Initialization Step 2 optimal - Optimal Solution Found.\n",
      "2020-04-09 13:53:58 [INFO] idaes.init.fs.mixer2.inlet1_state: Initialization Step 3 optimal - Optimal Solution Found.\n",
      "2020-04-09 13:53:58 [INFO] idaes.init.fs.mixer2.inlet1_state: Initialization Step 4 optimal - Optimal Solution Found.\n",
      "2020-04-09 13:53:58 [INFO] idaes.init.fs.mixer2.inlet1_state: Initialization Step 5 optimal - Optimal Solution Found.\n",
      "2020-04-09 13:53:58 [INFO] idaes.init.fs.mixer2.inlet2_state: Initialization Step 1 skipped.\n",
      "2020-04-09 13:53:58 [INFO] idaes.init.fs.mixer2.inlet2_state: Initialization Step 2 optimal - Optimal Solution Found.\n",
      "2020-04-09 13:53:58 [INFO] idaes.init.fs.mixer2.inlet2_state: Initialization Step 3 optimal - Optimal Solution Found.\n",
      "2020-04-09 13:53:58 [INFO] idaes.init.fs.mixer2.inlet2_state: Initialization Step 4 optimal - Optimal Solution Found.\n",
      "2020-04-09 13:53:58 [INFO] idaes.init.fs.mixer2.inlet2_state: Initialization Step 5 optimal - Optimal Solution Found.\n",
      "2020-04-09 13:53:58 [INFO] idaes.init.fs.mixer2.mixed_state: Initialization Step 1 skipped.\n",
      "2020-04-09 13:53:58 [INFO] idaes.init.fs.mixer2.mixed_state: Initialization Step 2 optimal - Optimal Solution Found.\n",
      "2020-04-09 13:53:58 [INFO] idaes.init.fs.mixer2.mixed_state: Initialization Step 3 optimal - Optimal Solution Found.\n",
      "2020-04-09 13:53:58 [INFO] idaes.init.fs.mixer2.mixed_state: Initialization Step 4 optimal - Optimal Solution Found.\n",
      "2020-04-09 13:53:59 [INFO] idaes.init.fs.mixer2.mixed_state: Initialization Step 5 optimal - Optimal Solution Found.\n",
      "2020-04-09 13:53:59 [INFO] idaes.init.fs.mixer2.mixed_state: State Released.\n",
      "2020-04-09 13:53:59 [INFO] idaes.init.fs.mixer2.mixed_state: Initialization Complete: optimal - Optimal Solution Found\n",
      "2020-04-09 13:53:59 [INFO] idaes.init.fs.mixer2: Initialization Complete: optimal - Optimal Solution Found\n"
     ]
    }
   ],
   "source": [
    "#Initialize the flowsheet, and set the output at WARNING\n",
    "m1.fs.mixer2.initialize(outlvl=idaeslog.INFO)"
   ]
  },
  {
   "cell_type": "code",
   "execution_count": 18,
   "metadata": {},
   "outputs": [
    {
     "name": "stdout",
     "output_type": "stream",
     "text": [
      "WARNING: Loading a SolverResults object with a warning status into\n",
      "    model=unknown;\n",
      "        message from solver=Too few degrees of freedom (rethrown)!\n"
     ]
    }
   ],
   "source": [
    "#Solve the simulation using ipopt\n",
    "#Note: If the degrees of freedom = 0, we have a square problem\n",
    "opt = SolverFactory('ipopt',tee=True)\n",
    "result = opt.solve(m1)"
   ]
  },
  {
   "cell_type": "code",
   "execution_count": null,
   "metadata": {},
   "outputs": [],
   "source": [
    "#Display a readable report\n",
    "m1.fs.mixer2.report()"
   ]
  },
  {
   "cell_type": "code",
   "execution_count": null,
   "metadata": {},
   "outputs": [],
   "source": []
  }
 ],
 "metadata": {
  "kernelspec": {
   "display_name": "Python 3",
   "language": "python",
   "name": "python3"
  },
  "language_info": {
   "codemirror_mode": {
    "name": "ipython",
    "version": 3
   },
   "file_extension": ".py",
   "mimetype": "text/x-python",
   "name": "python",
   "nbconvert_exporter": "python",
   "pygments_lexer": "ipython3",
   "version": "3.7.4"
  }
 },
 "nbformat": 4,
 "nbformat_minor": 2
}
