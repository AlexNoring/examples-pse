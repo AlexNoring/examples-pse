{
 "cells": [
  {
   "cell_type": "markdown",
   "metadata": {},
   "source": [
    "**Flowsheet Containing a Single Heater**\n",
    "\n",
    "**Problem Statement**: Consider the process of heating a Benzene-Toluene mixture with the following inlet specificatons:\n",
    "\n",
    "Flow Rate = 1 kmol/hr\n",
    "\n",
    "Mole fraction (Benzene) = 0.4\n",
    "\n",
    "Mole fraction (Toluene) = 0.6\n",
    "\n",
    "Pressure = 101325 Pa\n",
    "\n",
    "Temperature = 353 K\n",
    "\n",
    "![](heater_2.svg)\n",
    "\n",
    "We will study the simulation of the heater as follows, by fixing the possible degrees of freedom (outlet temperature and heat duty) one at a time:\n",
    "\n",
    "1. If it is required to heat this mixture such that an outlet temperature of 363 K is to be obtained, we would like to know the heat duty (J/s)\n",
    "2. If it is required to supply heat to the mixture at a fixed rate: 2 J/s, we would like to know the outlet temperature (K) \n",
    "\n",
    "IDAES documentation reference for heater model: https://idaes-pse.readthedocs.io/en/stable/models/heater.html#"
   ]
  },
  {
   "cell_type": "markdown",
   "metadata": {},
   "source": [
    "**Setting up the problem in IDAES**"
   ]
  },
  {
   "cell_type": "code",
   "execution_count": 1,
   "metadata": {},
   "outputs": [],
   "source": [
    "# Import pyomo package \n",
    "from pyomo.environ import ConcreteModel, SolverFactory, Constraint, value\n",
    "\n",
    "# Import the main FlowsheetBlock from IDAES. The flowsheet block will contain the unit model\n",
    "from idaes.core import FlowsheetBlock\n",
    "\n",
    "# Import idaes logger to set output levels\n",
    "import idaes.logger as idaeslog\n",
    "\n",
    "#Create the ConcreteModel and the FlowsheetBlock, and attach the flowsheet block to it.\n",
    "m = ConcreteModel()\n",
    "m.fs = FlowsheetBlock(default={\"dynamic\": False})\n",
    "# dynamic or ss flowsheet needs to be specified here\n",
    "\n",
    "#Import the BTX_ideal property package to create a properties block for the flowsheet\n",
    "from idaes.generic_models.properties.activity_coeff_models import BTX_activity_coeff_VLE\n",
    "\n",
    "# Add properties as parameters to flowsheet directly, and attach the properties block to the flowsheet\n",
    "m.fs.properties = BTX_activity_coeff_VLE.BTXParameterBlock(default={\"valid_phase\":\n",
    "                                                     'Liq',\n",
    "                                                     \"activity_coeff_model\":\n",
    "                                                     \"Ideal\"})"
   ]
  },
  {
   "cell_type": "code",
   "execution_count": 2,
   "metadata": {},
   "outputs": [
    {
     "name": "stdout",
     "output_type": "stream",
     "text": [
      "The initial DOF is 6\n"
     ]
    }
   ],
   "source": [
    "#Import a heater unit\n",
    "from idaes.generic_models.unit_models.heater import Heater\n",
    "\n",
    "#Create an instance of the heater unit, attaching it to the flowsheet\n",
    "#Specify that the property package to be used with the heater is the one we created earlier.\n",
    "m.fs.heater = Heater(default={\"property_package\": m.fs.properties})\n",
    "\n",
    "#Import the degrees_of_freedom function from the idaes.core.util.model_statistics package\n",
    "from idaes.core.util.model_statistics import degrees_of_freedom\n",
    "# DOF = Number of Model Variables - Number of Model Constraints\n",
    "\n",
    "# Call the degrees_of_freedom function, get intitial DOF\n",
    "DOF_initial = degrees_of_freedom(m)\n",
    "print(\"The initial DOF is {0}\".format(DOF_initial))\n",
    "\n",
    "#Fix the BT stream inlet conditions\n",
    "m.fs.heater.inlet.flow_mol.fix(1*1000/3600)\n",
    "m.fs.heater.inlet.mole_frac_comp[0, \"benzene\"].fix(0.4)\n",
    "m.fs.heater.inlet.mole_frac_comp[0, \"toluene\"].fix(0.6)\n",
    "m.fs.heater.inlet.pressure.fix(101325)\n",
    "m.fs.heater.inlet.temperature.fix(353)"
   ]
  },
  {
   "cell_type": "markdown",
   "metadata": {},
   "source": [
    "**Case 1: Fix Outlet Temperature**"
   ]
  },
  {
   "cell_type": "code",
   "execution_count": 3,
   "metadata": {},
   "outputs": [
    {
     "name": "stdout",
     "output_type": "stream",
     "text": [
      "The final DOF is 0\n"
     ]
    }
   ],
   "source": [
    "m.fs.heater.outlet.temperature.fix(363)\n",
    "# Call the degrees_of_freedom function, get final DOF\n",
    "DOF_final = degrees_of_freedom(m)\n",
    "print(\"The final DOF is {0}\".format(DOF_final))"
   ]
  },
  {
   "cell_type": "markdown",
   "metadata": {},
   "source": [
    "**Flowsheet Initialization**\n",
    "\n",
    "IDAES includes pre-written initialization routines for all unit models.\n",
    "The output from initialization can be set to 7 different levels depending on the details required by the user.\n",
    "In general, when a particular output level is set, any information at that level and above gets picked up by logger. The default level taken by the logger is INFO. \n",
    "More information on these levels can be found in the IDAES documentation: \n",
    "https://idaes-pse.readthedocs.io/en/latest/logging.html"
   ]
  },
  {
   "cell_type": "code",
   "execution_count": 4,
   "metadata": {},
   "outputs": [],
   "source": [
    "#Initialize the flowsheet, and set the output at WARNING\n",
    "m.fs.heater.initialize(outlvl=idaeslog.WARNING)\n",
    "#From the output it can be inferred that since there are no errors or warnings encountered during initialization, nothing is displayed  "
   ]
  },
  {
   "cell_type": "code",
   "execution_count": 5,
   "metadata": {},
   "outputs": [
    {
     "name": "stdout",
     "output_type": "stream",
     "text": [
      "2020-03-12 14:53:15 - INFO - idaes.init.fs.heater.control_volume.properties_in - Initialization Step 1 skipped.\n",
      "2020-03-12 14:53:15 - INFO - idaes.init.fs.heater.control_volume.properties_in - Initialization Step 2 optimal - Optimal Solution Found.\n",
      "2020-03-12 14:53:15 - INFO - idaes.init.fs.heater.control_volume.properties_in - Initialization Step 3 optimal - Optimal Solution Found.\n",
      "2020-03-12 14:53:15 - INFO - idaes.init.fs.heater.control_volume.properties_in - Initialization Step 4 optimal - Optimal Solution Found.\n",
      "2020-03-12 14:53:15 - INFO - idaes.init.fs.heater.control_volume.properties_in - Initialization Step 5 optimal - Optimal Solution Found.\n",
      "2020-03-12 14:53:15 - INFO - idaes.init.fs.heater.control_volume.properties_out - Initialization Step 1 skipped.\n",
      "2020-03-12 14:53:15 - INFO - idaes.init.fs.heater.control_volume.properties_out - Initialization Step 2 optimal - Optimal Solution Found.\n",
      "2020-03-12 14:53:15 - INFO - idaes.init.fs.heater.control_volume.properties_out - Initialization Step 3 optimal - Optimal Solution Found.\n",
      "2020-03-12 14:53:15 - INFO - idaes.init.fs.heater.control_volume.properties_out - Initialization Step 4 optimal - Optimal Solution Found.\n",
      "2020-03-12 14:53:15 - INFO - idaes.init.fs.heater.control_volume.properties_out - Initialization Step 5 optimal - Optimal Solution Found.\n",
      "2020-03-12 14:53:15 - INFO - idaes.init.fs.heater.control_volume.properties_out - State Released.\n",
      "2020-03-12 14:53:15 - INFO - idaes.init.fs.heater.control_volume - Initialization Complete\n",
      "2020-03-12 14:53:15 - INFO - idaes.init.fs.heater - Initialization Step 1 Complete.\n",
      "2020-03-12 14:53:15 - INFO - idaes.init.fs.heater - Initialization Step 2 optimal - Optimal Solution Found.\n",
      "2020-03-12 14:53:15 - INFO - idaes.init.fs.heater.control_volume.properties_in - State Released.\n",
      "2020-03-12 14:53:15 - INFO - idaes.init.fs.heater - Initialization Complete: optimal - Optimal Solution Found\n"
     ]
    }
   ],
   "source": [
    "#Initialize the flowsheet, and set the output at INFO_HIGH\n",
    "m.fs.heater.initialize(outlvl=idaeslog.INFO_HIGH)\n",
    "#At INFO_HIGH level, details of all the initialization steps are displayed"
   ]
  },
  {
   "cell_type": "markdown",
   "metadata": {},
   "source": [
    "**Obtaining Simulation Results**"
   ]
  },
  {
   "cell_type": "code",
   "execution_count": 6,
   "metadata": {},
   "outputs": [
    {
     "data": {
      "text/plain": [
       "{'Problem': [{'Lower bound': -inf, 'Upper bound': inf, 'Number of objectives': 1, 'Number of constraints': 17, 'Number of variables': 17, 'Sense': 'unknown'}], 'Solver': [{'Status': 'ok', 'Message': 'Ipopt 3.12.13\\\\x3a Optimal Solution Found', 'Termination condition': 'optimal', 'Id': 0, 'Error rc': 0, 'Time': 0.022814273834228516}], 'Solution': [OrderedDict([('number of solutions', 0), ('number of solutions displayed', 0)])]}"
      ]
     },
     "execution_count": 6,
     "metadata": {},
     "output_type": "execute_result"
    }
   ],
   "source": [
    "#Solve the simulation using ipopt\n",
    "#Note: If the degrees of freedom = 0, we have a square problem\n",
    "opt = SolverFactory('ipopt')\n",
    "opt.solve(m)"
   ]
  },
  {
   "cell_type": "markdown",
   "metadata": {},
   "source": [
    "**View Results**"
   ]
  },
  {
   "cell_type": "code",
   "execution_count": 7,
   "metadata": {},
   "outputs": [
    {
     "name": "stdout",
     "output_type": "stream",
     "text": [
      "heat_duty : Size=1, Index=fs.time\n",
      "    Key : Lower : Value              : Upper : Fixed : Stale : Domain\n",
      "    0.0 :  None : 459.10147722222354 :  None : False : False :  Reals\n"
     ]
    }
   ],
   "source": [
    "#Display Heat Duty only\n",
    "m.fs.heater.heat_duty.display()"
   ]
  },
  {
   "cell_type": "code",
   "execution_count": 8,
   "metadata": {},
   "outputs": [
    {
     "name": "stdout",
     "output_type": "stream",
     "text": [
      "\n",
      "====================================================================================\n",
      "Unit : fs.heater                                                           Time: 0.0\n",
      "------------------------------------------------------------------------------------\n",
      "    Unit Performance\n",
      "\n",
      "    Variables: \n",
      "\n",
      "    Key       : Value  : Fixed : Bounds\n",
      "    Heat Duty : 459.10 : False : (None, None)\n",
      "\n",
      "------------------------------------------------------------------------------------\n",
      "    Stream Table\n",
      "                              Inlet     Outlet  \n",
      "    flow_mol                  0.27778    0.27778\n",
      "    mole_frac_comp benzene    0.40000    0.40000\n",
      "    mole_frac_comp toluene    0.60000    0.60000\n",
      "    temperature                353.00     363.00\n",
      "    pressure               1.0132e+05 1.0132e+05\n",
      "====================================================================================\n"
     ]
    }
   ],
   "source": [
    "#Display a readable report\n",
    "m.fs.heater.report()"
   ]
  },
  {
   "cell_type": "markdown",
   "metadata": {},
   "source": [
    "**Case 2: Fix Heat Duty**"
   ]
  },
  {
   "cell_type": "code",
   "execution_count": 9,
   "metadata": {},
   "outputs": [
    {
     "data": {
      "text/plain": [
       "{'Problem': [{'Lower bound': -inf, 'Upper bound': inf, 'Number of objectives': 1, 'Number of constraints': 17, 'Number of variables': 17, 'Sense': 'unknown'}], 'Solver': [{'Status': 'ok', 'Message': 'Ipopt 3.12.13\\\\x3a Optimal Solution Found', 'Termination condition': 'optimal', 'Id': 0, 'Error rc': 0, 'Time': 0.03125452995300293}], 'Solution': [OrderedDict([('number of solutions', 0), ('number of solutions displayed', 0)])]}"
      ]
     },
     "execution_count": 9,
     "metadata": {},
     "output_type": "execute_result"
    }
   ],
   "source": [
    "#Fix heat duty and solve the model \n",
    "m.fs.heater.outlet.temperature.unfix()\n",
    "m.fs.heater.heat_duty.fix(459.10147722222354)\n",
    "opt.solve(m)"
   ]
  },
  {
   "cell_type": "code",
   "execution_count": 10,
   "metadata": {},
   "outputs": [
    {
     "name": "stdout",
     "output_type": "stream",
     "text": [
      "_outlet_temperature_ref : Size=1, Index=fs.time\n",
      "    Key : Lower : Value : Upper : Fixed : Stale : Domain\n",
      "    0.0 :     0 : 363.0 :  None : False : False : NonNegativeReals\n"
     ]
    }
   ],
   "source": [
    "#Display outlet temperature only\n",
    "m.fs.heater.outlet.temperature.display()"
   ]
  },
  {
   "cell_type": "code",
   "execution_count": 11,
   "metadata": {},
   "outputs": [
    {
     "name": "stdout",
     "output_type": "stream",
     "text": [
      "\n",
      "====================================================================================\n",
      "Unit : fs.heater                                                           Time: 0.0\n",
      "------------------------------------------------------------------------------------\n",
      "    Unit Performance\n",
      "\n",
      "    Variables: \n",
      "\n",
      "    Key       : Value  : Fixed : Bounds\n",
      "    Heat Duty : 459.10 :  True : (None, None)\n",
      "\n",
      "------------------------------------------------------------------------------------\n",
      "    Stream Table\n",
      "                              Inlet     Outlet  \n",
      "    flow_mol                  0.27778    0.27778\n",
      "    mole_frac_comp benzene    0.40000    0.40000\n",
      "    mole_frac_comp toluene    0.60000    0.60000\n",
      "    temperature                353.00     363.00\n",
      "    pressure               1.0132e+05 1.0132e+05\n",
      "====================================================================================\n"
     ]
    }
   ],
   "source": [
    "#Display a readable report\n",
    "m.fs.heater.report()"
   ]
  },
  {
   "cell_type": "markdown",
   "metadata": {},
   "source": [
    "**Sensitivity Plot**"
   ]
  },
  {
   "cell_type": "code",
   "execution_count": 12,
   "metadata": {},
   "outputs": [
    {
     "data": {
      "text/plain": [
       "<Figure size 640x480 with 1 Axes>"
      ]
     },
     "metadata": {},
     "output_type": "display_data"
    }
   ],
   "source": [
    "# Heat Duty vs Outlet Teamperature\n",
    "import matplotlib.pyplot as plt\n",
    "import numpy as np\n",
    "\n",
    "#Unfix the heat duty from case 2\n",
    "m.fs.heater.heat_duty.unfix()\n",
    "\n",
    "#Create a list of outlet temperatures for which corresponding heat duty values need to be obtained\n",
    "outlet_temp_fixed = [91.256405+273.15,\n",
    "90.828456+273.15,\n",
    "86.535145+273.15,\n",
    "89.383218+273.15,\n",
    "93.973657+273.15,\n",
    "85.377274+273.15,\n",
    "92.399101+273.15,\n",
    "94.151562+273.15,\n",
    "87.564579+273.15,\n",
    "88.767855+273.15]\n",
    "\n",
    "#Fix the outlet temperature values and solve the model to obtain the heat duties\n",
    "heat_duty = []\n",
    "for temp in outlet_temp_fixed:\n",
    "    m.fs.heater.outlet.temperature.fix(temp)\n",
    "    opt.solve(m)\n",
    "    heat_duty.append(m.fs.heater.heat_duty[0].value) \n",
    "plt.xlim(358.15,368.15)\n",
    "plt.ylim(250,700)\n",
    "plt.plot(outlet_temp_fixed,heat_duty,'bo')\n",
    "plt.xlabel('Outlet Temperature (K)')\n",
    "plt.ylabel('Heat Duty (W)')\n",
    "plt.grid()\n",
    "plt.show()"
   ]
  }
 ],
 "metadata": {
  "kernelspec": {
   "display_name": "Python 3",
   "language": "python",
   "name": "python3"
  },
  "language_info": {
   "codemirror_mode": {
    "name": "ipython",
    "version": 3
   },
   "file_extension": ".py",
   "mimetype": "text/x-python",
   "name": "python",
   "nbconvert_exporter": "python",
   "pygments_lexer": "ipython3",
   "version": "3.7.4"
  }
 },
 "nbformat": 4,
 "nbformat_minor": 2
}
