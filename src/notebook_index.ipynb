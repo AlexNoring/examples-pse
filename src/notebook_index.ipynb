{
 "cells": [
  {
   "cell_type": "markdown",
   "metadata": {},
   "source": [
    "# Notebooks\n",
    "\n",
    "## Core IDAES library\n",
    "\n",
    "### Workshop tutorials\n",
    "* [Module 0: Welcome](workshops/Module_0_Welcome/Module_0_Welcome.ipynb)\n",
    "\n",
    "### Old tutorial series\n",
    "* [Basic Flowsheets](tutorials/Tutorial_1_Basic_Flowsheets.ipynb)"
   ]
  },
  {
   "cell_type": "code",
   "execution_count": null,
   "metadata": {},
   "outputs": [],
   "source": []
  }
 ],
 "metadata": {
  "kernelspec": {
   "display_name": "Python 3",
   "language": "python",
   "name": "python3"
  },
  "language_info": {
   "codemirror_mode": {
    "name": "ipython",
    "version": 3
   },
   "file_extension": ".py",
   "mimetype": "text/x-python",
   "name": "python",
   "nbconvert_exporter": "python",
   "pygments_lexer": "ipython3",
   "version": "3.7.3"
  }
 },
 "nbformat": 4,
 "nbformat_minor": 2
}
