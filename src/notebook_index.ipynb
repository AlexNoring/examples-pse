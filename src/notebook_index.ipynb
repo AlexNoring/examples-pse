{
 "cells": [
  {
   "cell_type": "markdown",
   "metadata": {},
   "source": [
    "# Notebooks\n",
    "This Jupyter notebook provides a table of contents and index for all the other Jupyter Notebook examples.\n"
   ]
  },
  {
   "cell_type": "markdown",
   "metadata": {},
   "source": [
    "## Core IDAES library\n",
    "\n",
    "### Workshop tutorials\n",
    "* [Module 0: Welcome](workshops/Module_0_Welcome/Module_0_Welcome.ipynb)\n",
    "* Module 1: Flash Unit - [tutorial](workshops/Module_1_Flash_Unit/Module_1_Flash_Unit.ipynb) / [solution](workshops/Module_1_Flash_Unit/Module_1__Flash_Unit_Solution.ipynb)\n",
    "* Module 2: Flowsheet - [tutorial](workshops/Module_2_Flowsheet/Module_2_Flowsheet.ipynb) / [solution](workshops/Module_2_Flowsheet/Module_2_Flowsheet_Solution.ipynb)\n",
    "* Module 3: Custom Unit Model - [tutorial](workshops/Module_3_Custom_Unit_Model/Module_3_Custom_Unit_Model.ipynb)\n",
    "   - Exercise 1 [tutorial](workshops/Module_3_Custom_Unit_Model/Module_3_Exercise_1.ipynb) / [solution](workshops/Module_3_Custom_Unit_Model/Module_3_Exercise_1_Solution.ipynb)\n",
    "\n",
    "### Old tutorial series\n",
    "* [Basic Flowsheets](tutorials/Tutorial_1_Basic_Flowsheets.ipynb)\n",
    "* [Basic Flowsheet Optimization](tutorials/Tutorial_2_Basic_Flowsheet_Optimization.ipynb)\n",
    "* [Dynamic Flowsheets](tutorials/Tutorial_3_Dynamic_Flowsheets.ipynb)"
   ]
  }
 ],
 "metadata": {
  "kernelspec": {
   "display_name": "Python 3",
   "language": "python",
   "name": "python3"
  },
  "language_info": {
   "codemirror_mode": {
    "name": "ipython",
    "version": 3
   },
   "file_extension": ".py",
   "mimetype": "text/x-python",
   "name": "python",
   "nbconvert_exporter": "python",
   "pygments_lexer": "ipython3",
   "version": "3.7.3"
  }
 },
 "nbformat": 4,
 "nbformat_minor": 2
}
