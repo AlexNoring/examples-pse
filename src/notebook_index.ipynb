{
 "cells": [
  {
   "cell_type": "markdown",
   "metadata": {},
   "source": [
    "# Notebooks\n",
    "This Jupyter notebook provides a table of contents and index for all the other Jupyter Notebook examples.\n"
   ]
  },
  {
   "cell_type": "markdown",
   "metadata": {},
   "source": [
    "## Core IDAES library\n",
    "\n",
    "### Workshop tutorials\n",
    "* Module 0: Welcome and Python/Pyomo Basics - [Exercise](workshops/Module_0_Welcome/Module_0_Welcome.ipynb) / [Solution](workshops/Module_0_Welcome/Module_0_Welcome_Solution.ipynb)\n",
    "* Module 1: Flash Unit Model - [Exercise](workshops/Module_1_Flash_Unit/Module_1_Flash_Unit.ipynb) / [Solution](workshops/Module_1_Flash_Unit/Module_1_Flash_Unit_Solution.ipynb)\n",
    "* Module 2: HDA Flowsheet Simulation and Optimization - [Exercise](workshops/Module_2_Flowsheet/Module_2_Flowsheet.ipynb) / [Solution](workshops/Module_2_Flowsheet/Module_2_Flowsheet_Solution.ipynb)\n",
    "* Module 3: Custom Unit Model - [Exercise](workshops/Module_3_Custom_Unit_Model/Module_3_Exercise_1.ipynb) / [Solution](workshops/Module_3_Custom_Unit_Model/Module_3_Exercise_1_Solution.ipynb)\n",
    "* Module 4a: Parameter Estimation (using unit model blocks) - [Exercise](workshops/Module_4_Parameter_Estimation/Module_4a_parameter_estimation_NRTL_using_flash_unit_model.ipynb) / [Solution](workshops/Module_4_Parameter_Estimation/Module_4a_parameter_estimation_NRTL_using_flash_unit_model_solution_testing.ipynb)\n",
    "* Module 4b: Parameter Estimation (using state blocks) - [Exercise](workshops/Module_4_Parameter_Estimation/Module_4b_parameter_estimation_NRTL_using_state_block.ipynb) / [Solution](workshops/Module_4_Parameter_Estimation/Module_4b_parameter_estimation_NRTL_using_state_block_solution_testing.ipynb)\n",
    "\n",
    "### Unit Model Tutorials\n",
    "* [Unit Model Tutorials](tutorials/unit_models/heater_tutorial_testing.ipynb)\n",
    "\n",
    "### Deprecated Tutorials\n",
    "* [Basic Flowsheets](tutorials/deprecated/Tutorial_1_Basic_Flowsheets.ipynb)\n",
    "* [Basic Flowsheet Optimization](tutorials/deprecated/Tutorial_2_Basic_Flowsheet_Optimization.ipynb)\n",
    "* [Dynamic Flowsheets](tutorials/deprecated/Tutorial_3_Dynamic_Flowsheets.ipynb)"
   ]
  },
  {
   "cell_type": "code",
   "execution_count": null,
   "metadata": {},
   "outputs": [],
   "source": []
  }
 ],
 "metadata": {
  "kernelspec": {
   "display_name": "Python 3",
   "language": "python",
   "name": "python3"
  },
  "language_info": {
   "codemirror_mode": {
    "name": "ipython",
    "version": 3
   },
   "file_extension": ".py",
   "mimetype": "text/x-python",
   "name": "python",
   "nbconvert_exporter": "python",
   "pygments_lexer": "ipython3",
   "version": "3.7.2"
  }
 },
 "nbformat": 4,
 "nbformat_minor": 2
}
