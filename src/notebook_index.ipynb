{
 "cells": [
  {
   "cell_type": "markdown",
   "metadata": {},
   "source": [
    "## Contents\n",
    "* Workshops\n",
    "    * [Flash Unit Model](workshops/Flash%20Unit%20Model/Flash_Unit_Solution.ipynb)\n",
    "    * [HDA Flowsheet Optimization](workshops/HDA%20Flowsheet%20Optimization/HDA_Flowsheet_Solution.ipynb)\n",
    "    * [Introduction to Python and Pyomo](workshops/Introduction_Short_Solution.ipynb)\n",
    "* Tutorials\n",
    "    * Unit Models\n",
    "        * [Heater Unit Model with Ideal Property Package](tutorials/unit_models/heater_tutorial.ipynb) \n",
    "    *  Advanced\n",
    "        * Custom model development\n",
    "        * Data reconciliation and parameter estimation\n",
    "            * [Data Parameter Estimation for a Single Unit - Economizer](tutorials/advanced/data_recon_and_parameter_estimation/econ_parmest_testing.ipynb)\n",
    "            * [Data Reconciliation for a Single Unit - Economizer](tutorials/advanced/data_recon_and_parameter_estimation/econ_recon_testing.ipynb)\n",
    "* Surrogate Modeling\n",
    "    * ALAMO\n",
    "    * HELMET\n",
    "    * PySMO\n",
    "    * RIPE\n",
    "\n",
    "* MatOpt"
   ]
  },
  {
   "cell_type": "markdown",
   "metadata": {},
   "source": [
    "## See also\n",
    "* [Examples documentation](https://examples-pse.readthedocs.io/en/stable/)\n",
    "* [IDAES-PSE documentation](https://idaes-pse.readthedocs.io/en/stable/index.html)\n",
    "* [IDAES home page](https://www.idaes.org)\n"
   ]
  }
 ],
 "metadata": {
  "kernelspec": {
   "display_name": "Python 3",
   "language": "python",
   "name": "python3"
  },
  "language_info": {
   "codemirror_mode": {
    "name": "ipython",
    "version": 3
   },
   "file_extension": ".py",
   "mimetype": "text/x-python",
   "name": "python",
   "nbconvert_exporter": "python",
   "pygments_lexer": "ipython3",
   "version": "3.8.3"
  }
 },
 "nbformat": 4,
 "nbformat_minor": 2
}
