{
 "cells": [
  {
   "cell_type": "markdown",
   "metadata": {},
   "source": [
    "## Overview\n",
    "\n",
    "This notebook is based on a workshop tutorial originally given at FOCAPD in 2019.\n",
    "It demonstrated the following capabilities:\n",
    "\n",
    "- Construct a steady-state flowsheet using the IDAES unit model library\n",
    "- Connecting unit models in a  flowsheet using Arcs\n",
    "- Using the SequentialDecomposition tool to initialize a flowsheet with recycle\n",
    "- Fomulate and solve an optimization problem\n",
    "    - Defining an objective function\n",
    "    - Setting variable bounds\n",
    "    - Adding additional constraints \n",
    "\n",
    "Changes were made to use the notebook to demonstrate use of the IDAES Data Management Framework (DMF):\n",
    "- The underlying Python modules were adapted to use the DMF for loading property data\n",
    "- The optimization problem was removed to shorten the example"
   ]
  },
  {
   "cell_type": "markdown",
   "metadata": {},
   "source": [
    "## Problem Statement\n",
    "\n",
    "Hydrodealkylation is a chemical reaction that often involves reacting\n",
    "an aromatic hydrocarbon in the presence of hydrogen gas to form a\n",
    "simpler aromatic hydrocarbon devoid of functional groups,. In this\n",
    "example, toluene will be reacted with hydrogen gas at high temperatures\n",
    " to form benzene via the following reaction:\n",
    "\n",
    "**C<sub>6</sub>H<sub>5</sub>CH<sub>3</sub> + H<sub>2</sub> → C<sub>6</sub>H<sub>6</sub> + CH<sub>4</sub>**\n",
    "\n",
    "\n",
    "This reaction is often accompanied by an equilibrium side reaction\n",
    "which forms diphenyl, which we will neglect for this example.\n",
    "\n",
    "This example is based on the 1967 AIChE Student Contest problem as\n",
    "present by Douglas, J.M., Chemical  Design of Chemical Processes, 1988,\n",
    "McGraw-Hill.\n",
    "\n",
    "The flowsheet that we will be using for this module is shown below with the stream conditions. We will be processing toluene and hydrogen to produce at least 370 TPY of benzene. As shown in the flowsheet, there are two flash tanks, F101 to separate out the non-condensibles and F102 to further separate the benzene-toluene mixture to improve the benzene purity.  Note that typically a distillation column is required to obtain high purity benzene but that is beyond the scope of this workshop. The non-condensibles separated out in F101 will be partially recycled back to M101 and the rest will be either purged or combusted for power generation.We will assume ideal gas for this flowsheet. The properties required for this module are available in the same directory:\n",
    "\n",
    "- hda_ideal_VLE.py\n",
    "- hda_reaction.py\n",
    "\n",
    "The state variables chosen for the property package are **flows of component by phase, temperature and pressure**. The components considered are: **toluene, hydrogen, benzene and methane**. Therefore, every stream has 8 flow variables, 1 temperature and 1 pressure variable. \n",
    "\n",
    "### Data Management Framework\n",
    "\n",
    "In this version of the example, the DMF \"workspace\" is used to store these state variables. This involves the use of additional files:\n",
    "\n",
    "- config.yaml - DMF Configuration\n",
    "- resourcedb.json - The DMF's file-based datastore, where the values and their provenance are stored.\n"
   ]
  },
  {
   "cell_type": "markdown",
   "metadata": {},
   "source": [
    "![](module_2_flowsheet.png)"
   ]
  },
  {
   "cell_type": "markdown",
   "metadata": {},
   "source": [
    "Importing required pyomo and idaes components\n",
    "-----------\n",
    "To construct a flowsheet, we will need several components from the pyomo and idaes package. Let us first import the following components from Pyomo:\n",
    "- Constraint (to write constraints)\n",
    "- Var (to declare variables)\n",
    "- ConcreteModel (to create the concrete model object)\n",
    "- Expression (to evaluate values as a function of variables defined in the model)\n",
    "- Objective (to define an objective function for optimization)\n",
    "- SolverFactory (to solve the problem)\n",
    "- TransformationFactory (to apply certain transformations)\n",
    "- Arc (to connect two unit models)\n",
    "- SequentialDecomposition (to initialize the flowsheet in a sequential mode)\n",
    "\n",
    "For further details on these components, please refer to the pyomo documentation: https://pyomo.readthedocs.io/en/latest/\n"
   ]
  },
  {
   "cell_type": "code",
   "execution_count": 1,
   "metadata": {},
   "outputs": [],
   "source": [
    "from pyomo.environ import (Constraint,\n",
    "                           Var,\n",
    "                           ConcreteModel,\n",
    "                           Expression,\n",
    "                           Objective,\n",
    "                           SolverFactory,\n",
    "                           TransformationFactory,\n",
    "                           value)\n",
    "from pyomo.network import Arc, SequentialDecomposition"
   ]
  },
  {
   "cell_type": "markdown",
   "metadata": {},
   "source": [
    "From idaes, we will be needing the FlowsheetBlock and the following unit models:\n",
    "- Mixer\n",
    "- Heater\n",
    "- StoichiometricReactor\n",
    "- <span style=\"color:blue\">**Flash**</span>\n",
    "- Separator (splitter) \n",
    "- PressureChanger"
   ]
  },
  {
   "cell_type": "code",
   "execution_count": 2,
   "metadata": {},
   "outputs": [],
   "source": [
    "from idaes.core import FlowsheetBlock"
   ]
  },
  {
   "cell_type": "code",
   "execution_count": 3,
   "metadata": {},
   "outputs": [],
   "source": [
    "from idaes.unit_models import (PressureChanger,\n",
    "                               Mixer,\n",
    "                               Separator as Splitter,\n",
    "                               Heater,\n",
    "                               StoichiometricReactor)"
   ]
  },
  {
   "cell_type": "markdown",
   "metadata": {},
   "source": [
    "<div class=\"alert alert-block alert-info\">\n",
    "<b>Inline Exercise:</b>\n",
    "Now, import the remaining unit models highlighted in blue above and run the cell using `Shift+Enter` after typing in the code. \n",
    "</div>\n"
   ]
  },
  {
   "cell_type": "code",
   "execution_count": 4,
   "metadata": {},
   "outputs": [],
   "source": [
    "from idaes.unit_models import Flash"
   ]
  },
  {
   "cell_type": "markdown",
   "metadata": {},
   "source": [
    "We will also be needing some utility tools to put together the flowsheet and calculate the degrees of freedom. "
   ]
  },
  {
   "cell_type": "code",
   "execution_count": 5,
   "metadata": {},
   "outputs": [],
   "source": [
    "from idaes.unit_models.pressure_changer import ThermodynamicAssumption\n",
    "from idaes.core.util.model_statistics import degrees_of_freedom"
   ]
  },
  {
   "cell_type": "markdown",
   "metadata": {},
   "source": [
    "Importing required thermo and reaction package\n",
    "-----------\n"
   ]
  },
  {
   "cell_type": "markdown",
   "metadata": {},
   "source": [
    "The final set of imports are to import the thermo and reaction package for the HDA process. We have created a custom thermo package that assumes Ideal Gas with support for VLE. \n",
    "\n",
    "The reaction package here is very simple as we will be using only a StochiometricReactor and the reaction package consists of the stochiometric coefficients for the reaction and the parameter for the heat of reaction. \n",
    "\n",
    "Let us import the following modules and they are in the same directory as this jupyter notebook:\n",
    "      <ul>\n",
    "         <li>hda_ideal_VLE as thermo_props</li>\n",
    "         <li>hda_reaction as reaction_props </li>\n",
    "      </ul>\n",
    "</div>"
   ]
  },
  {
   "cell_type": "code",
   "execution_count": 57,
   "metadata": {},
   "outputs": [],
   "source": [
    "import hda_ideal_VLE as thermo_props\n",
    "import hda_reaction as reaction_props"
   ]
  },
  {
   "cell_type": "markdown",
   "metadata": {},
   "source": [
    "Constructing the Flowsheet\n",
    "----------------------------------\n",
    "\n",
    "We have now imported all the components, unit models, and property modules we need to construct a flowsheet. Let us create a ConcreteModel and add the flowsheet block as we did in module 1. "
   ]
  },
  {
   "cell_type": "code",
   "execution_count": 7,
   "metadata": {},
   "outputs": [],
   "source": [
    "m = ConcreteModel()\n",
    "m.fs = FlowsheetBlock(default={\"dynamic\": False})"
   ]
  },
  {
   "cell_type": "markdown",
   "metadata": {},
   "source": [
    "We now need to add the property packages to the flowsheet. Unlike Module 1, where we only had a thermo property package, for this flowsheet we will also need to add a reaction property package. "
   ]
  },
  {
   "cell_type": "code",
   "execution_count": 8,
   "metadata": {},
   "outputs": [],
   "source": [
    "m.fs.thermo_params = thermo_props.HDAParameterBlock()\n",
    "m.fs.reaction_params = reaction_props.HDAReactionParameterBlock(\n",
    "        default={\"property_package\": m.fs.thermo_params})"
   ]
  },
  {
   "cell_type": "markdown",
   "metadata": {},
   "source": [
    "## Viewing imported properties with the DMF"
   ]
  },
  {
   "cell_type": "markdown",
   "metadata": {},
   "source": [
    "Since the property package above used the DMF to load the constant values used for calculating property values, we can look at the provenance and data programmatically."
   ]
  },
  {
   "cell_type": "code",
   "execution_count": 9,
   "metadata": {},
   "outputs": [
    {
     "name": "stdout",
     "output_type": "stream",
     "text": [
      "Property dh_vap source: Reid, R. C., Prausnitz, J. M., & Poling, B. E. (1987). The properties of gases and liquids. ISBN: 9780070517998 Date: 1987\n",
      "Property dh_vap data:\n"
     ]
    },
    {
     "data": {
      "text/html": [
       "<div>\n",
       "<style scoped>\n",
       "    .dataframe tbody tr th:only-of-type {\n",
       "        vertical-align: middle;\n",
       "    }\n",
       "\n",
       "    .dataframe tbody tr th {\n",
       "        vertical-align: top;\n",
       "    }\n",
       "\n",
       "    .dataframe thead th {\n",
       "        text-align: right;\n",
       "    }\n",
       "</style>\n",
       "<table border=\"1\" class=\"dataframe\">\n",
       "  <thead>\n",
       "    <tr style=\"text-align: right;\">\n",
       "      <th></th>\n",
       "      <th>compound</th>\n",
       "      <th>value</th>\n",
       "    </tr>\n",
       "  </thead>\n",
       "  <tbody>\n",
       "    <tr>\n",
       "      <th>0</th>\n",
       "      <td>benzene</td>\n",
       "      <td>33870.0</td>\n",
       "    </tr>\n",
       "    <tr>\n",
       "      <th>1</th>\n",
       "      <td>toluene</td>\n",
       "      <td>38262.0</td>\n",
       "    </tr>\n",
       "    <tr>\n",
       "      <th>2</th>\n",
       "      <td>hydrogen</td>\n",
       "      <td>0.0</td>\n",
       "    </tr>\n",
       "    <tr>\n",
       "      <th>3</th>\n",
       "      <td>methane</td>\n",
       "      <td>0.0</td>\n",
       "    </tr>\n",
       "    <tr>\n",
       "      <th>4</th>\n",
       "      <td>diphenyl</td>\n",
       "      <td>62710.0</td>\n",
       "    </tr>\n",
       "  </tbody>\n",
       "</table>\n",
       "</div>"
      ],
      "text/plain": [
       "   compound    value\n",
       "0   benzene  33870.0\n",
       "1   toluene  38262.0\n",
       "2  hydrogen      0.0\n",
       "3   methane      0.0\n",
       "4  diphenyl  62710.0"
      ]
     },
     "execution_count": 9,
     "metadata": {},
     "output_type": "execute_result"
    }
   ],
   "source": [
    "from idaes.dmf.resource import TidyUnitData as TDU\n",
    "prop_name = 'dh_vap'\n",
    "rsrc = m.fs.thermo_params.get_property_resource(prop_name)\n",
    "print(f\"Property {prop_name} source: {rsrc.formatted_source()}\")\n",
    "print(f\"Property {prop_name} data:\")\n",
    "TDU(rsrc.data).table"
   ]
  },
  {
   "cell_type": "markdown",
   "metadata": {},
   "source": [
    "Adding Unit Models\n",
    "-----\n",
    "\n",
    "Let us start adding the unit models we have imported to the flowsheet. Here, we are adding the Mixer (assigned a name M101) and a Heater (assigned a name H101). Note that, all unit models need to be given a property package argument. In addition to that, there are several arguments depending on the unit model, please refer to the documentation for more details (https://idaes-pse.readthedocs.io/en/latest/models/index.html). For example, the Mixer unit model here is given a `list` consisting of names to the three inlets. "
   ]
  },
  {
   "cell_type": "code",
   "execution_count": 10,
   "metadata": {},
   "outputs": [],
   "source": [
    "m.fs.M101 = Mixer(default={\"property_package\": m.fs.thermo_params,\n",
    "                           \"inlet_list\": [\"toluene_feed\", \"hydrogen_feed\", \"vapor_recycle\"]})\n",
    "\n",
    "m.fs.H101 = Heater(default={\"property_package\": m.fs.thermo_params,\n",
    "                            \"has_pressure_change\": False,\n",
    "                            \"has_phase_equilibrium\": True})"
   ]
  },
  {
   "cell_type": "markdown",
   "metadata": {},
   "source": [
    "<div class=\"alert alert-block alert-info\">\n",
    "<b>Inline Exercise:</b>\n",
    "Let us now add the StoichiometricReactor(assign the name R101) and pass the following arguments:\n",
    "      <ul>\n",
    "         <li>\"property_package\": m.fs.thermo_params</li>\n",
    "         <li>\"reaction_package\": m.fs.reaction_params </li>\n",
    "         <li>\"has_heat_of_reaction\": True </li>\n",
    "         <li>\"has_heat_transfer\": True</li>\n",
    "         <li>\"has_pressure_change\": False</li>\n",
    "      </ul>\n",
    "</div>"
   ]
  },
  {
   "cell_type": "code",
   "execution_count": 11,
   "metadata": {},
   "outputs": [],
   "source": [
    "m.fs.R101 = StoichiometricReactor(\n",
    "            default={\"property_package\": m.fs.thermo_params,\n",
    "                     \"reaction_package\": m.fs.reaction_params,\n",
    "                     \"has_heat_of_reaction\": True,\n",
    "                     \"has_heat_transfer\": True,\n",
    "                     \"has_pressure_change\": False})"
   ]
  },
  {
   "cell_type": "markdown",
   "metadata": {},
   "source": [
    "Let us now add the Flash(assign the name F101) and pass the following arguments:\n",
    "      <ul>\n",
    "         <li>\"property_package\": m.fs.thermo_params</li>\n",
    "         <li>\"has_heat_transfer\": True</li>\n",
    "         <li>\"has_pressure_change\": False</li>\n",
    "      </ul>"
   ]
  },
  {
   "cell_type": "code",
   "execution_count": 12,
   "metadata": {},
   "outputs": [],
   "source": [
    "m.fs.F101 = Flash(default={\"property_package\": m.fs.thermo_params,\n",
    "                               \"has_heat_transfer\": True,\n",
    "                               \"has_pressure_change\": True})"
   ]
  },
  {
   "cell_type": "markdown",
   "metadata": {},
   "source": [
    "Let us now add the Splitter(S101), PressureChanger(C101) and the second Flash(F102). "
   ]
  },
  {
   "cell_type": "code",
   "execution_count": 13,
   "metadata": {},
   "outputs": [],
   "source": [
    "m.fs.S101 = Splitter(default={\"property_package\": m.fs.thermo_params,\n",
    "                               \"ideal_separation\": False,\n",
    "                               \"outlet_list\": [\"purge\", \"recycle\"]})\n",
    "    \n",
    "\n",
    "m.fs.C101 = PressureChanger(default={\n",
    "            \"property_package\": m.fs.thermo_params,\n",
    "            \"compressor\": True,\n",
    "            \"thermodynamic_assumption\": ThermodynamicAssumption.isothermal})\n",
    "    \n",
    "m.fs.F102 = Flash(default={\"property_package\": m.fs.thermo_params,\n",
    "                           \"has_heat_transfer\": True,\n",
    "                           \"has_pressure_change\": True})"
   ]
  },
  {
   "cell_type": "markdown",
   "metadata": {},
   "source": [
    "Connecting Unit Models using Arcs\n",
    "-----\n",
    "We have now added all the unit models we need to the flowsheet. However, we have not yet specifed how the units are to be connected. To do this, we will be using the `Arc` which is a pyomo component that takes in two arguments: `source` and `destination`. Let us connect the outlet of the mixer(M101) to the inlet of the heater(H101). "
   ]
  },
  {
   "cell_type": "code",
   "execution_count": 14,
   "metadata": {},
   "outputs": [],
   "source": [
    "m.fs.s03 = Arc(source=m.fs.M101.outlet, destination=m.fs.H101.inlet)"
   ]
  },
  {
   "cell_type": "markdown",
   "metadata": {},
   "source": [
    "\n",
    "![](module_2_flowsheet.png) \n",
    "\n",
    "<div class=\"alert alert-block alert-info\">\n",
    "<b>Inline Exercise:</b>\n",
    "Now, connect the H101 outlet to the R101 inlet using the cell above as a guide. \n",
    "</div>\n",
    "\n"
   ]
  },
  {
   "cell_type": "code",
   "execution_count": 15,
   "metadata": {},
   "outputs": [],
   "source": [
    "m.fs.s04 = Arc(source=m.fs.H101.outlet, destination=m.fs.R101.inlet)"
   ]
  },
  {
   "cell_type": "markdown",
   "metadata": {},
   "source": [
    "We will now be connecting the rest of the flowsheet as shown below. Notice how the outlet names are different for the flash tanks F101 and F102 as they have a vapor and a liquid outlet. "
   ]
  },
  {
   "cell_type": "code",
   "execution_count": 16,
   "metadata": {},
   "outputs": [],
   "source": [
    "m.fs.s05 = Arc(source=m.fs.R101.outlet, destination=m.fs.F101.inlet)\n",
    "m.fs.s06 = Arc(source=m.fs.F101.vap_outlet, destination=m.fs.S101.inlet)\n",
    "m.fs.s08 = Arc(source=m.fs.S101.recycle, destination=m.fs.C101.inlet)\n",
    "m.fs.s09 = Arc(source=m.fs.C101.outlet,\n",
    "               destination=m.fs.M101.vapor_recycle)\n",
    "m.fs.s10 = Arc(source=m.fs.F101.liq_outlet, destination=m.fs.F102.inlet)"
   ]
  },
  {
   "cell_type": "markdown",
   "metadata": {},
   "source": [
    "We have now connected the unit model block using the arcs. However, each of these arcs link to ports on the two unit models that are connected. In this case, the ports consist of the state variables that need to be linked between the unit models. Pyomo provides a convenient method to write these equality constraints for us between two ports and this is done as follows:"
   ]
  },
  {
   "cell_type": "code",
   "execution_count": 17,
   "metadata": {},
   "outputs": [],
   "source": [
    "TransformationFactory(\"network.expand_arcs\").apply_to(m)"
   ]
  },
  {
   "cell_type": "markdown",
   "metadata": {},
   "source": [
    "Adding expressions to compute purity and operating costs\n",
    "---\n",
    "In this section, we will add a few Expressions that allows us to evaluate the performance. Expressions provide a convenient way of calculating certain values that are a function of the variables defined in the model. For more details on Expressions, please refer to: https://pyomo.readthedocs.io/en/latest/pyomo_modeling_components/Expressions.html\n",
    "\n",
    "For this flowsheet, we are interested in computing the purity of the product Benzene stream (i.e. the mole fraction) and the operating cost which is a sum of the cooling and heating cost. "
   ]
  },
  {
   "cell_type": "markdown",
   "metadata": {},
   "source": [
    "Let us first add an Expression to compute the mole fraction of benzene in the `vap_outlet` of F102 which is our product stream. Please note that the var flow_mol_phase_comp has the index - [time, phase, component]. As this is a steady-state flowsheet, the time index by default is 0. The valid phases are [\"Liq\", \"Vap\"]. Similarly the valid component list is [\"benzene\", \"toluene\", \"hydrogen\", \"methane\"]."
   ]
  },
  {
   "cell_type": "code",
   "execution_count": 18,
   "metadata": {},
   "outputs": [],
   "source": [
    "m.fs.purity = Expression(\n",
    "        expr=m.fs.F102.vap_outlet.flow_mol_phase_comp[0, \"Vap\", \"benzene\"] /\n",
    "        (m.fs.F102.vap_outlet.flow_mol_phase_comp[0, \"Vap\", \"benzene\"]\n",
    "         + m.fs.F102.vap_outlet.flow_mol_phase_comp[0, \"Vap\", \"toluene\"]))"
   ]
  },
  {
   "cell_type": "markdown",
   "metadata": {},
   "source": [
    "Now, let us add an expression to compute the cooling cost assuming a cost of 0.212E-4 $/kW. Note that cooling utility is required for the reactor (R101) and the first flash (F101). "
   ]
  },
  {
   "cell_type": "code",
   "execution_count": 19,
   "metadata": {},
   "outputs": [],
   "source": [
    "m.fs.cooling_cost = Expression(expr=0.212e-7 * (-m.fs.F101.heat_duty[0]) +\n",
    "                                   0.212e-7 * (-m.fs.R101.heat_duty[0]))"
   ]
  },
  {
   "cell_type": "markdown",
   "metadata": {},
   "source": [
    "\n",
    "Now, let us add an expression to compute the heating cost assuming the utility cost as follows:\n",
    "      <ul>\n",
    "         <li>2.2E-4 dollars/kW for H101</li>\n",
    "         <li>1.9E-4 dollars/kW for F102</li>\n",
    "      </ul>\n",
    "Note that the heat duty is in units of watt (J/s). "
   ]
  },
  {
   "cell_type": "code",
   "execution_count": 20,
   "metadata": {},
   "outputs": [],
   "source": [
    "m.fs.heating_cost = Expression(expr=2.2e-7 * m.fs.H101.heat_duty[0] +\n",
    "                                   1.9e-7 * m.fs.F102.heat_duty[0])"
   ]
  },
  {
   "cell_type": "markdown",
   "metadata": {},
   "source": [
    "Let us now add an expression to compute the total operating cost per year which is basically the sum of the cooling and heating cost we defined above. "
   ]
  },
  {
   "cell_type": "code",
   "execution_count": 21,
   "metadata": {},
   "outputs": [],
   "source": [
    "m.fs.operating_cost = Expression(expr=(3600 * 24 * 365 *\n",
    "                                           (m.fs.heating_cost +\n",
    "                                            m.fs.cooling_cost)))"
   ]
  },
  {
   "cell_type": "markdown",
   "metadata": {},
   "source": [
    "Fixing feed conditions\n",
    "---\n",
    "\n",
    "Let us first check how many degrees of freedom exist for this flowsheet using the `degrees_of_freedom` tool we imported earlier. "
   ]
  },
  {
   "cell_type": "code",
   "execution_count": 22,
   "metadata": {},
   "outputs": [
    {
     "name": "stdout",
     "output_type": "stream",
     "text": [
      "29\n"
     ]
    }
   ],
   "source": [
    "print(degrees_of_freedom(m))"
   ]
  },
  {
   "cell_type": "markdown",
   "metadata": {},
   "source": [
    "We will now be fixing the toluene feed stream to the conditions shown in the flowsheet above. Please note that though this is a pure toluene feed, the remaining components are still assigned a very small non-zero value to help with convergence and initializing. "
   ]
  },
  {
   "cell_type": "code",
   "execution_count": 23,
   "metadata": {},
   "outputs": [],
   "source": [
    "m.fs.M101.toluene_feed.flow_mol_phase_comp[0, \"Vap\", \"benzene\"].fix(1e-5)\n",
    "m.fs.M101.toluene_feed.flow_mol_phase_comp[0, \"Vap\", \"toluene\"].fix(1e-5)\n",
    "m.fs.M101.toluene_feed.flow_mol_phase_comp[0, \"Vap\", \"hydrogen\"].fix(1e-5)\n",
    "m.fs.M101.toluene_feed.flow_mol_phase_comp[0, \"Vap\", \"methane\"].fix(1e-5)\n",
    "m.fs.M101.toluene_feed.flow_mol_phase_comp[0, \"Liq\", \"benzene\"].fix(1e-5)\n",
    "m.fs.M101.toluene_feed.flow_mol_phase_comp[0, \"Liq\", \"toluene\"].fix(0.30)\n",
    "m.fs.M101.toluene_feed.flow_mol_phase_comp[0, \"Liq\", \"hydrogen\"].fix(1e-5)\n",
    "m.fs.M101.toluene_feed.flow_mol_phase_comp[0, \"Liq\", \"methane\"].fix(1e-5)\n",
    "m.fs.M101.toluene_feed.temperature.fix(303.2)\n",
    "m.fs.M101.toluene_feed.pressure.fix(350000)"
   ]
  },
  {
   "cell_type": "markdown",
   "metadata": {},
   "source": [
    "\n",
    "Similarly, let us fix the hydrogen feed to the following conditions in the next cell:\n",
    "      <ul>\n",
    "         <li>F<sub>H2</sub> = 0.30 mol/s</li>\n",
    "         <li>F<sub>CH4</sub> = 0.02 mol/s</li>\n",
    "         <li>Remaining components = 1e-5 mol/s</li>\n",
    "         <li>T = 303.2 K</li>\n",
    "         <li>P = 350000 Pa</li>\n",
    "      </ul>\n",
    "\n"
   ]
  },
  {
   "cell_type": "code",
   "execution_count": 24,
   "metadata": {},
   "outputs": [],
   "source": [
    "m.fs.M101.hydrogen_feed.flow_mol_phase_comp[0, \"Vap\", \"benzene\"].fix(1e-5)\n",
    "m.fs.M101.hydrogen_feed.flow_mol_phase_comp[0, \"Vap\", \"toluene\"].fix(1e-5)\n",
    "m.fs.M101.hydrogen_feed.flow_mol_phase_comp[0, \"Vap\", \"hydrogen\"].fix(0.30)\n",
    "m.fs.M101.hydrogen_feed.flow_mol_phase_comp[0, \"Vap\", \"methane\"].fix(0.02)\n",
    "m.fs.M101.hydrogen_feed.flow_mol_phase_comp[0, \"Liq\", \"benzene\"].fix(1e-5)\n",
    "m.fs.M101.hydrogen_feed.flow_mol_phase_comp[0, \"Liq\", \"toluene\"].fix(1e-5)\n",
    "m.fs.M101.hydrogen_feed.flow_mol_phase_comp[0, \"Liq\", \"hydrogen\"].fix(1e-5)\n",
    "m.fs.M101.hydrogen_feed.flow_mol_phase_comp[0, \"Liq\", \"methane\"].fix(1e-5)\n",
    "m.fs.M101.hydrogen_feed.temperature.fix(303.2)\n",
    "m.fs.M101.hydrogen_feed.pressure.fix(350000)"
   ]
  },
  {
   "cell_type": "markdown",
   "metadata": {},
   "source": [
    "Fixing unit model specifications\n",
    "---\n",
    "\n",
    "Now that we have fixed our inlet feed conditions, we will now be fixing the operating conditions for the unit models in the flowsheet. Let us set set the H101 outlet temperature to 600 K. "
   ]
  },
  {
   "cell_type": "code",
   "execution_count": 25,
   "metadata": {},
   "outputs": [],
   "source": [
    "m.fs.H101.outlet.temperature.fix(600)"
   ]
  },
  {
   "cell_type": "markdown",
   "metadata": {},
   "source": [
    "For the StoichiometricReactor, we have to define the conversion in terms of toluene. This requires us to create a new variable for specifying the conversion and adding a Constraint that defines the conversion with respect to toluene. The second degree of freedom for the reactor is to define the heat duty. In this case, let us assume the reactor to be adiabatic i.e. Q = 0. "
   ]
  },
  {
   "cell_type": "code",
   "execution_count": 26,
   "metadata": {},
   "outputs": [],
   "source": [
    "m.fs.R101.conversion = Var(initialize=0.75, bounds=(0, 1))\n",
    "\n",
    "m.fs.R101.conv_constraint = Constraint(\n",
    "    expr=m.fs.R101.conversion*m.fs.R101.inlet.\n",
    "    flow_mol_phase_comp[0, \"Vap\", \"toluene\"] ==\n",
    "    (m.fs.R101.inlet.flow_mol_phase_comp[0, \"Vap\", \"toluene\"] -\n",
    "     m.fs.R101.outlet.flow_mol_phase_comp[0, \"Vap\", \"toluene\"]))\n",
    "\n",
    "m.fs.R101.conversion.fix(0.75)\n",
    "m.fs.R101.heat_duty.fix(0)"
   ]
  },
  {
   "cell_type": "markdown",
   "metadata": {},
   "source": [
    "The Flash conditions for F101 can be set as follows. "
   ]
  },
  {
   "cell_type": "code",
   "execution_count": 27,
   "metadata": {},
   "outputs": [],
   "source": [
    "m.fs.F101.vap_outlet.temperature.fix(325.0)\n",
    "m.fs.F101.deltaP.fix(0)"
   ]
  },
  {
   "cell_type": "markdown",
   "metadata": {},
   "source": [
    "<div class=\"alert alert-block alert-info\">\n",
    "<b>Inline Exercise:</b>\n",
    "Set the conditions for Flash F102 to the following conditions:\n",
    "      <ul>\n",
    "         <li>T = 375 K</li>\n",
    "         <li>deltaP = -200000</li>\n",
    "      </ul>\n",
    "\n",
    "Use Shift+Enter to run the cell once you have typed in your code. \n",
    "</div>"
   ]
  },
  {
   "cell_type": "code",
   "execution_count": 28,
   "metadata": {},
   "outputs": [],
   "source": [
    "m.fs.F102.vap_outlet.temperature.fix(375)\n",
    "m.fs.F102.deltaP.fix(-200000)"
   ]
  },
  {
   "cell_type": "markdown",
   "metadata": {},
   "source": [
    "Let us fix the purge split fraction to 20% and the outlet pressure of the compressor is set to 350000 Pa. "
   ]
  },
  {
   "cell_type": "code",
   "execution_count": 29,
   "metadata": {},
   "outputs": [],
   "source": [
    "m.fs.S101.split_fraction[0, \"purge\"].fix(0.2)\n",
    "m.fs.C101.outlet.pressure.fix(350000)"
   ]
  },
  {
   "cell_type": "markdown",
   "metadata": {},
   "source": [
    "<div class=\"alert alert-block alert-info\">\n",
    "<b>Inline Exercise:</b>\n",
    "We have now defined all the feed conditions and the inputs required for the unit models. The system should now have 0 degrees of freedom i.e. should be a square problem. Please check that the degrees of freedom is 0. \n",
    "\n",
    "Use Shift+Enter to run the cell once you have typed in your code. \n",
    "</div>"
   ]
  },
  {
   "cell_type": "code",
   "execution_count": 30,
   "metadata": {},
   "outputs": [
    {
     "name": "stdout",
     "output_type": "stream",
     "text": [
      "0\n"
     ]
    }
   ],
   "source": [
    "print(degrees_of_freedom(m))"
   ]
  },
  {
   "cell_type": "markdown",
   "metadata": {},
   "source": [
    "Initialization\n",
    "------------------\n",
    "\n",
    "This section will demonstrate how to use the built-in sequential decomposition tool to initialize our flowsheet.\n",
    "\n",
    "![](module_2_flowsheet.png) \n"
   ]
  },
  {
   "cell_type": "markdown",
   "metadata": {},
   "source": [
    "Let us first create an object for the SequentialDecomposition and specify our options for this. "
   ]
  },
  {
   "cell_type": "code",
   "execution_count": 31,
   "metadata": {},
   "outputs": [],
   "source": [
    "seq = SequentialDecomposition()\n",
    "seq.options.select_tear_method = \"heuristic\"\n",
    "seq.options.tear_method = \"Wegstein\"\n",
    "seq.options.iterLim = 5\n",
    "\n",
    "# Using the SD tool\n",
    "G = seq.create_graph(m)\n",
    "heuristic_tear_set = seq.tear_set_arcs(G, method=\"heuristic\")\n",
    "order = seq.calculation_order(G)"
   ]
  },
  {
   "cell_type": "markdown",
   "metadata": {},
   "source": [
    "Which is the tear stream? Display tear set and order"
   ]
  },
  {
   "cell_type": "code",
   "execution_count": 32,
   "metadata": {},
   "outputs": [
    {
     "name": "stdout",
     "output_type": "stream",
     "text": [
      "fs.s03\n"
     ]
    }
   ],
   "source": [
    "for o in heuristic_tear_set:\n",
    "    print(o.name)"
   ]
  },
  {
   "cell_type": "markdown",
   "metadata": {},
   "source": [
    "What sequence did the SD tool determine to solve this flowsheet with the least number of tears? "
   ]
  },
  {
   "cell_type": "code",
   "execution_count": 33,
   "metadata": {
    "scrolled": true
   },
   "outputs": [
    {
     "name": "stdout",
     "output_type": "stream",
     "text": [
      "fs.H101\n",
      "fs.R101\n",
      "fs.F101\n",
      "fs.S101\n",
      "fs.C101\n",
      "fs.M101\n"
     ]
    }
   ],
   "source": [
    "for o in order:\n",
    "    print(o[0].name)"
   ]
  },
  {
   "cell_type": "markdown",
   "metadata": {},
   "source": [
    " \n",
    "\n",
    "![](module_2_tear_stream.png) \n",
    "\n",
    "\n",
    "The SequentialDecomposition tool has determined that the tear stream is the mixer outlet. We will need to provide a reasonable guess for this."
   ]
  },
  {
   "cell_type": "code",
   "execution_count": 34,
   "metadata": {},
   "outputs": [],
   "source": [
    "tear_guesses = {\n",
    "        \"flow_mol_phase_comp\": {\n",
    "                (0, \"Vap\", \"benzene\"): 1e-5,\n",
    "                (0, \"Vap\", \"toluene\"): 1e-5,\n",
    "                (0, \"Vap\", \"hydrogen\"): 0.30,\n",
    "                (0, \"Vap\", \"methane\"): 0.02,\n",
    "                (0, \"Liq\", \"benzene\"): 1e-5,\n",
    "                (0, \"Liq\", \"toluene\"): 0.30,\n",
    "                (0, \"Liq\", \"hydrogen\"): 1e-5,\n",
    "                (0, \"Liq\", \"methane\"): 1e-5},\n",
    "        \"temperature\": {0: 303},\n",
    "        \"pressure\": {0: 350000}}\n",
    "\n",
    "# Pass the tear_guess to the SD tool\n",
    "seq.set_guesses_for(m.fs.H101.inlet, tear_guesses)"
   ]
  },
  {
   "cell_type": "markdown",
   "metadata": {},
   "source": [
    "Next, we need to tell the tool how to initialize a particular unit. We will be writing a python function which takes in a \"unit\" and calls the initialize method on that unit. "
   ]
  },
  {
   "cell_type": "code",
   "execution_count": 35,
   "metadata": {},
   "outputs": [],
   "source": [
    "def function(unit):\n",
    "        unit.initialize(outlvl=1)"
   ]
  },
  {
   "cell_type": "markdown",
   "metadata": {},
   "source": [
    "We are now ready to initialize our flowsheet in a sequential mode. Note that we specifically set the iteration limit to be 5 as we are trying to use this tool only to get a good set of initial values such that IPOPT can then take over and solve this flowsheet for us. "
   ]
  },
  {
   "cell_type": "code",
   "execution_count": 36,
   "metadata": {},
   "outputs": [
    {
     "name": "stdout",
     "output_type": "stream",
     "text": [
      "2019-08-22 14:04:26 - INFO - idaes.core.unit_model - fs.H101 Initialisation Step 1 Complete.\n",
      "2019-08-22 14:04:26 - INFO - idaes.core.unit_model - fs.H101 Initialisation Step 2 Complete.\n",
      "2019-08-22 14:04:26 - INFO - idaes.core.unit_model - fs.H101 Initialisation Complete.\n",
      "2019-08-22 14:04:26 - INFO - idaes.core.unit_model - fs.R101 Initialisation Step 1 Complete.\n",
      "2019-08-22 14:04:26 - INFO - idaes.core.unit_model - fs.R101 Initialisation Step 2 Complete.\n",
      "2019-08-22 14:04:26 - INFO - idaes.core.unit_model - fs.R101 Initialisation Complete.\n",
      "2019-08-22 14:04:26 - INFO - idaes.core.unit_model - fs.F101 Initialisation Step 1 Complete.\n",
      "2019-08-22 14:04:26 - INFO - idaes.core.unit_model - fs.F101 Initialisation Step 2 Complete.\n",
      "2019-08-22 14:04:26 - INFO - idaes.core.unit_model - fs.F101 Initialisation Complete.\n",
      "2019-08-22 14:04:26 - INFO - idaes.unit_models.separator - fs.S101 Initialisation Complete.\n",
      "2019-08-22 14:04:27 - INFO - idaes.core.unit_model - fs.F102 Initialisation Step 1 Complete.\n",
      "2019-08-22 14:04:27 - INFO - idaes.core.unit_model - fs.F102 Initialisation Step 2 Complete.\n",
      "2019-08-22 14:04:27 - INFO - idaes.core.unit_model - fs.F102 Initialisation Complete.\n",
      "2019-08-22 14:04:27 - INFO - idaes.core.unit_model - fs.C101 Initialisation Step 1 Complete.\n",
      "2019-08-22 14:04:27 - INFO - idaes.core.unit_model - fs.C101 Initialisation Step 2 Complete.\n",
      "2019-08-22 14:04:27 - INFO - idaes.core.unit_model - fs.C101 Initialisation Complete.\n",
      "2019-08-22 14:04:27 - INFO - idaes.unit_models.mixer - fs.M101 Initialisation Complete.\n",
      "2019-08-22 14:04:27 - INFO - idaes.core.unit_model - fs.H101 Initialisation Step 1 Complete.\n",
      "2019-08-22 14:04:27 - INFO - idaes.core.unit_model - fs.H101 Initialisation Step 2 Complete.\n",
      "2019-08-22 14:04:27 - INFO - idaes.core.unit_model - fs.H101 Initialisation Complete.\n",
      "2019-08-22 14:04:27 - INFO - idaes.core.unit_model - fs.R101 Initialisation Step 1 Complete.\n",
      "2019-08-22 14:04:27 - INFO - idaes.core.unit_model - fs.R101 Initialisation Step 2 Complete.\n",
      "2019-08-22 14:04:27 - INFO - idaes.core.unit_model - fs.R101 Initialisation Complete.\n",
      "2019-08-22 14:04:27 - INFO - idaes.core.unit_model - fs.F101 Initialisation Step 1 Complete.\n",
      "2019-08-22 14:04:27 - INFO - idaes.core.unit_model - fs.F101 Initialisation Step 2 Complete.\n",
      "2019-08-22 14:04:27 - INFO - idaes.core.unit_model - fs.F101 Initialisation Complete.\n",
      "2019-08-22 14:04:27 - INFO - idaes.unit_models.separator - fs.S101 Initialisation Complete.\n",
      "2019-08-22 14:04:27 - INFO - idaes.core.unit_model - fs.C101 Initialisation Step 1 Complete.\n",
      "2019-08-22 14:04:27 - INFO - idaes.core.unit_model - fs.C101 Initialisation Step 2 Complete.\n",
      "2019-08-22 14:04:27 - INFO - idaes.core.unit_model - fs.C101 Initialisation Complete.\n",
      "2019-08-22 14:04:27 - INFO - idaes.unit_models.mixer - fs.M101 Initialisation Complete.\n",
      "2019-08-22 14:04:27 - INFO - idaes.core.unit_model - fs.H101 Initialisation Step 1 Complete.\n",
      "2019-08-22 14:04:27 - INFO - idaes.core.unit_model - fs.H101 Initialisation Step 2 Complete.\n",
      "2019-08-22 14:04:27 - INFO - idaes.core.unit_model - fs.H101 Initialisation Complete.\n",
      "2019-08-22 14:04:28 - INFO - idaes.core.unit_model - fs.R101 Initialisation Step 1 Complete.\n",
      "2019-08-22 14:04:28 - INFO - idaes.core.unit_model - fs.R101 Initialisation Step 2 Complete.\n",
      "2019-08-22 14:04:28 - INFO - idaes.core.unit_model - fs.R101 Initialisation Complete.\n",
      "2019-08-22 14:04:28 - INFO - idaes.core.unit_model - fs.F101 Initialisation Step 1 Complete.\n",
      "2019-08-22 14:04:28 - INFO - idaes.core.unit_model - fs.F101 Initialisation Step 2 Complete.\n",
      "2019-08-22 14:04:28 - INFO - idaes.core.unit_model - fs.F101 Initialisation Complete.\n",
      "2019-08-22 14:04:28 - INFO - idaes.unit_models.separator - fs.S101 Initialisation Complete.\n",
      "2019-08-22 14:04:28 - INFO - idaes.core.unit_model - fs.C101 Initialisation Step 1 Complete.\n",
      "2019-08-22 14:04:28 - INFO - idaes.core.unit_model - fs.C101 Initialisation Step 2 Complete.\n",
      "2019-08-22 14:04:28 - INFO - idaes.core.unit_model - fs.C101 Initialisation Complete.\n",
      "2019-08-22 14:04:28 - INFO - idaes.unit_models.mixer - fs.M101 Initialisation Complete.\n",
      "2019-08-22 14:04:28 - INFO - idaes.core.unit_model - fs.H101 Initialisation Step 1 Complete.\n",
      "2019-08-22 14:04:28 - INFO - idaes.core.unit_model - fs.H101 Initialisation Step 2 Complete.\n",
      "2019-08-22 14:04:28 - INFO - idaes.core.unit_model - fs.H101 Initialisation Complete.\n",
      "2019-08-22 14:04:28 - INFO - idaes.core.unit_model - fs.R101 Initialisation Step 1 Complete.\n",
      "2019-08-22 14:04:28 - INFO - idaes.core.unit_model - fs.R101 Initialisation Step 2 Complete.\n",
      "2019-08-22 14:04:28 - INFO - idaes.core.unit_model - fs.R101 Initialisation Complete.\n",
      "2019-08-22 14:04:28 - INFO - idaes.core.unit_model - fs.F101 Initialisation Step 1 Complete.\n",
      "2019-08-22 14:04:28 - INFO - idaes.core.unit_model - fs.F101 Initialisation Step 2 Complete.\n",
      "2019-08-22 14:04:28 - INFO - idaes.core.unit_model - fs.F101 Initialisation Complete.\n",
      "2019-08-22 14:04:28 - INFO - idaes.unit_models.separator - fs.S101 Initialisation Complete.\n",
      "2019-08-22 14:04:28 - INFO - idaes.core.unit_model - fs.C101 Initialisation Step 1 Complete.\n",
      "2019-08-22 14:04:28 - INFO - idaes.core.unit_model - fs.C101 Initialisation Step 2 Complete.\n",
      "2019-08-22 14:04:28 - INFO - idaes.core.unit_model - fs.C101 Initialisation Complete.\n",
      "2019-08-22 14:04:29 - INFO - idaes.unit_models.mixer - fs.M101 Initialisation Complete.\n",
      "2019-08-22 14:04:29 - INFO - idaes.core.unit_model - fs.H101 Initialisation Step 1 Complete.\n",
      "2019-08-22 14:04:29 - INFO - idaes.core.unit_model - fs.H101 Initialisation Step 2 Complete.\n",
      "2019-08-22 14:04:29 - INFO - idaes.core.unit_model - fs.H101 Initialisation Complete.\n",
      "2019-08-22 14:04:29 - INFO - idaes.core.unit_model - fs.R101 Initialisation Step 1 Complete.\n",
      "2019-08-22 14:04:29 - INFO - idaes.core.unit_model - fs.R101 Initialisation Step 2 Complete.\n",
      "2019-08-22 14:04:29 - INFO - idaes.core.unit_model - fs.R101 Initialisation Complete.\n",
      "2019-08-22 14:04:29 - INFO - idaes.core.unit_model - fs.F101 Initialisation Step 1 Complete.\n",
      "2019-08-22 14:04:29 - INFO - idaes.core.unit_model - fs.F101 Initialisation Step 2 Complete.\n",
      "2019-08-22 14:04:29 - INFO - idaes.core.unit_model - fs.F101 Initialisation Complete.\n",
      "2019-08-22 14:04:29 - INFO - idaes.unit_models.separator - fs.S101 Initialisation Complete.\n",
      "2019-08-22 14:04:29 - INFO - idaes.core.unit_model - fs.C101 Initialisation Step 1 Complete.\n",
      "2019-08-22 14:04:29 - INFO - idaes.core.unit_model - fs.C101 Initialisation Step 2 Complete.\n",
      "2019-08-22 14:04:29 - INFO - idaes.core.unit_model - fs.C101 Initialisation Complete.\n",
      "2019-08-22 14:04:29 - INFO - idaes.unit_models.mixer - fs.M101 Initialisation Complete.\n",
      "2019-08-22 14:04:29 - INFO - idaes.core.unit_model - fs.H101 Initialisation Step 1 Complete.\n",
      "2019-08-22 14:04:29 - INFO - idaes.core.unit_model - fs.H101 Initialisation Step 2 Complete.\n",
      "2019-08-22 14:04:29 - INFO - idaes.core.unit_model - fs.H101 Initialisation Complete.\n",
      "2019-08-22 14:04:29 - INFO - idaes.core.unit_model - fs.R101 Initialisation Step 1 Complete.\n",
      "2019-08-22 14:04:29 - INFO - idaes.core.unit_model - fs.R101 Initialisation Step 2 Complete.\n",
      "2019-08-22 14:04:29 - INFO - idaes.core.unit_model - fs.R101 Initialisation Complete.\n",
      "2019-08-22 14:04:29 - INFO - idaes.core.unit_model - fs.F101 Initialisation Step 1 Complete.\n",
      "2019-08-22 14:04:29 - INFO - idaes.core.unit_model - fs.F101 Initialisation Step 2 Complete.\n",
      "2019-08-22 14:04:29 - INFO - idaes.core.unit_model - fs.F101 Initialisation Complete.\n",
      "2019-08-22 14:04:29 - INFO - idaes.unit_models.separator - fs.S101 Initialisation Complete.\n",
      "2019-08-22 14:04:30 - INFO - idaes.core.unit_model - fs.C101 Initialisation Step 1 Complete.\n",
      "2019-08-22 14:04:30 - INFO - idaes.core.unit_model - fs.C101 Initialisation Step 2 Complete.\n",
      "2019-08-22 14:04:30 - INFO - idaes.core.unit_model - fs.C101 Initialisation Complete.\n",
      "2019-08-22 14:04:30 - INFO - idaes.unit_models.mixer - fs.M101 Initialisation Complete.\n",
      "2019-08-22 14:04:30 - INFO - idaes.core.unit_model - fs.H101 Initialisation Step 1 Complete.\n",
      "2019-08-22 14:04:30 - INFO - idaes.core.unit_model - fs.H101 Initialisation Step 2 Complete.\n",
      "2019-08-22 14:04:30 - INFO - idaes.core.unit_model - fs.H101 Initialisation Complete.\n",
      "2019-08-22 14:04:30 - INFO - idaes.core.unit_model - fs.R101 Initialisation Step 1 Complete.\n",
      "2019-08-22 14:04:30 - INFO - idaes.core.unit_model - fs.R101 Initialisation Step 2 Complete.\n",
      "2019-08-22 14:04:30 - INFO - idaes.core.unit_model - fs.R101 Initialisation Complete.\n",
      "2019-08-22 14:04:30 - INFO - idaes.core.unit_model - fs.F101 Initialisation Step 1 Complete.\n",
      "2019-08-22 14:04:30 - INFO - idaes.core.unit_model - fs.F101 Initialisation Step 2 Complete.\n",
      "2019-08-22 14:04:30 - INFO - idaes.core.unit_model - fs.F101 Initialisation Complete.\n",
      "2019-08-22 14:04:30 - INFO - idaes.unit_models.separator - fs.S101 Initialisation Complete.\n",
      "2019-08-22 14:04:30 - INFO - idaes.core.unit_model - fs.C101 Initialisation Step 1 Complete.\n",
      "2019-08-22 14:04:30 - INFO - idaes.core.unit_model - fs.C101 Initialisation Step 2 Complete.\n",
      "2019-08-22 14:04:30 - INFO - idaes.core.unit_model - fs.C101 Initialisation Complete.\n",
      "2019-08-22 14:04:30 - INFO - idaes.unit_models.mixer - fs.M101 Initialisation Complete.\n",
      "WARNING: Wegstein failed to converge in 5 iterations\n",
      "2019-08-22 14:04:30 - INFO - idaes.core.unit_model - fs.F102 Initialisation Step 1 Complete.\n",
      "2019-08-22 14:04:30 - INFO - idaes.core.unit_model - fs.F102 Initialisation Step 2 Complete.\n",
      "2019-08-22 14:04:30 - INFO - idaes.core.unit_model - fs.F102 Initialisation Complete.\n"
     ]
    }
   ],
   "source": [
    "seq.run(m, function)"
   ]
  },
  {
   "cell_type": "markdown",
   "metadata": {},
   "source": [
    "<div class=\"alert alert-block alert-info\">\n",
    "<b>Inline Exercise:</b>\n",
    "We have now initialized the flowsheet. Let us run the flowsheet in a simulation mode to look at the results. To do this, complete the last line of code where we pass the model to the solver. You will need to type the following:\n",
    "    \n",
    "results = solver.solve(m, tee=True)\n",
    "\n",
    "Use Shift+Enter to run the cell once you have typed in your code. \n",
    "</div>\n",
    "\n"
   ]
  },
  {
   "cell_type": "code",
   "execution_count": 37,
   "metadata": {},
   "outputs": [],
   "source": [
    "# Create the solver object\n",
    "solver = SolverFactory('ipopt')\n",
    "solver.options = {'tol': 1e-6, 'max_iter': 5000}\n",
    "\n",
    "# Solve the model\n",
    "results = solver.solve(m, tee=False)"
   ]
  },
  {
   "cell_type": "code",
   "execution_count": 38,
   "metadata": {},
   "outputs": [],
   "source": [
    "# For testing purposes\n",
    "from pyomo.environ import TerminationCondition\n",
    "assert results.solver.termination_condition == TerminationCondition.optimal"
   ]
  },
  {
   "cell_type": "markdown",
   "metadata": {},
   "source": [
    "Analyze the results of the square problem\n",
    "-------------------------\n",
    "\n",
    "What is the total operating cost? "
   ]
  },
  {
   "cell_type": "code",
   "execution_count": 39,
   "metadata": {},
   "outputs": [
    {
     "name": "stdout",
     "output_type": "stream",
     "text": [
      "operating cost = $ 419122.3387677944\n"
     ]
    }
   ],
   "source": [
    "print('operating cost = $', value(m.fs.operating_cost))"
   ]
  },
  {
   "cell_type": "markdown",
   "metadata": {},
   "source": [
    "For this operating cost, what is the amount of benzene we are able to produce and what purity we are able to achieve? "
   ]
  },
  {
   "cell_type": "code",
   "execution_count": 40,
   "metadata": {},
   "outputs": [
    {
     "name": "stdout",
     "output_type": "stream",
     "text": [
      "\n",
      "====================================================================================\n",
      "Unit : fs.F102                                                             Time: 0.0\n",
      "------------------------------------------------------------------------------------\n",
      "    Unit Performance\n",
      "\n",
      "    Variables: \n",
      "\n",
      "    Key             : Value       : Fixed : Bounds\n",
      "          Heat Duty :      7352.5 : False : (None, None)\n",
      "    Pressure Change : -2.0000e+05 :  True : (None, None)\n",
      "\n",
      "------------------------------------------------------------------------------------\n",
      "    Stream Table\n",
      "                                               Inlet    Vapor Outlet  Liquid Outlet\n",
      "    flow_mol_phase_comp ('Liq', 'benzene')     0.20460   1.0000e-08      0.062620  \n",
      "    flow_mol_phase_comp ('Liq', 'toluene')    0.062520   1.0000e-08      0.032257  \n",
      "    flow_mol_phase_comp ('Liq', 'hydrogen') 2.6712e-07   1.0000e-08    9.4877e-08  \n",
      "    flow_mol_phase_comp ('Liq', 'methane')  2.6712e-07   1.0000e-08    9.4877e-08  \n",
      "    flow_mol_phase_comp ('Vap', 'benzene')  1.0000e-08      0.14198    1.0000e-08  \n",
      "    flow_mol_phase_comp ('Vap', 'toluene')  1.0000e-08     0.030264    1.0000e-08  \n",
      "    flow_mol_phase_comp ('Vap', 'hydrogen') 1.0000e-08   1.8224e-07    1.0000e-08  \n",
      "    flow_mol_phase_comp ('Vap', 'methane')  1.0000e-08   1.8224e-07    1.0000e-08  \n",
      "    temperature                                 325.00       375.00        375.00  \n",
      "    pressure                                3.5000e+05   1.5000e+05    1.5000e+05  \n",
      "====================================================================================\n",
      "\n",
      "benzene purity =  0.8242962943918922\n"
     ]
    }
   ],
   "source": [
    "m.fs.F102.report()\n",
    "\n",
    "print()\n",
    "print('benzene purity = ', value(m.fs.purity))"
   ]
  },
  {
   "cell_type": "markdown",
   "metadata": {},
   "source": [
    "Next, let's look at how much benzene we are loosing with the light gases out of F101. IDAES has tools for creating stream tables based on the `Arcs` and/or `Ports` in a flowsheet. Let us create and print a simple stream table showing the stream leaving the reactor and the vapor stream from F101.\n",
    "\n",
    "<div class=\"alert alert-block alert-info\">\n",
    "<b>Inline Exercise:</b>\n",
    "How much benzene are we losing in the F101 vapor outlet stream?\n",
    "</div>\n"
   ]
  },
  {
   "cell_type": "code",
   "execution_count": 56,
   "metadata": {},
   "outputs": [
    {
     "data": {
      "text/html": [
       "<div>\n",
       "<style scoped>\n",
       "    .dataframe tbody tr th:only-of-type {\n",
       "        vertical-align: middle;\n",
       "    }\n",
       "\n",
       "    .dataframe tbody tr th {\n",
       "        vertical-align: top;\n",
       "    }\n",
       "\n",
       "    .dataframe thead th {\n",
       "        text-align: right;\n",
       "    }\n",
       "</style>\n",
       "<table border=\"1\" class=\"dataframe\">\n",
       "  <thead>\n",
       "    <tr style=\"text-align: right;\">\n",
       "      <th></th>\n",
       "      <th>Reactor</th>\n",
       "      <th>Light Gases</th>\n",
       "    </tr>\n",
       "  </thead>\n",
       "  <tbody>\n",
       "    <tr>\n",
       "      <th>flow_mol_phase_comp ('Liq', 'benzene')</th>\n",
       "      <td>1.299319e-07</td>\n",
       "      <td>1.000000e-08</td>\n",
       "    </tr>\n",
       "    <tr>\n",
       "      <th>flow_mol_phase_comp ('Liq', 'toluene')</th>\n",
       "      <td>8.414729e-07</td>\n",
       "      <td>1.000000e-08</td>\n",
       "    </tr>\n",
       "    <tr>\n",
       "      <th>flow_mol_phase_comp ('Liq', 'hydrogen')</th>\n",
       "      <td>1.000000e-08</td>\n",
       "      <td>1.000000e-08</td>\n",
       "    </tr>\n",
       "    <tr>\n",
       "      <th>flow_mol_phase_comp ('Liq', 'methane')</th>\n",
       "      <td>1.000000e-08</td>\n",
       "      <td>1.000000e-08</td>\n",
       "    </tr>\n",
       "    <tr>\n",
       "      <th>flow_mol_phase_comp ('Vap', 'benzene')</th>\n",
       "      <td>3.537437e-01</td>\n",
       "      <td>1.491452e-01</td>\n",
       "    </tr>\n",
       "    <tr>\n",
       "      <th>flow_mol_phase_comp ('Vap', 'toluene')</th>\n",
       "      <td>7.812921e-02</td>\n",
       "      <td>1.560960e-02</td>\n",
       "    </tr>\n",
       "    <tr>\n",
       "      <th>flow_mol_phase_comp ('Vap', 'hydrogen')</th>\n",
       "      <td>3.282108e-01</td>\n",
       "      <td>3.282105e-01</td>\n",
       "    </tr>\n",
       "    <tr>\n",
       "      <th>flow_mol_phase_comp ('Vap', 'methane')</th>\n",
       "      <td>1.272087e+00</td>\n",
       "      <td>1.272087e+00</td>\n",
       "    </tr>\n",
       "    <tr>\n",
       "      <th>temperature</th>\n",
       "      <td>7.718459e+02</td>\n",
       "      <td>3.250000e+02</td>\n",
       "    </tr>\n",
       "    <tr>\n",
       "      <th>pressure</th>\n",
       "      <td>3.500000e+05</td>\n",
       "      <td>3.500000e+05</td>\n",
       "    </tr>\n",
       "  </tbody>\n",
       "</table>\n",
       "</div>"
      ],
      "text/plain": [
       "                                              Reactor   Light Gases\n",
       "flow_mol_phase_comp ('Liq', 'benzene')   1.299319e-07  1.000000e-08\n",
       "flow_mol_phase_comp ('Liq', 'toluene')   8.414729e-07  1.000000e-08\n",
       "flow_mol_phase_comp ('Liq', 'hydrogen')  1.000000e-08  1.000000e-08\n",
       "flow_mol_phase_comp ('Liq', 'methane')   1.000000e-08  1.000000e-08\n",
       "flow_mol_phase_comp ('Vap', 'benzene')   3.537437e-01  1.491452e-01\n",
       "flow_mol_phase_comp ('Vap', 'toluene')   7.812921e-02  1.560960e-02\n",
       "flow_mol_phase_comp ('Vap', 'hydrogen')  3.282108e-01  3.282105e-01\n",
       "flow_mol_phase_comp ('Vap', 'methane')   1.272087e+00  1.272087e+00\n",
       "temperature                              7.718459e+02  3.250000e+02\n",
       "pressure                                 3.500000e+05  3.500000e+05"
      ]
     },
     "execution_count": 56,
     "metadata": {},
     "output_type": "execute_result"
    }
   ],
   "source": [
    "from idaes.core.util.tables import create_stream_table_dataframe, stream_table_dataframe_to_string\n",
    "\n",
    "st = create_stream_table_dataframe({\"Reactor\": m.fs.s05, \"Light Gases\": m.fs.s06})\n",
    "st"
   ]
  },
  {
   "cell_type": "markdown",
   "metadata": {},
   "source": [
    "<div class=\"alert alert-block alert-info\">\n",
    "<b>Inline Exercise:</b>\n",
    "You can querry additional variables here if you like. \n",
    "\n",
    "Use Shift+Enter to run the cell once you have typed in your code. \n",
    "</div>\n"
   ]
  }
 ],
 "metadata": {
  "kernelspec": {
   "display_name": "Python 3",
   "language": "python",
   "name": "python3"
  },
  "language_info": {
   "codemirror_mode": {
    "name": "ipython",
    "version": 3
   },
   "file_extension": ".py",
   "mimetype": "text/x-python",
   "name": "python",
   "nbconvert_exporter": "python",
   "pygments_lexer": "ipython3",
   "version": "3.6.7"
  }
 },
 "nbformat": 4,
 "nbformat_minor": 4
}
